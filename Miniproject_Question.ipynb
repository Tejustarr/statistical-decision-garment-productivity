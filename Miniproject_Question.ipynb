{
  "cells": [
    {
      "cell_type": "markdown",
      "id": "cc263720",
      "metadata": {
        "id": "cc263720"
      },
      "source": [
        "The data set given for the project is from \"https://archive beta.ics.uci.edu/ml/datasets/productivity+prediction+of+garment+employees\"  and is cited as Productivity Prediction of Garment Employees. (2020). UCI Machine Learning Repository. . The data file is attached as csv file. The following are details being provided . The data contains details on actual productivty of a garment industry, the data has been recorded on a day to day basis from the year 2015 to almost year end of 2015. Each quarter represents one week in a month. The days beyond 28 days are considered as quarter 5 which can be ignored. The data set at first needs to be examined and the structure of the data set needs to be understood. The data has been recorded in terms of the following details\n",
        "    1. Date\n",
        "    2. Quarter (Four Quarters)\n",
        "    3. Department (Sewing and Finishing)\n",
        "    4. Day (Please note the way data is recorded is that based on a dept and productivity is recorded for various lines in each dept, hence you would find multiple productivity recorded for each combination of vairables such as team, dept, smv, date)\n",
        "    5. Team\n",
        "    6. Targeted_Producitivity (Target which needs to be achieved)\n",
        "    7. SMV (Standard Minute Value) : Standard time for a Task in this case you can take standard time to complete a garment\n",
        "    8. WIP (Work in progress)\n",
        "    9. Over_time\n",
        "    10. Incentive\n",
        "    11. Idle_time\n",
        "    12. Idle_men (Idle workers)\n",
        "    13. no_of_style_change\n",
        "    14. no_of_workers\n",
        "    15. Actual_Producitivity\n",
        "The aim is of this project is to obtain an understanding of the data and decipher the relationship among the variables, understanding what possible variables can affect producivity which can be whether overtime or team size or number of worker or department type or a day (like monday ect...) ect.. have an effect.\n",
        "\n",
        "Suppose the manager is interested in the following questions\n",
        "\n",
        "Exploratory Data Analysis & Descriptive Statistics\n",
        "\n",
        "1. Basic Summary statistics of the data for the numerical variables\n",
        "2. basic Summary of the data for the number of working days, count of quarters in the year\n",
        "3. Mean and standard deviation of actual producivity for every quarter and Histogram plot of actual productivity based on every quarter and conclusion accordingly\n",
        "4. Number count for sewing and finishing department\n",
        "5. Mean and standard deviation of actual producivity for sewing and finishing Histogram plot of actual productivity based on both department and conclusion accordingly\n",
        "6. Number count for  teams, smv across the year\n",
        "7. Histogram & Box plot of actual productivity based on all working days, team size, quarterts and  Conclude accordingly\n",
        "8. Find correlation matrix and draw heat map for all variables\n",
        "9. Conclude (Is the company able to meet target, are they giving incentives based on producitivity, does overtime have any effect on productivity)\n",
        "10. Find the correlation between actual and target productivity for every quarter and for every department. What do you conclude\n",
        "11. Based on the above details of EDA and Descriptive statisitcs analysis what would you say could be the possible factors which can affect producitivity.\n",
        "\n",
        "Hypothesis Testing\n",
        "\n",
        "12. Test using Z test (take a random sample of more than 30 and assume sigma =.1) whether the finishing department has achieved more acheived producitivity than .75 for a standard deviation of .1. State your null and alternative hypothesis. alpha value is .05\n",
        "\n",
        "13. Test using Z test(take a random sample of more than 30 and assume sigma =.1) whether the sewing department has achieved more producitivit than .75 for a standard deviation of .1. State your null and alternative hypothesis. alpha value is .05.\n",
        "\n",
        "14. Conduct a two sample t test (take a random sample more than 30) to check whether the finishing department has achieved more actual productivtiy than sewing     department. State your null and alternative hypothesis\n",
        "\n",
        "15. Conduct a two sample t (take a random sample less than 30) test to check whether the finishing department has achieved obtained higher incentive than sewing department, state your null and alternative hypothesis. In case test fails for normality check, then take a sample more than 30.\n",
        "\n",
        "16. The manager has asked you to classifiy low productivity as less than .5, medium between .5 and less than .75 and higher\n",
        "    as greater than or equal to .75. He believes that the percentage of  actual producvity  in  sewing departemnt for   \n",
        "    person classified as low is 30%, for medium is 40% and for high is 30%. USing chi square test can you prove whether his\n",
        "    hypothesis is right or not\n",
        "\n",
        "17. Based on the EDA analysis the manager has decided to find out whether different quarters are having an impact on actual productivity. Assuming normality of data conduct an analysis accordingly Conduct an ANOVA for comparing productivity for Quarter1, Quarter2, Quarter3, Quarter 4 and accordingly conclude (Assume data is normally distributed)\n",
        "\n",
        "18. In case the manager is interested whether day and quarters have an impact on actual producitivity, provide an analysis and identify which factors play a role in affecting productivty\n",
        "\n",
        "19. Based on 17 eliminate one of the variabes which is not significant and reconduct analysis using deparment as another variable, what do you conclude.\n",
        "\n",
        "20. Based on EDA and Hypothesis would you aggree or disaggree with the finding, also in addition summarize the findings based on both analysis and provide a recommendation on what you can thinking on improving the producitivity."
      ]
    },
    {
      "cell_type": "code",
      "execution_count": 1,
      "id": "796c912d",
      "metadata": {
        "id": "796c912d"
      },
      "outputs": [],
      "source": [
        "import numpy as np\n",
        "import pandas as pd\n",
        "import seaborn as sns\n",
        "import matplotlib.pyplot as plt\n",
        "import scipy.stats as stats\n",
        "from scipy.stats import f_oneway\n",
        "# import statsmodels\n",
        "import statsmodels.api as sm\n",
        "from statsmodels.formula.api import ols\n",
        "from statsmodels.stats.anova import anova_lm\n",
        "# import the functions to perform Chi-square tests\n",
        "from scipy.stats import chi2_contingency\n",
        "from scipy.stats import chi2\n",
        "from scipy.stats import chisquare\n",
        "import plotly.express as px\n"
      ]
    },
    {
      "cell_type": "code",
      "execution_count": 2,
      "id": "95ca37e7",
      "metadata": {},
      "outputs": [],
      "source": [
        "df = pd.read_csv('Data/garments_worker_productivity.csv')"
      ]
    },
    {
      "cell_type": "code",
      "execution_count": 3,
      "id": "0ee9b1ab",
      "metadata": {},
      "outputs": [
        {
          "data": {
            "text/html": [
              "<div>\n",
              "<style scoped>\n",
              "    .dataframe tbody tr th:only-of-type {\n",
              "        vertical-align: middle;\n",
              "    }\n",
              "\n",
              "    .dataframe tbody tr th {\n",
              "        vertical-align: top;\n",
              "    }\n",
              "\n",
              "    .dataframe thead th {\n",
              "        text-align: right;\n",
              "    }\n",
              "</style>\n",
              "<table border=\"1\" class=\"dataframe\">\n",
              "  <thead>\n",
              "    <tr style=\"text-align: right;\">\n",
              "      <th></th>\n",
              "      <th>date</th>\n",
              "      <th>quarter</th>\n",
              "      <th>department</th>\n",
              "      <th>day</th>\n",
              "      <th>team</th>\n",
              "      <th>targeted_productivity</th>\n",
              "      <th>smv</th>\n",
              "      <th>wip</th>\n",
              "      <th>over_time</th>\n",
              "      <th>incentive</th>\n",
              "      <th>idle_time</th>\n",
              "      <th>idle_men</th>\n",
              "      <th>no_of_style_change</th>\n",
              "      <th>no_of_workers</th>\n",
              "      <th>actual_productivity</th>\n",
              "    </tr>\n",
              "  </thead>\n",
              "  <tbody>\n",
              "    <tr>\n",
              "      <th>0</th>\n",
              "      <td>01-01-2015</td>\n",
              "      <td>Quarter1</td>\n",
              "      <td>sewing</td>\n",
              "      <td>Thursday</td>\n",
              "      <td>8</td>\n",
              "      <td>0.80</td>\n",
              "      <td>26.16</td>\n",
              "      <td>1108.0</td>\n",
              "      <td>7080</td>\n",
              "      <td>98</td>\n",
              "      <td>0.0</td>\n",
              "      <td>0</td>\n",
              "      <td>0</td>\n",
              "      <td>59.0</td>\n",
              "      <td>0.940725</td>\n",
              "    </tr>\n",
              "    <tr>\n",
              "      <th>1</th>\n",
              "      <td>01-01-2015</td>\n",
              "      <td>Quarter1</td>\n",
              "      <td>finishing</td>\n",
              "      <td>Thursday</td>\n",
              "      <td>1</td>\n",
              "      <td>0.75</td>\n",
              "      <td>3.94</td>\n",
              "      <td>NaN</td>\n",
              "      <td>960</td>\n",
              "      <td>0</td>\n",
              "      <td>0.0</td>\n",
              "      <td>0</td>\n",
              "      <td>0</td>\n",
              "      <td>8.0</td>\n",
              "      <td>0.886500</td>\n",
              "    </tr>\n",
              "    <tr>\n",
              "      <th>2</th>\n",
              "      <td>01-01-2015</td>\n",
              "      <td>Quarter1</td>\n",
              "      <td>sewing</td>\n",
              "      <td>Thursday</td>\n",
              "      <td>11</td>\n",
              "      <td>0.80</td>\n",
              "      <td>11.41</td>\n",
              "      <td>968.0</td>\n",
              "      <td>3660</td>\n",
              "      <td>50</td>\n",
              "      <td>0.0</td>\n",
              "      <td>0</td>\n",
              "      <td>0</td>\n",
              "      <td>30.5</td>\n",
              "      <td>0.800570</td>\n",
              "    </tr>\n",
              "    <tr>\n",
              "      <th>3</th>\n",
              "      <td>01-01-2015</td>\n",
              "      <td>Quarter1</td>\n",
              "      <td>sewing</td>\n",
              "      <td>Thursday</td>\n",
              "      <td>12</td>\n",
              "      <td>0.80</td>\n",
              "      <td>11.41</td>\n",
              "      <td>968.0</td>\n",
              "      <td>3660</td>\n",
              "      <td>50</td>\n",
              "      <td>0.0</td>\n",
              "      <td>0</td>\n",
              "      <td>0</td>\n",
              "      <td>30.5</td>\n",
              "      <td>0.800570</td>\n",
              "    </tr>\n",
              "    <tr>\n",
              "      <th>4</th>\n",
              "      <td>01-01-2015</td>\n",
              "      <td>Quarter1</td>\n",
              "      <td>sewing</td>\n",
              "      <td>Thursday</td>\n",
              "      <td>6</td>\n",
              "      <td>0.80</td>\n",
              "      <td>25.90</td>\n",
              "      <td>1170.0</td>\n",
              "      <td>1920</td>\n",
              "      <td>50</td>\n",
              "      <td>0.0</td>\n",
              "      <td>0</td>\n",
              "      <td>0</td>\n",
              "      <td>56.0</td>\n",
              "      <td>0.800382</td>\n",
              "    </tr>\n",
              "  </tbody>\n",
              "</table>\n",
              "</div>"
            ],
            "text/plain": [
              "         date   quarter department       day  team  targeted_productivity  \\\n",
              "0  01-01-2015  Quarter1     sewing  Thursday     8                   0.80   \n",
              "1  01-01-2015  Quarter1  finishing  Thursday     1                   0.75   \n",
              "2  01-01-2015  Quarter1     sewing  Thursday    11                   0.80   \n",
              "3  01-01-2015  Quarter1     sewing  Thursday    12                   0.80   \n",
              "4  01-01-2015  Quarter1     sewing  Thursday     6                   0.80   \n",
              "\n",
              "     smv     wip  over_time  incentive  idle_time  idle_men  \\\n",
              "0  26.16  1108.0       7080         98        0.0         0   \n",
              "1   3.94     NaN        960          0        0.0         0   \n",
              "2  11.41   968.0       3660         50        0.0         0   \n",
              "3  11.41   968.0       3660         50        0.0         0   \n",
              "4  25.90  1170.0       1920         50        0.0         0   \n",
              "\n",
              "   no_of_style_change  no_of_workers  actual_productivity  \n",
              "0                   0           59.0             0.940725  \n",
              "1                   0            8.0             0.886500  \n",
              "2                   0           30.5             0.800570  \n",
              "3                   0           30.5             0.800570  \n",
              "4                   0           56.0             0.800382  "
            ]
          },
          "execution_count": 3,
          "metadata": {},
          "output_type": "execute_result"
        }
      ],
      "source": [
        "df.head()"
      ]
    },
    {
      "cell_type": "code",
      "execution_count": 4,
      "id": "49a5d270",
      "metadata": {},
      "outputs": [
        {
          "name": "stdout",
          "output_type": "stream",
          "text": [
            "<class 'pandas.core.frame.DataFrame'>\n",
            "RangeIndex: 1197 entries, 0 to 1196\n",
            "Data columns (total 15 columns):\n",
            " #   Column                 Non-Null Count  Dtype  \n",
            "---  ------                 --------------  -----  \n",
            " 0   date                   1197 non-null   object \n",
            " 1   quarter                1197 non-null   object \n",
            " 2   department             1197 non-null   object \n",
            " 3   day                    1197 non-null   object \n",
            " 4   team                   1197 non-null   int64  \n",
            " 5   targeted_productivity  1197 non-null   float64\n",
            " 6   smv                    1197 non-null   float64\n",
            " 7   wip                    691 non-null    float64\n",
            " 8   over_time              1197 non-null   int64  \n",
            " 9   incentive              1197 non-null   int64  \n",
            " 10  idle_time              1197 non-null   float64\n",
            " 11  idle_men               1197 non-null   int64  \n",
            " 12  no_of_style_change     1197 non-null   int64  \n",
            " 13  no_of_workers          1197 non-null   float64\n",
            " 14  actual_productivity    1197 non-null   float64\n",
            "dtypes: float64(6), int64(5), object(4)\n",
            "memory usage: 140.4+ KB\n"
          ]
        }
      ],
      "source": [
        "df.info()"
      ]
    },
    {
      "cell_type": "markdown",
      "id": "60ef4eb2",
      "metadata": {
        "id": "60ef4eb2"
      },
      "source": [
        "Exploratory Data Analysis & Descriptive Statistics\n",
        "\n",
        "1. Basic Summary statistics of the data for the numerical variables\n",
        "2. basic Summary of the data for the number of working days, count of quarters in the year\n",
        "3. Mean and standard deviation of actual producivity for every quarter and Histogram plot of actual productivity based on every quarter and conclusion accordingly\n",
        "4. Number count for sewing and finishing department\n",
        "5. Mean and standard deviation of actual producivity for sewing and finishing Histogram plot of actual productivity based on both department and conclusion accordingly\n",
        "6. Number count for  teams, smv across the year\n",
        "7. Histogram & Box plot of actual productivity based on all working days, team size, quarterts and  Conclude accordingly\n",
        "8. Find correlation matrix and draw heat map for all variables\n",
        "9. Conclude (Is the company able to meet target, are they giving incentives based on producitivity, does overtime have any effect on productivity)\n",
        "10. Find the correlation between actual and target productivity for every quarter and for every department. What do you conclude\n",
        "11. Based on the above details of EDA and Descriptive statisitcs analysis what would you say could be the possible factors which can affect producitivity."
      ]
    },
    {
      "cell_type": "code",
      "execution_count": 5,
      "id": "6f57fb29",
      "metadata": {},
      "outputs": [
        {
          "name": "stdout",
          "output_type": "stream",
          "text": [
            "\n",
            "Basic Summary Statistics (Numerical Variables):\n"
          ]
        },
        {
          "data": {
            "text/html": [
              "<div>\n",
              "<style scoped>\n",
              "    .dataframe tbody tr th:only-of-type {\n",
              "        vertical-align: middle;\n",
              "    }\n",
              "\n",
              "    .dataframe tbody tr th {\n",
              "        vertical-align: top;\n",
              "    }\n",
              "\n",
              "    .dataframe thead th {\n",
              "        text-align: right;\n",
              "    }\n",
              "</style>\n",
              "<table border=\"1\" class=\"dataframe\">\n",
              "  <thead>\n",
              "    <tr style=\"text-align: right;\">\n",
              "      <th></th>\n",
              "      <th>count</th>\n",
              "      <th>mean</th>\n",
              "      <th>std</th>\n",
              "      <th>min</th>\n",
              "      <th>25%</th>\n",
              "      <th>50%</th>\n",
              "      <th>75%</th>\n",
              "      <th>max</th>\n",
              "    </tr>\n",
              "  </thead>\n",
              "  <tbody>\n",
              "    <tr>\n",
              "      <th>team</th>\n",
              "      <td>1197.0</td>\n",
              "      <td>6.426901</td>\n",
              "      <td>3.463963</td>\n",
              "      <td>1.000000</td>\n",
              "      <td>3.000000</td>\n",
              "      <td>6.000000</td>\n",
              "      <td>9.000000</td>\n",
              "      <td>12.000000</td>\n",
              "    </tr>\n",
              "    <tr>\n",
              "      <th>targeted_productivity</th>\n",
              "      <td>1197.0</td>\n",
              "      <td>0.729632</td>\n",
              "      <td>0.097891</td>\n",
              "      <td>0.070000</td>\n",
              "      <td>0.700000</td>\n",
              "      <td>0.750000</td>\n",
              "      <td>0.800000</td>\n",
              "      <td>0.800000</td>\n",
              "    </tr>\n",
              "    <tr>\n",
              "      <th>smv</th>\n",
              "      <td>1197.0</td>\n",
              "      <td>15.062172</td>\n",
              "      <td>10.943219</td>\n",
              "      <td>2.900000</td>\n",
              "      <td>3.940000</td>\n",
              "      <td>15.260000</td>\n",
              "      <td>24.260000</td>\n",
              "      <td>54.560000</td>\n",
              "    </tr>\n",
              "    <tr>\n",
              "      <th>wip</th>\n",
              "      <td>691.0</td>\n",
              "      <td>1190.465991</td>\n",
              "      <td>1837.455001</td>\n",
              "      <td>7.000000</td>\n",
              "      <td>774.500000</td>\n",
              "      <td>1039.000000</td>\n",
              "      <td>1252.500000</td>\n",
              "      <td>23122.000000</td>\n",
              "    </tr>\n",
              "    <tr>\n",
              "      <th>over_time</th>\n",
              "      <td>1197.0</td>\n",
              "      <td>4567.460317</td>\n",
              "      <td>3348.823563</td>\n",
              "      <td>0.000000</td>\n",
              "      <td>1440.000000</td>\n",
              "      <td>3960.000000</td>\n",
              "      <td>6960.000000</td>\n",
              "      <td>25920.000000</td>\n",
              "    </tr>\n",
              "    <tr>\n",
              "      <th>incentive</th>\n",
              "      <td>1197.0</td>\n",
              "      <td>38.210526</td>\n",
              "      <td>160.182643</td>\n",
              "      <td>0.000000</td>\n",
              "      <td>0.000000</td>\n",
              "      <td>0.000000</td>\n",
              "      <td>50.000000</td>\n",
              "      <td>3600.000000</td>\n",
              "    </tr>\n",
              "    <tr>\n",
              "      <th>idle_time</th>\n",
              "      <td>1197.0</td>\n",
              "      <td>0.730159</td>\n",
              "      <td>12.709757</td>\n",
              "      <td>0.000000</td>\n",
              "      <td>0.000000</td>\n",
              "      <td>0.000000</td>\n",
              "      <td>0.000000</td>\n",
              "      <td>300.000000</td>\n",
              "    </tr>\n",
              "    <tr>\n",
              "      <th>idle_men</th>\n",
              "      <td>1197.0</td>\n",
              "      <td>0.369256</td>\n",
              "      <td>3.268987</td>\n",
              "      <td>0.000000</td>\n",
              "      <td>0.000000</td>\n",
              "      <td>0.000000</td>\n",
              "      <td>0.000000</td>\n",
              "      <td>45.000000</td>\n",
              "    </tr>\n",
              "    <tr>\n",
              "      <th>no_of_style_change</th>\n",
              "      <td>1197.0</td>\n",
              "      <td>0.150376</td>\n",
              "      <td>0.427848</td>\n",
              "      <td>0.000000</td>\n",
              "      <td>0.000000</td>\n",
              "      <td>0.000000</td>\n",
              "      <td>0.000000</td>\n",
              "      <td>2.000000</td>\n",
              "    </tr>\n",
              "    <tr>\n",
              "      <th>no_of_workers</th>\n",
              "      <td>1197.0</td>\n",
              "      <td>34.609858</td>\n",
              "      <td>22.197687</td>\n",
              "      <td>2.000000</td>\n",
              "      <td>9.000000</td>\n",
              "      <td>34.000000</td>\n",
              "      <td>57.000000</td>\n",
              "      <td>89.000000</td>\n",
              "    </tr>\n",
              "    <tr>\n",
              "      <th>actual_productivity</th>\n",
              "      <td>1197.0</td>\n",
              "      <td>0.735091</td>\n",
              "      <td>0.174488</td>\n",
              "      <td>0.233705</td>\n",
              "      <td>0.650307</td>\n",
              "      <td>0.773333</td>\n",
              "      <td>0.850253</td>\n",
              "      <td>1.120437</td>\n",
              "    </tr>\n",
              "  </tbody>\n",
              "</table>\n",
              "</div>"
            ],
            "text/plain": [
              "                        count         mean          std       min  \\\n",
              "team                   1197.0     6.426901     3.463963  1.000000   \n",
              "targeted_productivity  1197.0     0.729632     0.097891  0.070000   \n",
              "smv                    1197.0    15.062172    10.943219  2.900000   \n",
              "wip                     691.0  1190.465991  1837.455001  7.000000   \n",
              "over_time              1197.0  4567.460317  3348.823563  0.000000   \n",
              "incentive              1197.0    38.210526   160.182643  0.000000   \n",
              "idle_time              1197.0     0.730159    12.709757  0.000000   \n",
              "idle_men               1197.0     0.369256     3.268987  0.000000   \n",
              "no_of_style_change     1197.0     0.150376     0.427848  0.000000   \n",
              "no_of_workers          1197.0    34.609858    22.197687  2.000000   \n",
              "actual_productivity    1197.0     0.735091     0.174488  0.233705   \n",
              "\n",
              "                               25%          50%          75%           max  \n",
              "team                      3.000000     6.000000     9.000000     12.000000  \n",
              "targeted_productivity     0.700000     0.750000     0.800000      0.800000  \n",
              "smv                       3.940000    15.260000    24.260000     54.560000  \n",
              "wip                     774.500000  1039.000000  1252.500000  23122.000000  \n",
              "over_time              1440.000000  3960.000000  6960.000000  25920.000000  \n",
              "incentive                 0.000000     0.000000    50.000000   3600.000000  \n",
              "idle_time                 0.000000     0.000000     0.000000    300.000000  \n",
              "idle_men                  0.000000     0.000000     0.000000     45.000000  \n",
              "no_of_style_change        0.000000     0.000000     0.000000      2.000000  \n",
              "no_of_workers             9.000000    34.000000    57.000000     89.000000  \n",
              "actual_productivity       0.650307     0.773333     0.850253      1.120437  "
            ]
          },
          "execution_count": 5,
          "metadata": {},
          "output_type": "execute_result"
        }
      ],
      "source": [
        "# ===========================================================\n",
        "# 1. Basic Summary statistics for numerical variables\n",
        "# ===========================================================\n",
        "print(\"\\nBasic Summary Statistics (Numerical Variables):\")\n",
        "df.describe().T\n"
      ]
    },
    {
      "cell_type": "code",
      "execution_count": 6,
      "id": "efde1f1c",
      "metadata": {},
      "outputs": [
        {
          "name": "stdout",
          "output_type": "stream",
          "text": [
            "\n",
            "Number of unique working days: 59\n",
            "Quarter-wise record count:\n",
            "quarter\n",
            "Quarter1    360\n",
            "Quarter2    335\n",
            "Quarter4    248\n",
            "Quarter3    210\n",
            "Quarter5     44\n",
            "Name: count, dtype: int64\n"
          ]
        }
      ],
      "source": [
        "\n",
        "# ===========================================================\n",
        "# 2. Number of working days and quarter counts\n",
        "# ===========================================================\n",
        "print(\"\\nNumber of unique working days:\", df['date'].nunique())\n",
        "print(\"Quarter-wise record count:\")\n",
        "print(df['quarter'].value_counts())\n"
      ]
    },
    {
      "cell_type": "code",
      "execution_count": 7,
      "id": "f586f13b",
      "metadata": {},
      "outputs": [
        {
          "name": "stdout",
          "output_type": "stream",
          "text": [
            "\n",
            "Quarter-wise Actual Productivity (Mean & Std Dev):\n",
            "              mean       std\n",
            "quarter                     \n",
            "Quarter1  0.751560  0.161318\n",
            "Quarter2  0.743710  0.171114\n",
            "Quarter3  0.704759  0.175614\n",
            "Quarter4  0.709067  0.185983\n",
            "Quarter5  0.826177  0.183851\n"
          ]
        },
        {
          "data": {
            "application/vnd.plotly.v1+json": {
              "config": {
                "plotlyServerURL": "https://plot.ly"
              },
              "data": [
                {
                  "alignmentgroup": "True",
                  "bingroup": "x",
                  "hovertemplate": "quarter=Quarter1<br>actual_productivity=%{x}<br>count=%{y}<extra></extra>",
                  "legendgroup": "Quarter1",
                  "marker": {
                    "color": "#636efa",
                    "opacity": 0.5,
                    "pattern": {
                      "shape": ""
                    }
                  },
                  "name": "Quarter1",
                  "offsetgroup": "Quarter1",
                  "orientation": "v",
                  "showlegend": true,
                  "type": "histogram",
                  "x": [
                    0.940725424,
                    0.8865,
                    0.800570492,
                    0.800570492,
                    0.800381944,
                    0.800125,
                    0.755166667,
                    0.753683478,
                    0.753097531,
                    0.750427826,
                    0.721126957,
                    0.712205247,
                    0.707045902,
                    0.705916667,
                    0.676666667,
                    0.593055556,
                    0.540729167,
                    0.52118,
                    0.436326389,
                    0.988024691,
                    0.987880435,
                    0.956270833,
                    0.945277778,
                    0.902916667,
                    0.800725314,
                    0.800322936,
                    0.800318644,
                    0.800318644,
                    0.800237288,
                    0.800148649,
                    0.800125,
                    0.800125,
                    0.787299691,
                    0.782447917,
                    0.75024303,
                    0.7018125,
                    0.700134038,
                    0.699965217,
                    0.628333333,
                    0.6253125,
                    0.991388889,
                    0.931645833,
                    0.915229167,
                    0.879714482,
                    0.861679012,
                    0.850569492,
                    0.850436438,
                    0.850345133,
                    0.800598058,
                    0.800318644,
                    0.800237838,
                    0.800030199,
                    0.792104167,
                    0.759228395,
                    0.750348457,
                    0.75024303,
                    0.699965217,
                    0.682708333,
                    0.667604167,
                    0.603432184,
                    0.345833333,
                    0.961059028,
                    0.939513889,
                    0.893663194,
                    0.875390625,
                    0.850569492,
                    0.820833333,
                    0.804416667,
                    0.800684366,
                    0.800684366,
                    0.800318644,
                    0.800250962,
                    0.800246011,
                    0.800246011,
                    0.800076522,
                    0.800076522,
                    0.763375,
                    0.759270833,
                    0.7504,
                    0.75024303,
                    0.676666667,
                    0.664583333,
                    0.600028736,
                    0.966781346,
                    0.936496212,
                    0.899166667,
                    0.888686869,
                    0.858143939,
                    0.850502311,
                    0.850502311,
                    0.809640152,
                    0.805909091,
                    0.800594466,
                    0.800594466,
                    0.800273829,
                    0.800140969,
                    0.800128721,
                    0.800128721,
                    0.80007657,
                    0.750545455,
                    0.750057851,
                    0.681060606,
                    0.649983281,
                    0.61625,
                    0.951420455,
                    0.880530303,
                    0.850502311,
                    0.850502311,
                    0.850136766,
                    0.83,
                    0.827186544,
                    0.813371212,
                    0.805909091,
                    0.804640152,
                    0.800594466,
                    0.800594466,
                    0.800343766,
                    0.800273829,
                    0.800246753,
                    0.800128721,
                    0.8,
                    0.700480831,
                    0.681060606,
                    0.666515152,
                    0.412119835,
                    0.330113636,
                    1.0115625,
                    1.000671304,
                    1.000402055,
                    0.950438596,
                    0.950185965,
                    0.912766667,
                    0.892194444,
                    0.8865,
                    0.850532143,
                    0.85011396,
                    0.845069444,
                    0.750593103,
                    0.750450658,
                    0.702666667,
                    0.700508929,
                    0.651007071,
                    0.466821212,
                    0.411553571,
                    0.314166667,
                    1.000602279,
                    0.994270833,
                    0.900158405,
                    0.90014152,
                    0.900129762,
                    0.85695,
                    0.809236111,
                    0.800401961,
                    0.800393224,
                    0.799963218,
                    0.740444444,
                    0.700398148,
                    0.700354545,
                    0.561979167,
                    0.504596491,
                    0.500801724,
                    0.295307738,
                    0.280333333,
                    0.260978788,
                    1.001416667,
                    1.000018551,
                    0.999995238,
                    0.99485,
                    0.976979167,
                    0.950185965,
                    0.949981609,
                    0.919954545,
                    0.800434622,
                    0.800259023,
                    0.778222222,
                    0.750593103,
                    0.700513566,
                    0.700184577,
                    0.586465465,
                    0.541517857,
                    0.5375,
                    0.495416667,
                    0.415172414,
                    1.05028058,
                    1.000230409,
                    0.999995238,
                    0.966759259,
                    0.929183333,
                    0.915766667,
                    0.900147246,
                    0.800401961,
                    0.799963218,
                    0.779791667,
                    0.755166667,
                    0.700710417,
                    0.700612069,
                    0.700278846,
                    0.700135088,
                    0.687555556,
                    0.650834808,
                    0.531666667,
                    0.350706422,
                    1.000446018,
                    1.000018551,
                    0.999995238,
                    0.999924242,
                    0.950185965,
                    0.9425,
                    0.906666667,
                    0.8471,
                    0.845458333,
                    0.800612676,
                    0.799963218,
                    0.771583333,
                    0.7504,
                    0.700079032,
                    0.562212644,
                    0.522844828,
                    0.500720126,
                    0.496549708,
                    1.050666667,
                    1.000018551,
                    0.950185965,
                    0.900135693,
                    0.900129762,
                    0.899111111,
                    0.870083333,
                    0.845833333,
                    0.800401961,
                    0.799963218,
                    0.771583333,
                    0.750520115,
                    0.750027778,
                    0.715766667,
                    0.662270115,
                    0.600224189,
                    0.545657673,
                    0.447916667,
                    0.365318713,
                    0.936355556,
                    0.813611111,
                    0.800401961,
                    0.75075,
                    0.75065101,
                    0.750473684,
                    0.750395513,
                    0.707446429,
                    0.700236601,
                    0.700019883,
                    0.683550607,
                    0.682433036,
                    0.673083333,
                    0.664583333,
                    0.600239766,
                    0.585,
                    0.579511494,
                    0.448722222,
                    0.447083333,
                    0.350416667,
                    0.92885,
                    0.86037037,
                    0.806879167,
                    0.800579532,
                    0.800401961,
                    0.8004,
                    0.800309211,
                    0.800149813,
                    0.800115819,
                    0.773333333,
                    0.750797009,
                    0.750473684,
                    0.750395513,
                    0.750254867,
                    0.700903571,
                    0.70013604,
                    0.632361111,
                    0.607654321,
                    0.537919444,
                    0.342361111,
                    0.999533333,
                    0.902962963,
                    0.800701754,
                    0.800566092,
                    0.800401961,
                    0.800333333,
                    0.800115819,
                    0.750770115,
                    0.750473684,
                    0.750395513,
                    0.750212553,
                    0.702777778,
                    0.700659649,
                    0.699984417,
                    0.636049383,
                    0.567377778,
                    0.555430556,
                    0.555430556,
                    0.463194444,
                    0.354444444,
                    0.309333333,
                    0.30277037,
                    0.939166667,
                    0.930416667,
                    0.885925926,
                    0.83375,
                    0.806879167,
                    0.806058333,
                    0.800701754,
                    0.800401961,
                    0.800333333,
                    0.800055762,
                    0.799975862,
                    0.750651724,
                    0.750395513,
                    0.700424138,
                    0.700058333,
                    0.684888889,
                    0.592083333,
                    0.5403125,
                    0.433263158,
                    0.404144928,
                    0.332146465,
                    0.980984848,
                    0.950625,
                    0.927291667,
                    0.868888889,
                    0.812625,
                    0.812625,
                    0.810111111,
                    0.800701754,
                    0.800534979,
                    0.800401961,
                    0.750651724,
                    0.750395513,
                    0.750050847,
                    0.700424138,
                    0.700422,
                    0.600099145,
                    0.453125,
                    0.366053523,
                    0.26369382,
                    0.868888889,
                    0.850520588,
                    0.850045,
                    0.825444444,
                    0.80575,
                    0.800746552,
                    0.800578947,
                    0.800034503,
                    0.7975,
                    0.749987124,
                    0.700422,
                    0.664875,
                    0.664875,
                    0.657083333,
                    0.65024031,
                    0.590740741,
                    0.528125,
                    0.500528095,
                    0.408960345
                  ],
                  "xaxis": "x",
                  "yaxis": "y"
                },
                {
                  "alignmentgroup": "True",
                  "bingroup": "x",
                  "hovertemplate": "quarter=Quarter2<br>actual_productivity=%{x}<br>count=%{y}<extra></extra>",
                  "legendgroup": "Quarter2",
                  "marker": {
                    "color": "#EF553B",
                    "opacity": 0.5,
                    "pattern": {
                      "shape": ""
                    }
                  },
                  "name": "Quarter2",
                  "offsetgroup": "Quarter2",
                  "orientation": "v",
                  "showlegend": true,
                  "type": "histogram",
                  "x": [
                    0.947689394,
                    0.919905405,
                    0.900215716,
                    0.891723485,
                    0.850502311,
                    0.850181818,
                    0.850136766,
                    0.850136766,
                    0.835757576,
                    0.821354167,
                    0.800497246,
                    0.800273829,
                    0.800107143,
                    0.800024932,
                    0.8,
                    0.779791667,
                    0.735984848,
                    0.712626263,
                    0.681060606,
                    0.515606061,
                    0.349951389,
                    0.233705476,
                    0.985,
                    0.930340376,
                    0.911589744,
                    0.858143939,
                    0.851174114,
                    0.850136766,
                    0.850136766,
                    0.846950758,
                    0.817424242,
                    0.817102273,
                    0.801028213,
                    0.800594466,
                    0.800346445,
                    0.800343766,
                    0.800117103,
                    0.8,
                    0.750098351,
                    0.673245283,
                    0.670075758,
                    0.628882576,
                    0.388007813,
                    0.337973485,
                    0.93532197,
                    0.925643939,
                    0.900215716,
                    0.873068182,
                    0.858143939,
                    0.850502311,
                    0.850136766,
                    0.850136766,
                    0.828295455,
                    0.820833333,
                    0.800343766,
                    0.800246753,
                    0.8,
                    0.8,
                    0.690182815,
                    0.668087121,
                    0.653598485,
                    0.609138258,
                    0.600229846,
                    0.597348485,
                    0.590435606,
                    0.473134796,
                    0.452979626,
                    0.955151515,
                    0.942213805,
                    0.905454545,
                    0.880530303,
                    0.858143939,
                    0.850522167,
                    0.850502311,
                    0.850136766,
                    0.850136766,
                    0.817424242,
                    0.809564394,
                    0.800273829,
                    0.800181818,
                    0.80007657,
                    0.8,
                    0.725,
                    0.688557555,
                    0.650040783,
                    0.64998056,
                    0.648106061,
                    0.640577652,
                    0.35063299,
                    0.24625,
                    0.952020202,
                    0.951420455,
                    0.912766667,
                    0.901262626,
                    0.858143939,
                    0.850502311,
                    0.850502311,
                    0.850252525,
                    0.850136766,
                    0.821354167,
                    0.805909091,
                    0.800246753,
                    0.800246753,
                    0.8,
                    0.705576584,
                    0.681060606,
                    0.670075758,
                    0.601278409,
                    0.582301029,
                    0.526810345,
                    0.500380799,
                    0.35020649,
                    0.934607438,
                    0.908080808,
                    0.900144811,
                    0.891723485,
                    0.864583333,
                    0.858143939,
                    0.850502311,
                    0.850136766,
                    0.837594697,
                    0.820833333,
                    0.800313433,
                    0.800246753,
                    0.800117103,
                    0.700095563,
                    0.667329545,
                    0.600369686,
                    0.499980334,
                    0.35003125,
                    0.332359307,
                    0.311207464,
                    0.247316017,
                    1.000018551,
                    0.928680556,
                    0.9008,
                    0.900135693,
                    0.900129762,
                    0.893066667,
                    0.891555556,
                    0.875555556,
                    0.840888889,
                    0.800355208,
                    0.799963218,
                    0.75065101,
                    0.750027778,
                    0.700618234,
                    0.610208333,
                    0.607416667,
                    0.568259587,
                    0.355534483,
                    0.353259649,
                    1.057962963,
                    0.962016667,
                    0.9008,
                    0.900509044,
                    0.900477825,
                    0.888125,
                    0.800401961,
                    0.800161172,
                    0.799963218,
                    0.790003236,
                    0.750648148,
                    0.707111111,
                    0.700618234,
                    0.697708333,
                    0.612517157,
                    0.350301724,
                    0.350301724,
                    0.272,
                    1.004888889,
                    0.966759259,
                    0.90063244,
                    0.90047076,
                    0.90047076,
                    0.899984058,
                    0.853666667,
                    0.8008,
                    0.800401961,
                    0.796755556,
                    0.750797009,
                    0.750648148,
                    0.750356125,
                    0.703770833,
                    0.700618234,
                    0.6895,
                    0.628333333,
                    0.500801724,
                    0.393548851,
                    1.033155556,
                    1.02,
                    1.000344928,
                    1.000065789,
                    0.994375,
                    0.912037037,
                    0.87,
                    0.850364583,
                    0.800947475,
                    0.800401961,
                    0.800144144,
                    0.750406233,
                    0.714410494,
                    0.700588406,
                    0.618361111,
                    0.600070513,
                    0.54175,
                    0.536901754,
                    0.507903226,
                    1.100483918,
                    1.096633333,
                    1.000344928,
                    0.838666667,
                    0.800401961,
                    0.755486111,
                    0.750799435,
                    0.688017677,
                    0.664875,
                    0.656666667,
                    0.637711864,
                    0.601944444,
                    0.58,
                    0.535677966,
                    0.50012336,
                    0.497885057,
                    0.463403955,
                    0.441392,
                    0.350301724,
                    1.000230409,
                    0.929277778,
                    0.902916667,
                    0.800888889,
                    0.800401961,
                    0.80037492,
                    0.796208333,
                    0.750392157,
                    0.750392157,
                    0.725625,
                    0.700206125,
                    0.602,
                    0.600447507,
                    0.557252451,
                    0.500801724,
                    0.483333333,
                    0.238041667,
                    0.951944444,
                    0.945555556,
                    0.929074074,
                    0.890604167,
                    0.890604167,
                    0.884,
                    0.857916667,
                    0.850084211,
                    0.85007069,
                    0.800511068,
                    0.800401961,
                    0.800034503,
                    0.755208333,
                    0.750371895,
                    0.700422,
                    0.700106061,
                    0.601037091,
                    0.600528571,
                    0.500033898,
                    0.4509375,
                    0.441041667,
                    0.271875,
                    0.960625,
                    0.902962963,
                    0.864342593,
                    0.850446154,
                    0.850426891,
                    0.841,
                    0.800842424,
                    0.800401961,
                    0.800034503,
                    0.795416667,
                    0.7953875,
                    0.794566667,
                    0.750395513,
                    0.700516224,
                    0.700422,
                    0.6825,
                    0.650962281,
                    0.650421429,
                    0.600040678,
                    0.500610909,
                    0.477291667,
                    0.2640625,
                    0.92,
                    0.909391667,
                    0.900061017,
                    0.894444444,
                    0.881575,
                    0.880754167,
                    0.850084211,
                    0.821666667,
                    0.800401961,
                    0.800071839,
                    0.800034503,
                    0.758229167,
                    0.750608,
                    0.750395513,
                    0.741,
                    0.700505263,
                    0.700246491,
                    0.700051852,
                    0.650044068,
                    0.630402924,
                    0.560625,
                    0.560625,
                    0.39875,
                    0.922839506,
                    0.874027778,
                    0.819270833,
                    0.813309028,
                    0.812625,
                    0.800401961,
                    0.800071839,
                    0.800034503,
                    0.786631944,
                    0.75885,
                    0.750608,
                    0.750347333,
                    0.750140741,
                    0.750050847,
                    0.750050847,
                    0.700556897,
                    0.700505263,
                    0.700246491,
                    0.650596491,
                    0.628333333,
                    0.625625,
                    0.625625,
                    0.505888889,
                    0.394722222
                  ],
                  "xaxis": "x",
                  "yaxis": "y"
                },
                {
                  "alignmentgroup": "True",
                  "bingroup": "x",
                  "hovertemplate": "quarter=Quarter3<br>actual_productivity=%{x}<br>count=%{y}<extra></extra>",
                  "legendgroup": "Quarter3",
                  "marker": {
                    "color": "#00cc96",
                    "opacity": 0.5,
                    "pattern": {
                      "shape": ""
                    }
                  },
                  "name": "Quarter3",
                  "offsetgroup": "Quarter3",
                  "orientation": "v",
                  "showlegend": true,
                  "type": "histogram",
                  "x": [
                    0.988636364,
                    0.953110048,
                    0.884261364,
                    0.860653409,
                    0.858143939,
                    0.850502311,
                    0.850415628,
                    0.850136766,
                    0.800117103,
                    0.80003139,
                    0.80003139,
                    0.700060345,
                    0.689299242,
                    0.660683293,
                    0.650130952,
                    0.606912879,
                    0.600291767,
                    0.500025069,
                    0.499998888,
                    0.98719697,
                    0.980909091,
                    0.974621212,
                    0.884261364,
                    0.82680303,
                    0.800343766,
                    0.800246753,
                    0.800128721,
                    0.800128721,
                    0.800117103,
                    0.800117103,
                    0.77011398,
                    0.7005417,
                    0.675568182,
                    0.661837121,
                    0.650198653,
                    0.600291767,
                    0.600273268,
                    0.465757576,
                    0.452012539,
                    0.313852814,
                    0.852793561,
                    0.838383838,
                    0.804848485,
                    0.800343766,
                    0.800128721,
                    0.800128721,
                    0.800015009,
                    0.7005417,
                    0.700094156,
                    0.692045455,
                    0.662255892,
                    0.650416734,
                    0.650299575,
                    0.650243497,
                    0.639867424,
                    0.600062696,
                    0.582045455,
                    0.403242161,
                    0.235795455,
                    0.977272727,
                    0.964106061,
                    0.958901515,
                    0.800358775,
                    0.800162602,
                    0.800117103,
                    0.793844697,
                    0.750517565,
                    0.750068049,
                    0.750062751,
                    0.750057359,
                    0.700170388,
                    0.683806818,
                    0.650066445,
                    0.576460393,
                    0.549969429,
                    0.538399621,
                    0.409545455,
                    0.35021836,
                    1.033570076,
                    0.800261486,
                    0.800128721,
                    0.800117103,
                    0.750068049,
                    0.750057359,
                    0.750037968,
                    0.750031898,
                    0.72830303,
                    0.700170388,
                    0.700063796,
                    0.639867424,
                    0.500290419,
                    0.400332792,
                    0.362666667,
                    0.978525641,
                    0.912202112,
                    0.900556277,
                    0.850410511,
                    0.827147436,
                    0.800436542,
                    0.800415742,
                    0.800020563,
                    0.758173077,
                    0.750344828,
                    0.750068049,
                    0.700170388,
                    0.700029771,
                    0.60017284,
                    0.594871795,
                    0.520237649,
                    0.505128205,
                    0.500241342,
                    0.470769231,
                    1.1204375,
                    1.108125,
                    1.000230409,
                    0.876444444,
                    0.800806306,
                    0.760833333,
                    0.722568627,
                    0.715333333,
                    0.700632768,
                    0.700573099,
                    0.681598039,
                    0.650223718,
                    0.605208333,
                    0.604166667,
                    0.598627451,
                    0.475718391,
                    0.432122899,
                    0.287041667,
                    0.283054487,
                    1.000230409,
                    0.960433333,
                    0.891555556,
                    0.864583333,
                    0.802243319,
                    0.800980392,
                    0.800312375,
                    0.773333333,
                    0.75065101,
                    0.750356125,
                    0.722333333,
                    0.700459889,
                    0.629416667,
                    0.621971751,
                    0.565972222,
                    0.35542803,
                    0.329964879,
                    0.258,
                    1.000230409,
                    0.927541667,
                    0.91375,
                    0.9025,
                    0.800401961,
                    0.7866,
                    0.750621354,
                    0.750356125,
                    0.749166667,
                    0.700888203,
                    0.700614035,
                    0.700603448,
                    0.656666667,
                    0.653431373,
                    0.650134,
                    0.600982906,
                    0.586041667,
                    0.5814,
                    0.361071429,
                    0.302117347,
                    0.9918,
                    0.936861111,
                    0.919125,
                    0.8211125,
                    0.800980392,
                    0.800980392,
                    0.800401961,
                    0.800279693,
                    0.75065101,
                    0.75053268,
                    0.734645833,
                    0.700603448,
                    0.70009573,
                    0.671875,
                    0.64025,
                    0.58,
                    0.549791667,
                    0.328131579,
                    0.303574468,
                    0.2565,
                    0.251399254,
                    0.81640625,
                    0.800711494,
                    0.800470513,
                    0.800094017,
                    0.799982853,
                    0.785864198,
                    0.75065101,
                    0.733277778,
                    0.710125,
                    0.700603448,
                    0.700540441,
                    0.7,
                    0.684027778,
                    0.672135417,
                    0.638614379,
                    0.631354167,
                    0.611140537,
                    0.609583333,
                    0.585315789,
                    0.249416667
                  ],
                  "xaxis": "x",
                  "yaxis": "y"
                },
                {
                  "alignmentgroup": "True",
                  "bingroup": "x",
                  "hovertemplate": "quarter=Quarter4<br>actual_productivity=%{x}<br>count=%{y}<extra></extra>",
                  "legendgroup": "Quarter4",
                  "marker": {
                    "color": "#ab63fa",
                    "opacity": 0.5,
                    "pattern": {
                      "shape": ""
                    }
                  },
                  "name": "Quarter4",
                  "offsetgroup": "Quarter4",
                  "orientation": "v",
                  "showlegend": true,
                  "type": "histogram",
                  "x": [
                    0.957638889,
                    0.940701058,
                    0.849983766,
                    0.800302791,
                    0.800191989,
                    0.800020563,
                    0.750162367,
                    0.750068049,
                    0.742901235,
                    0.700250784,
                    0.700170388,
                    0.670216049,
                    0.649662222,
                    0.649662222,
                    0.626822917,
                    0.600436426,
                    0.60041361,
                    0.555500132,
                    0.500547544,
                    0.460578704,
                    0.397743056,
                    0.327407407,
                    0.966666667,
                    0.937242424,
                    0.910521886,
                    0.90064806,
                    0.900321106,
                    0.896022727,
                    0.895454545,
                    0.870580808,
                    0.858585859,
                    0.800643806,
                    0.80062987,
                    0.800537143,
                    0.80035194,
                    0.750079323,
                    0.750041201,
                    0.700250784,
                    0.651515152,
                    0.650416734,
                    0.600125217,
                    0.578314394,
                    0.578314394,
                    0.34998951,
                    0.261174242,
                    0.973796791,
                    0.970075758,
                    0.970075758,
                    0.961784512,
                    0.955151515,
                    0.952020202,
                    0.900321106,
                    0.850223776,
                    0.800909609,
                    0.800513307,
                    0.800386364,
                    0.800020563,
                    0.749188312,
                    0.7005417,
                    0.70043672,
                    0.700250784,
                    0.650407524,
                    0.618181818,
                    0.59114168,
                    0.500061916,
                    0.329545455,
                    1.059621212,
                    0.997792208,
                    0.963699495,
                    0.959191919,
                    0.910378788,
                    0.910378788,
                    0.850312684,
                    0.800386364,
                    0.80035194,
                    0.800034024,
                    0.800023511,
                    0.800020563,
                    0.769292929,
                    0.750031447,
                    0.70061442,
                    0.70043672,
                    0.646306818,
                    0.600143365,
                    0.350066986,
                    1.000230409,
                    1.000230409,
                    0.979527778,
                    0.940625,
                    0.926388889,
                    0.900129762,
                    0.861875,
                    0.850312684,
                    0.845458333,
                    0.823555556,
                    0.803541667,
                    0.800263218,
                    0.788,
                    0.77815,
                    0.700386207,
                    0.700164706,
                    0.650307143,
                    0.622828125,
                    0.6225,
                    0.500035345,
                    0.37046657,
                    1.000230409,
                    1.000230409,
                    0.977555556,
                    0.9456,
                    0.902222222,
                    0.850532143,
                    0.850362069,
                    0.840533333,
                    0.800534483,
                    0.800489676,
                    0.755555556,
                    0.750593103,
                    0.750283333,
                    0.722638889,
                    0.553333333,
                    0.500567308,
                    0.467693269,
                    0.437995338,
                    0.406354167,
                    0.285333333,
                    0.259375,
                    0.8721,
                    0.8319375,
                    0.8300625,
                    0.805555556,
                    0.800401961,
                    0.80000295,
                    0.78375,
                    0.753525,
                    0.75065101,
                    0.727349537,
                    0.700614035,
                    0.700605263,
                    0.672140805,
                    0.627011183,
                    0.626577778,
                    0.456875,
                    0.393548851,
                    0.385791667,
                    0.307501459,
                    0.283958333,
                    0.955791667,
                    0.930416667,
                    0.9025,
                    0.87115,
                    0.800401961,
                    0.800137255,
                    0.800137255,
                    0.750770115,
                    0.75065101,
                    0.750293939,
                    0.700623,
                    0.700614035,
                    0.700362069,
                    0.60128,
                    0.417916667,
                    0.3715625,
                    0.3715625,
                    0.36871875,
                    0.356458333,
                    0.902222222,
                    0.811388889,
                    0.800401961,
                    0.800137255,
                    0.800071839,
                    0.791458333,
                    0.750727326,
                    0.75065101,
                    0.750437269,
                    0.750176991,
                    0.726933333,
                    0.726933333,
                    0.700623,
                    0.700518519,
                    0.700256795,
                    0.5046875,
                    0.471108491,
                    0.325,
                    0.268214286,
                    0.970816667,
                    0.902962963,
                    0.900833333,
                    0.899555556,
                    0.845833333,
                    0.800808642,
                    0.800401961,
                    0.800115819,
                    0.75065101,
                    0.750503571,
                    0.750206897,
                    0.700362069,
                    0.700069811,
                    0.700058333,
                    0.676666667,
                    0.658541667,
                    0.598792339,
                    0.581130952,
                    0.440375,
                    0.410833333,
                    0.410833333,
                    0.921703704,
                    0.921604938,
                    0.800808642,
                    0.800516667,
                    0.800401961,
                    0.768847222,
                    0.75065101,
                    0.750473684,
                    0.750371895,
                    0.750206897,
                    0.700251773,
                    0.66237931,
                    0.590617284,
                    0.5565625,
                    0.495617514,
                    0.449964912,
                    0.410833333,
                    0.4078125,
                    0.378895152,
                    0.376597222,
                    0.271875,
                    0.921703704,
                    0.921604938,
                    0.800779018,
                    0.800260821,
                    0.799982853,
                    0.768847222,
                    0.750716981,
                    0.75065101,
                    0.750425926,
                    0.750395513,
                    0.700236601,
                    0.700211111,
                    0.590617284,
                    0.5565625,
                    0.550403509,
                    0.550349708,
                    0.500258046,
                    0.410833333,
                    0.4078125,
                    0.376597222,
                    0.271875
                  ],
                  "xaxis": "x",
                  "yaxis": "y"
                },
                {
                  "alignmentgroup": "True",
                  "bingroup": "x",
                  "hovertemplate": "quarter=Quarter5<br>actual_productivity=%{x}<br>count=%{y}<extra></extra>",
                  "legendgroup": "Quarter5",
                  "marker": {
                    "color": "#FFA15A",
                    "opacity": 0.5,
                    "pattern": {
                      "shape": ""
                    }
                  },
                  "name": "Quarter5",
                  "offsetgroup": "Quarter5",
                  "orientation": "v",
                  "showlegend": true,
                  "type": "histogram",
                  "x": [
                    1.000230409,
                    0.989,
                    0.950185965,
                    0.9008,
                    0.900129762,
                    0.899,
                    0.877552083,
                    0.864583333,
                    0.85695,
                    0.853666667,
                    0.850362069,
                    0.850170115,
                    0.800473729,
                    0.773333333,
                    0.750646667,
                    0.634666667,
                    0.60059761,
                    0.500117677,
                    0.4925,
                    0.48792,
                    1.000457471,
                    1.000230409,
                    0.971866667,
                    0.971866667,
                    0.971866667,
                    0.971866667,
                    0.971866667,
                    0.971866667,
                    0.971866667,
                    0.971866667,
                    0.971866667,
                    0.971866667,
                    0.971866667,
                    0.971866667,
                    0.920236905,
                    0.900537069,
                    0.850610526,
                    0.850362069,
                    0.750646667,
                    0.656763743,
                    0.650148148,
                    0.600710606,
                    0.388830357,
                    0.286984568
                  ],
                  "xaxis": "x",
                  "yaxis": "y"
                }
              ],
              "layout": {
                "barmode": "overlay",
                "legend": {
                  "title": {
                    "text": "quarter"
                  },
                  "tracegroupgap": 0
                },
                "template": {
                  "data": {
                    "bar": [
                      {
                        "error_x": {
                          "color": "#2a3f5f"
                        },
                        "error_y": {
                          "color": "#2a3f5f"
                        },
                        "marker": {
                          "line": {
                            "color": "#E5ECF6",
                            "width": 0.5
                          },
                          "pattern": {
                            "fillmode": "overlay",
                            "size": 10,
                            "solidity": 0.2
                          }
                        },
                        "type": "bar"
                      }
                    ],
                    "barpolar": [
                      {
                        "marker": {
                          "line": {
                            "color": "#E5ECF6",
                            "width": 0.5
                          },
                          "pattern": {
                            "fillmode": "overlay",
                            "size": 10,
                            "solidity": 0.2
                          }
                        },
                        "type": "barpolar"
                      }
                    ],
                    "carpet": [
                      {
                        "aaxis": {
                          "endlinecolor": "#2a3f5f",
                          "gridcolor": "white",
                          "linecolor": "white",
                          "minorgridcolor": "white",
                          "startlinecolor": "#2a3f5f"
                        },
                        "baxis": {
                          "endlinecolor": "#2a3f5f",
                          "gridcolor": "white",
                          "linecolor": "white",
                          "minorgridcolor": "white",
                          "startlinecolor": "#2a3f5f"
                        },
                        "type": "carpet"
                      }
                    ],
                    "choropleth": [
                      {
                        "colorbar": {
                          "outlinewidth": 0,
                          "ticks": ""
                        },
                        "type": "choropleth"
                      }
                    ],
                    "contour": [
                      {
                        "colorbar": {
                          "outlinewidth": 0,
                          "ticks": ""
                        },
                        "colorscale": [
                          [
                            0,
                            "#0d0887"
                          ],
                          [
                            0.1111111111111111,
                            "#46039f"
                          ],
                          [
                            0.2222222222222222,
                            "#7201a8"
                          ],
                          [
                            0.3333333333333333,
                            "#9c179e"
                          ],
                          [
                            0.4444444444444444,
                            "#bd3786"
                          ],
                          [
                            0.5555555555555556,
                            "#d8576b"
                          ],
                          [
                            0.6666666666666666,
                            "#ed7953"
                          ],
                          [
                            0.7777777777777778,
                            "#fb9f3a"
                          ],
                          [
                            0.8888888888888888,
                            "#fdca26"
                          ],
                          [
                            1,
                            "#f0f921"
                          ]
                        ],
                        "type": "contour"
                      }
                    ],
                    "contourcarpet": [
                      {
                        "colorbar": {
                          "outlinewidth": 0,
                          "ticks": ""
                        },
                        "type": "contourcarpet"
                      }
                    ],
                    "heatmap": [
                      {
                        "colorbar": {
                          "outlinewidth": 0,
                          "ticks": ""
                        },
                        "colorscale": [
                          [
                            0,
                            "#0d0887"
                          ],
                          [
                            0.1111111111111111,
                            "#46039f"
                          ],
                          [
                            0.2222222222222222,
                            "#7201a8"
                          ],
                          [
                            0.3333333333333333,
                            "#9c179e"
                          ],
                          [
                            0.4444444444444444,
                            "#bd3786"
                          ],
                          [
                            0.5555555555555556,
                            "#d8576b"
                          ],
                          [
                            0.6666666666666666,
                            "#ed7953"
                          ],
                          [
                            0.7777777777777778,
                            "#fb9f3a"
                          ],
                          [
                            0.8888888888888888,
                            "#fdca26"
                          ],
                          [
                            1,
                            "#f0f921"
                          ]
                        ],
                        "type": "heatmap"
                      }
                    ],
                    "heatmapgl": [
                      {
                        "colorbar": {
                          "outlinewidth": 0,
                          "ticks": ""
                        },
                        "colorscale": [
                          [
                            0,
                            "#0d0887"
                          ],
                          [
                            0.1111111111111111,
                            "#46039f"
                          ],
                          [
                            0.2222222222222222,
                            "#7201a8"
                          ],
                          [
                            0.3333333333333333,
                            "#9c179e"
                          ],
                          [
                            0.4444444444444444,
                            "#bd3786"
                          ],
                          [
                            0.5555555555555556,
                            "#d8576b"
                          ],
                          [
                            0.6666666666666666,
                            "#ed7953"
                          ],
                          [
                            0.7777777777777778,
                            "#fb9f3a"
                          ],
                          [
                            0.8888888888888888,
                            "#fdca26"
                          ],
                          [
                            1,
                            "#f0f921"
                          ]
                        ],
                        "type": "heatmapgl"
                      }
                    ],
                    "histogram": [
                      {
                        "marker": {
                          "pattern": {
                            "fillmode": "overlay",
                            "size": 10,
                            "solidity": 0.2
                          }
                        },
                        "type": "histogram"
                      }
                    ],
                    "histogram2d": [
                      {
                        "colorbar": {
                          "outlinewidth": 0,
                          "ticks": ""
                        },
                        "colorscale": [
                          [
                            0,
                            "#0d0887"
                          ],
                          [
                            0.1111111111111111,
                            "#46039f"
                          ],
                          [
                            0.2222222222222222,
                            "#7201a8"
                          ],
                          [
                            0.3333333333333333,
                            "#9c179e"
                          ],
                          [
                            0.4444444444444444,
                            "#bd3786"
                          ],
                          [
                            0.5555555555555556,
                            "#d8576b"
                          ],
                          [
                            0.6666666666666666,
                            "#ed7953"
                          ],
                          [
                            0.7777777777777778,
                            "#fb9f3a"
                          ],
                          [
                            0.8888888888888888,
                            "#fdca26"
                          ],
                          [
                            1,
                            "#f0f921"
                          ]
                        ],
                        "type": "histogram2d"
                      }
                    ],
                    "histogram2dcontour": [
                      {
                        "colorbar": {
                          "outlinewidth": 0,
                          "ticks": ""
                        },
                        "colorscale": [
                          [
                            0,
                            "#0d0887"
                          ],
                          [
                            0.1111111111111111,
                            "#46039f"
                          ],
                          [
                            0.2222222222222222,
                            "#7201a8"
                          ],
                          [
                            0.3333333333333333,
                            "#9c179e"
                          ],
                          [
                            0.4444444444444444,
                            "#bd3786"
                          ],
                          [
                            0.5555555555555556,
                            "#d8576b"
                          ],
                          [
                            0.6666666666666666,
                            "#ed7953"
                          ],
                          [
                            0.7777777777777778,
                            "#fb9f3a"
                          ],
                          [
                            0.8888888888888888,
                            "#fdca26"
                          ],
                          [
                            1,
                            "#f0f921"
                          ]
                        ],
                        "type": "histogram2dcontour"
                      }
                    ],
                    "mesh3d": [
                      {
                        "colorbar": {
                          "outlinewidth": 0,
                          "ticks": ""
                        },
                        "type": "mesh3d"
                      }
                    ],
                    "parcoords": [
                      {
                        "line": {
                          "colorbar": {
                            "outlinewidth": 0,
                            "ticks": ""
                          }
                        },
                        "type": "parcoords"
                      }
                    ],
                    "pie": [
                      {
                        "automargin": true,
                        "type": "pie"
                      }
                    ],
                    "scatter": [
                      {
                        "fillpattern": {
                          "fillmode": "overlay",
                          "size": 10,
                          "solidity": 0.2
                        },
                        "type": "scatter"
                      }
                    ],
                    "scatter3d": [
                      {
                        "line": {
                          "colorbar": {
                            "outlinewidth": 0,
                            "ticks": ""
                          }
                        },
                        "marker": {
                          "colorbar": {
                            "outlinewidth": 0,
                            "ticks": ""
                          }
                        },
                        "type": "scatter3d"
                      }
                    ],
                    "scattercarpet": [
                      {
                        "marker": {
                          "colorbar": {
                            "outlinewidth": 0,
                            "ticks": ""
                          }
                        },
                        "type": "scattercarpet"
                      }
                    ],
                    "scattergeo": [
                      {
                        "marker": {
                          "colorbar": {
                            "outlinewidth": 0,
                            "ticks": ""
                          }
                        },
                        "type": "scattergeo"
                      }
                    ],
                    "scattergl": [
                      {
                        "marker": {
                          "colorbar": {
                            "outlinewidth": 0,
                            "ticks": ""
                          }
                        },
                        "type": "scattergl"
                      }
                    ],
                    "scattermapbox": [
                      {
                        "marker": {
                          "colorbar": {
                            "outlinewidth": 0,
                            "ticks": ""
                          }
                        },
                        "type": "scattermapbox"
                      }
                    ],
                    "scatterpolar": [
                      {
                        "marker": {
                          "colorbar": {
                            "outlinewidth": 0,
                            "ticks": ""
                          }
                        },
                        "type": "scatterpolar"
                      }
                    ],
                    "scatterpolargl": [
                      {
                        "marker": {
                          "colorbar": {
                            "outlinewidth": 0,
                            "ticks": ""
                          }
                        },
                        "type": "scatterpolargl"
                      }
                    ],
                    "scatterternary": [
                      {
                        "marker": {
                          "colorbar": {
                            "outlinewidth": 0,
                            "ticks": ""
                          }
                        },
                        "type": "scatterternary"
                      }
                    ],
                    "surface": [
                      {
                        "colorbar": {
                          "outlinewidth": 0,
                          "ticks": ""
                        },
                        "colorscale": [
                          [
                            0,
                            "#0d0887"
                          ],
                          [
                            0.1111111111111111,
                            "#46039f"
                          ],
                          [
                            0.2222222222222222,
                            "#7201a8"
                          ],
                          [
                            0.3333333333333333,
                            "#9c179e"
                          ],
                          [
                            0.4444444444444444,
                            "#bd3786"
                          ],
                          [
                            0.5555555555555556,
                            "#d8576b"
                          ],
                          [
                            0.6666666666666666,
                            "#ed7953"
                          ],
                          [
                            0.7777777777777778,
                            "#fb9f3a"
                          ],
                          [
                            0.8888888888888888,
                            "#fdca26"
                          ],
                          [
                            1,
                            "#f0f921"
                          ]
                        ],
                        "type": "surface"
                      }
                    ],
                    "table": [
                      {
                        "cells": {
                          "fill": {
                            "color": "#EBF0F8"
                          },
                          "line": {
                            "color": "white"
                          }
                        },
                        "header": {
                          "fill": {
                            "color": "#C8D4E3"
                          },
                          "line": {
                            "color": "white"
                          }
                        },
                        "type": "table"
                      }
                    ]
                  },
                  "layout": {
                    "annotationdefaults": {
                      "arrowcolor": "#2a3f5f",
                      "arrowhead": 0,
                      "arrowwidth": 1
                    },
                    "autotypenumbers": "strict",
                    "coloraxis": {
                      "colorbar": {
                        "outlinewidth": 0,
                        "ticks": ""
                      }
                    },
                    "colorscale": {
                      "diverging": [
                        [
                          0,
                          "#8e0152"
                        ],
                        [
                          0.1,
                          "#c51b7d"
                        ],
                        [
                          0.2,
                          "#de77ae"
                        ],
                        [
                          0.3,
                          "#f1b6da"
                        ],
                        [
                          0.4,
                          "#fde0ef"
                        ],
                        [
                          0.5,
                          "#f7f7f7"
                        ],
                        [
                          0.6,
                          "#e6f5d0"
                        ],
                        [
                          0.7,
                          "#b8e186"
                        ],
                        [
                          0.8,
                          "#7fbc41"
                        ],
                        [
                          0.9,
                          "#4d9221"
                        ],
                        [
                          1,
                          "#276419"
                        ]
                      ],
                      "sequential": [
                        [
                          0,
                          "#0d0887"
                        ],
                        [
                          0.1111111111111111,
                          "#46039f"
                        ],
                        [
                          0.2222222222222222,
                          "#7201a8"
                        ],
                        [
                          0.3333333333333333,
                          "#9c179e"
                        ],
                        [
                          0.4444444444444444,
                          "#bd3786"
                        ],
                        [
                          0.5555555555555556,
                          "#d8576b"
                        ],
                        [
                          0.6666666666666666,
                          "#ed7953"
                        ],
                        [
                          0.7777777777777778,
                          "#fb9f3a"
                        ],
                        [
                          0.8888888888888888,
                          "#fdca26"
                        ],
                        [
                          1,
                          "#f0f921"
                        ]
                      ],
                      "sequentialminus": [
                        [
                          0,
                          "#0d0887"
                        ],
                        [
                          0.1111111111111111,
                          "#46039f"
                        ],
                        [
                          0.2222222222222222,
                          "#7201a8"
                        ],
                        [
                          0.3333333333333333,
                          "#9c179e"
                        ],
                        [
                          0.4444444444444444,
                          "#bd3786"
                        ],
                        [
                          0.5555555555555556,
                          "#d8576b"
                        ],
                        [
                          0.6666666666666666,
                          "#ed7953"
                        ],
                        [
                          0.7777777777777778,
                          "#fb9f3a"
                        ],
                        [
                          0.8888888888888888,
                          "#fdca26"
                        ],
                        [
                          1,
                          "#f0f921"
                        ]
                      ]
                    },
                    "colorway": [
                      "#636efa",
                      "#EF553B",
                      "#00cc96",
                      "#ab63fa",
                      "#FFA15A",
                      "#19d3f3",
                      "#FF6692",
                      "#B6E880",
                      "#FF97FF",
                      "#FECB52"
                    ],
                    "font": {
                      "color": "#2a3f5f"
                    },
                    "geo": {
                      "bgcolor": "white",
                      "lakecolor": "white",
                      "landcolor": "#E5ECF6",
                      "showlakes": true,
                      "showland": true,
                      "subunitcolor": "white"
                    },
                    "hoverlabel": {
                      "align": "left"
                    },
                    "hovermode": "closest",
                    "mapbox": {
                      "style": "light"
                    },
                    "paper_bgcolor": "white",
                    "plot_bgcolor": "#E5ECF6",
                    "polar": {
                      "angularaxis": {
                        "gridcolor": "white",
                        "linecolor": "white",
                        "ticks": ""
                      },
                      "bgcolor": "#E5ECF6",
                      "radialaxis": {
                        "gridcolor": "white",
                        "linecolor": "white",
                        "ticks": ""
                      }
                    },
                    "scene": {
                      "xaxis": {
                        "backgroundcolor": "#E5ECF6",
                        "gridcolor": "white",
                        "gridwidth": 2,
                        "linecolor": "white",
                        "showbackground": true,
                        "ticks": "",
                        "zerolinecolor": "white"
                      },
                      "yaxis": {
                        "backgroundcolor": "#E5ECF6",
                        "gridcolor": "white",
                        "gridwidth": 2,
                        "linecolor": "white",
                        "showbackground": true,
                        "ticks": "",
                        "zerolinecolor": "white"
                      },
                      "zaxis": {
                        "backgroundcolor": "#E5ECF6",
                        "gridcolor": "white",
                        "gridwidth": 2,
                        "linecolor": "white",
                        "showbackground": true,
                        "ticks": "",
                        "zerolinecolor": "white"
                      }
                    },
                    "shapedefaults": {
                      "line": {
                        "color": "#2a3f5f"
                      }
                    },
                    "ternary": {
                      "aaxis": {
                        "gridcolor": "white",
                        "linecolor": "white",
                        "ticks": ""
                      },
                      "baxis": {
                        "gridcolor": "white",
                        "linecolor": "white",
                        "ticks": ""
                      },
                      "bgcolor": "#E5ECF6",
                      "caxis": {
                        "gridcolor": "white",
                        "linecolor": "white",
                        "ticks": ""
                      }
                    },
                    "title": {
                      "x": 0.05
                    },
                    "xaxis": {
                      "automargin": true,
                      "gridcolor": "white",
                      "linecolor": "white",
                      "ticks": "",
                      "title": {
                        "standoff": 15
                      },
                      "zerolinecolor": "white",
                      "zerolinewidth": 2
                    },
                    "yaxis": {
                      "automargin": true,
                      "gridcolor": "white",
                      "linecolor": "white",
                      "ticks": "",
                      "title": {
                        "standoff": 15
                      },
                      "zerolinecolor": "white",
                      "zerolinewidth": 2
                    }
                  }
                },
                "title": {
                  "text": "Interactive Histogram of Actual Productivity by Quarter"
                },
                "xaxis": {
                  "anchor": "y",
                  "domain": [
                    0,
                    1
                  ],
                  "title": {
                    "text": "actual_productivity"
                  }
                },
                "yaxis": {
                  "anchor": "x",
                  "domain": [
                    0,
                    1
                  ],
                  "title": {
                    "text": "count"
                  }
                }
              }
            }
          },
          "metadata": {},
          "output_type": "display_data"
        }
      ],
      "source": [
        "\n",
        "# ===========================================================\n",
        "# 3. Mean and standard deviation of actual productivity per quarter\n",
        "# ===========================================================\n",
        "quarter_stats = df.groupby('quarter')['actual_productivity'].agg(['mean','std'])\n",
        "print(\"\\nQuarter-wise Actual Productivity (Mean & Std Dev):\")\n",
        "print(quarter_stats)\n",
        "\n",
        "# Interactive Histogram with Plotly\n",
        "fig = px.histogram(df, x='actual_productivity', color='quarter', barmode='overlay',\n",
        "                   title=\"Interactive Histogram of Actual Productivity by Quarter\")\n",
        "fig.show()\n",
        "\n",
        "# Productivity is highest in Quarter1 and Quarter5 (but Q5 is small and atypical). Quarter3 and Quarter4 show lower productivity."
      ]
    },
    {
      "cell_type": "code",
      "execution_count": 8,
      "id": "86c8ce85",
      "metadata": {},
      "outputs": [
        {
          "name": "stdout",
          "output_type": "stream",
          "text": [
            "\n",
            "Department-wise record count:\n",
            "department\n",
            "sewing       691\n",
            "finishing    506\n",
            "Name: count, dtype: int64\n"
          ]
        }
      ],
      "source": [
        "\n",
        "\n",
        "# ===========================================================\n",
        "# 4. Count of records for Sewing and Finishing departments\n",
        "# ===========================================================\n",
        "print(\"\\nDepartment-wise record count:\")\n",
        "print(df['department'].value_counts())\n"
      ]
    },
    {
      "cell_type": "code",
      "execution_count": 9,
      "id": "64c24d4b",
      "metadata": {},
      "outputs": [
        {
          "name": "stdout",
          "output_type": "stream",
          "text": [
            "\n",
            "Department-wise Actual Productivity (Mean & Std Dev):\n",
            "                mean       std\n",
            "department                    \n",
            "finishing   0.752951  0.197021\n",
            "sewing      0.722013  0.154784\n"
          ]
        },
        {
          "data": {
            "application/vnd.plotly.v1+json": {
              "config": {
                "plotlyServerURL": "https://plot.ly"
              },
              "data": [
                {
                  "alignmentgroup": "True",
                  "bingroup": "x",
                  "hovertemplate": "department=sewing<br>actual_productivity=%{x}<br>count=%{y}<extra></extra>",
                  "legendgroup": "sewing",
                  "marker": {
                    "color": "#636efa",
                    "opacity": 0.5,
                    "pattern": {
                      "shape": ""
                    }
                  },
                  "name": "sewing",
                  "offsetgroup": "sewing",
                  "orientation": "v",
                  "showlegend": true,
                  "type": "histogram",
                  "x": [
                    0.940725424,
                    0.800570492,
                    0.800570492,
                    0.800381944,
                    0.800125,
                    0.753683478,
                    0.753097531,
                    0.750427826,
                    0.721126957,
                    0.712205247,
                    0.707045902,
                    0.52118,
                    0.800725314,
                    0.800322936,
                    0.800318644,
                    0.800318644,
                    0.800237288,
                    0.800148649,
                    0.800125,
                    0.800125,
                    0.787299691,
                    0.75024303,
                    0.700134038,
                    0.699965217,
                    0.879714482,
                    0.850569492,
                    0.850436438,
                    0.850345133,
                    0.800598058,
                    0.800318644,
                    0.800237838,
                    0.800030199,
                    0.750348457,
                    0.75024303,
                    0.699965217,
                    0.603432184,
                    0.850569492,
                    0.800684366,
                    0.800684366,
                    0.800318644,
                    0.800250962,
                    0.800246011,
                    0.800246011,
                    0.800076522,
                    0.800076522,
                    0.7504,
                    0.75024303,
                    0.600028736,
                    0.850502311,
                    0.850502311,
                    0.800594466,
                    0.800594466,
                    0.800273829,
                    0.800140969,
                    0.800128721,
                    0.800128721,
                    0.80007657,
                    0.750545455,
                    0.750057851,
                    0.649983281,
                    0.850502311,
                    0.850502311,
                    0.850136766,
                    0.800594466,
                    0.800594466,
                    0.800343766,
                    0.800273829,
                    0.800246753,
                    0.800128721,
                    0.8,
                    0.700480831,
                    0.412119835,
                    0.900215716,
                    0.850502311,
                    0.850181818,
                    0.850136766,
                    0.850136766,
                    0.800497246,
                    0.800273829,
                    0.800107143,
                    0.800024932,
                    0.8,
                    0.349951389,
                    0.233705476,
                    0.851174114,
                    0.850136766,
                    0.850136766,
                    0.801028213,
                    0.800594466,
                    0.800346445,
                    0.800343766,
                    0.800117103,
                    0.8,
                    0.750098351,
                    0.673245283,
                    0.388007813,
                    0.900215716,
                    0.850502311,
                    0.850136766,
                    0.850136766,
                    0.800343766,
                    0.800246753,
                    0.8,
                    0.8,
                    0.690182815,
                    0.600229846,
                    0.473134796,
                    0.452979626,
                    0.850522167,
                    0.850502311,
                    0.850136766,
                    0.850136766,
                    0.800273829,
                    0.800181818,
                    0.80007657,
                    0.8,
                    0.688557555,
                    0.650040783,
                    0.64998056,
                    0.35063299,
                    0.850502311,
                    0.850502311,
                    0.850252525,
                    0.850136766,
                    0.800246753,
                    0.800246753,
                    0.8,
                    0.705576584,
                    0.582301029,
                    0.526810345,
                    0.500380799,
                    0.35020649,
                    0.900144811,
                    0.850502311,
                    0.850136766,
                    0.800313433,
                    0.800246753,
                    0.800117103,
                    0.700095563,
                    0.600369686,
                    0.499980334,
                    0.35003125,
                    0.311207464,
                    0.850502311,
                    0.850415628,
                    0.850136766,
                    0.800117103,
                    0.80003139,
                    0.80003139,
                    0.700060345,
                    0.660683293,
                    0.650130952,
                    0.600291767,
                    0.500025069,
                    0.499998888,
                    0.800343766,
                    0.800246753,
                    0.800128721,
                    0.800128721,
                    0.800117103,
                    0.800117103,
                    0.77011398,
                    0.7005417,
                    0.650198653,
                    0.600291767,
                    0.600273268,
                    0.452012539,
                    0.800343766,
                    0.800128721,
                    0.800128721,
                    0.800015009,
                    0.7005417,
                    0.700094156,
                    0.662255892,
                    0.650416734,
                    0.650299575,
                    0.650243497,
                    0.600062696,
                    0.403242161,
                    0.800358775,
                    0.800162602,
                    0.800117103,
                    0.750517565,
                    0.750068049,
                    0.750062751,
                    0.750057359,
                    0.700170388,
                    0.650066445,
                    0.576460393,
                    0.549969429,
                    0.35021836,
                    0.800261486,
                    0.800128721,
                    0.800117103,
                    0.750068049,
                    0.750057359,
                    0.750037968,
                    0.750031898,
                    0.700170388,
                    0.700063796,
                    0.500290419,
                    0.400332792,
                    0.900556277,
                    0.850410511,
                    0.800436542,
                    0.800415742,
                    0.800020563,
                    0.750344828,
                    0.750068049,
                    0.700170388,
                    0.700029771,
                    0.60017284,
                    0.520237649,
                    0.500241342,
                    0.849983766,
                    0.800302791,
                    0.800191989,
                    0.800020563,
                    0.750162367,
                    0.750068049,
                    0.700250784,
                    0.700170388,
                    0.600436426,
                    0.60041361,
                    0.555500132,
                    0.500547544,
                    0.90064806,
                    0.900321106,
                    0.800643806,
                    0.80062987,
                    0.800537143,
                    0.80035194,
                    0.750079323,
                    0.750041201,
                    0.700250784,
                    0.650416734,
                    0.600125217,
                    0.34998951,
                    0.900321106,
                    0.850223776,
                    0.800909609,
                    0.800513307,
                    0.800386364,
                    0.800020563,
                    0.7005417,
                    0.70043672,
                    0.700250784,
                    0.650407524,
                    0.59114168,
                    0.500061916,
                    0.850312684,
                    0.800386364,
                    0.80035194,
                    0.800034024,
                    0.800023511,
                    0.800020563,
                    0.750031447,
                    0.70061442,
                    0.70043672,
                    0.600143365,
                    0.350066986,
                    1.000230409,
                    1.000230409,
                    0.900129762,
                    0.850312684,
                    0.800263218,
                    0.700386207,
                    0.700164706,
                    0.650307143,
                    0.622828125,
                    0.500035345,
                    0.37046657,
                    1.000230409,
                    1.000230409,
                    0.850532143,
                    0.850362069,
                    0.800534483,
                    0.800489676,
                    0.750593103,
                    0.750283333,
                    0.500567308,
                    0.467693269,
                    0.437995338,
                    0.285333333,
                    1.000230409,
                    0.950185965,
                    0.9008,
                    0.900129762,
                    0.850362069,
                    0.850170115,
                    0.800473729,
                    0.750646667,
                    0.60059761,
                    0.500117677,
                    0.48792,
                    1.000457471,
                    1.000230409,
                    0.920236905,
                    0.900537069,
                    0.850610526,
                    0.850362069,
                    0.750646667,
                    0.656763743,
                    0.650148148,
                    0.600710606,
                    0.388830357,
                    0.286984568,
                    1.000671304,
                    1.000402055,
                    0.950185965,
                    0.850532143,
                    0.85011396,
                    0.750593103,
                    0.750450658,
                    0.700508929,
                    0.651007071,
                    0.466821212,
                    0.411553571,
                    1.000602279,
                    0.900158405,
                    0.90014152,
                    0.900129762,
                    0.800401961,
                    0.800393224,
                    0.799963218,
                    0.700398148,
                    0.700354545,
                    0.500801724,
                    0.295307738,
                    0.260978788,
                    1.000018551,
                    0.999995238,
                    0.950185965,
                    0.949981609,
                    0.800434622,
                    0.800259023,
                    0.750593103,
                    0.700513566,
                    0.700184577,
                    0.586465465,
                    0.541517857,
                    0.415172414,
                    1.05028058,
                    1.000230409,
                    0.999995238,
                    0.900147246,
                    0.800401961,
                    0.799963218,
                    0.700710417,
                    0.700612069,
                    0.700278846,
                    0.700135088,
                    0.650834808,
                    0.350706422,
                    1.000446018,
                    1.000018551,
                    0.999995238,
                    0.950185965,
                    0.800612676,
                    0.799963218,
                    0.7504,
                    0.700079032,
                    0.562212644,
                    0.522844828,
                    0.500720126,
                    0.496549708,
                    1.000018551,
                    0.950185965,
                    0.900135693,
                    0.900129762,
                    0.800401961,
                    0.799963218,
                    0.750520115,
                    0.750027778,
                    0.662270115,
                    0.600224189,
                    0.545657673,
                    0.365318713,
                    1.000018551,
                    0.9008,
                    0.900135693,
                    0.900129762,
                    0.800355208,
                    0.799963218,
                    0.75065101,
                    0.750027778,
                    0.700618234,
                    0.568259587,
                    0.355534483,
                    0.353259649,
                    0.9008,
                    0.900509044,
                    0.900477825,
                    0.800401961,
                    0.800161172,
                    0.799963218,
                    0.790003236,
                    0.750648148,
                    0.700618234,
                    0.612517157,
                    0.350301724,
                    0.350301724,
                    0.90063244,
                    0.90047076,
                    0.90047076,
                    0.899984058,
                    0.8008,
                    0.800401961,
                    0.750797009,
                    0.750648148,
                    0.750356125,
                    0.700618234,
                    0.500801724,
                    0.393548851,
                    1.000344928,
                    1.000065789,
                    0.850364583,
                    0.800947475,
                    0.800401961,
                    0.800144144,
                    0.750406233,
                    0.714410494,
                    0.700588406,
                    0.600070513,
                    0.536901754,
                    0.507903226,
                    1.100483918,
                    1.000344928,
                    0.800401961,
                    0.750799435,
                    0.688017677,
                    0.637711864,
                    0.535677966,
                    0.50012336,
                    0.497885057,
                    0.463403955,
                    0.441392,
                    0.350301724,
                    1.000230409,
                    0.800401961,
                    0.80037492,
                    0.750392157,
                    0.750392157,
                    0.700206125,
                    0.602,
                    0.600447507,
                    0.557252451,
                    0.500801724,
                    1.000230409,
                    0.800806306,
                    0.722568627,
                    0.700632768,
                    0.700573099,
                    0.681598039,
                    0.650223718,
                    0.598627451,
                    0.475718391,
                    0.432122899,
                    0.283054487,
                    1.000230409,
                    0.802243319,
                    0.800980392,
                    0.800312375,
                    0.75065101,
                    0.750356125,
                    0.700459889,
                    0.621971751,
                    0.565972222,
                    0.35542803,
                    0.329964879,
                    1.000230409,
                    0.800401961,
                    0.750621354,
                    0.750356125,
                    0.700888203,
                    0.700614035,
                    0.700603448,
                    0.653431373,
                    0.650134,
                    0.600982906,
                    0.361071429,
                    0.302117347,
                    0.8211125,
                    0.800980392,
                    0.800980392,
                    0.800401961,
                    0.800279693,
                    0.75065101,
                    0.75053268,
                    0.700603448,
                    0.70009573,
                    0.328131579,
                    0.303574468,
                    0.251399254,
                    0.800711494,
                    0.800470513,
                    0.800094017,
                    0.799982853,
                    0.75065101,
                    0.700603448,
                    0.700540441,
                    0.7,
                    0.638614379,
                    0.611140537,
                    0.585315789,
                    0.249416667,
                    0.800401961,
                    0.80000295,
                    0.75065101,
                    0.700614035,
                    0.700605263,
                    0.672140805,
                    0.627011183,
                    0.626577778,
                    0.456875,
                    0.393548851,
                    0.307501459,
                    0.800401961,
                    0.800137255,
                    0.800137255,
                    0.750770115,
                    0.75065101,
                    0.750293939,
                    0.700623,
                    0.700614035,
                    0.700362069,
                    0.60128,
                    0.417916667,
                    0.800401961,
                    0.800137255,
                    0.800071839,
                    0.750727326,
                    0.75065101,
                    0.750437269,
                    0.750176991,
                    0.700623,
                    0.700518519,
                    0.700256795,
                    0.471108491,
                    0.268214286,
                    0.970816667,
                    0.800808642,
                    0.800401961,
                    0.800115819,
                    0.75065101,
                    0.750503571,
                    0.750206897,
                    0.700362069,
                    0.700069811,
                    0.700058333,
                    0.598792339,
                    0.581130952,
                    0.800808642,
                    0.800516667,
                    0.800401961,
                    0.75065101,
                    0.750473684,
                    0.750371895,
                    0.750206897,
                    0.700251773,
                    0.66237931,
                    0.495617514,
                    0.449964912,
                    0.378895152,
                    0.800779018,
                    0.800260821,
                    0.799982853,
                    0.750716981,
                    0.75065101,
                    0.750425926,
                    0.750395513,
                    0.700236601,
                    0.700211111,
                    0.550403509,
                    0.550349708,
                    0.500258046,
                    0.800401961,
                    0.75075,
                    0.75065101,
                    0.750473684,
                    0.750395513,
                    0.707446429,
                    0.700236601,
                    0.700019883,
                    0.683550607,
                    0.682433036,
                    0.600239766,
                    0.579511494,
                    0.800579532,
                    0.800401961,
                    0.800309211,
                    0.800149813,
                    0.800115819,
                    0.750797009,
                    0.750473684,
                    0.750395513,
                    0.750254867,
                    0.700903571,
                    0.70013604,
                    0.800701754,
                    0.800566092,
                    0.800401961,
                    0.800333333,
                    0.800115819,
                    0.750770115,
                    0.750473684,
                    0.750395513,
                    0.750212553,
                    0.700659649,
                    0.699984417,
                    0.30277037,
                    0.800701754,
                    0.800401961,
                    0.800333333,
                    0.800055762,
                    0.799975862,
                    0.750651724,
                    0.750395513,
                    0.700424138,
                    0.700058333,
                    0.433263158,
                    0.404144928,
                    0.332146465,
                    0.800701754,
                    0.800534979,
                    0.800401961,
                    0.750651724,
                    0.750395513,
                    0.750050847,
                    0.700424138,
                    0.700422,
                    0.600099145,
                    0.366053523,
                    0.26369382,
                    0.850520588,
                    0.850045,
                    0.800746552,
                    0.800578947,
                    0.800034503,
                    0.749987124,
                    0.700422,
                    0.65024031,
                    0.500528095,
                    0.408960345,
                    0.850084211,
                    0.85007069,
                    0.800511068,
                    0.800401961,
                    0.800034503,
                    0.750371895,
                    0.700422,
                    0.700106061,
                    0.601037091,
                    0.600528571,
                    0.500033898,
                    0.850446154,
                    0.850426891,
                    0.800842424,
                    0.800401961,
                    0.800034503,
                    0.750395513,
                    0.700516224,
                    0.700422,
                    0.650962281,
                    0.650421429,
                    0.600040678,
                    0.500610909,
                    0.900061017,
                    0.850084211,
                    0.800401961,
                    0.800071839,
                    0.800034503,
                    0.750608,
                    0.750395513,
                    0.700505263,
                    0.700246491,
                    0.700051852,
                    0.650044068,
                    0.630402924,
                    0.800401961,
                    0.800071839,
                    0.800034503,
                    0.750608,
                    0.750347333,
                    0.750140741,
                    0.750050847,
                    0.750050847,
                    0.700556897,
                    0.700505263,
                    0.700246491,
                    0.650596491
                  ],
                  "xaxis": "x",
                  "yaxis": "y"
                },
                {
                  "alignmentgroup": "True",
                  "bingroup": "x",
                  "hovertemplate": "department=finishing<br>actual_productivity=%{x}<br>count=%{y}<extra></extra>",
                  "legendgroup": "finishing",
                  "marker": {
                    "color": "#EF553B",
                    "opacity": 0.5,
                    "pattern": {
                      "shape": ""
                    }
                  },
                  "name": "finishing",
                  "offsetgroup": "finishing",
                  "orientation": "v",
                  "showlegend": true,
                  "type": "histogram",
                  "x": [
                    0.8865,
                    0.755166667,
                    0.705916667,
                    0.676666667,
                    0.593055556,
                    0.540729167,
                    0.436326389,
                    0.988024691,
                    0.987880435,
                    0.956270833,
                    0.945277778,
                    0.902916667,
                    0.782447917,
                    0.7018125,
                    0.628333333,
                    0.6253125,
                    0.991388889,
                    0.931645833,
                    0.915229167,
                    0.861679012,
                    0.792104167,
                    0.759228395,
                    0.682708333,
                    0.667604167,
                    0.345833333,
                    0.961059028,
                    0.939513889,
                    0.893663194,
                    0.875390625,
                    0.820833333,
                    0.804416667,
                    0.763375,
                    0.759270833,
                    0.676666667,
                    0.664583333,
                    0.966781346,
                    0.936496212,
                    0.899166667,
                    0.888686869,
                    0.858143939,
                    0.809640152,
                    0.805909091,
                    0.681060606,
                    0.61625,
                    0.951420455,
                    0.880530303,
                    0.83,
                    0.827186544,
                    0.813371212,
                    0.805909091,
                    0.804640152,
                    0.681060606,
                    0.666515152,
                    0.330113636,
                    0.947689394,
                    0.919905405,
                    0.891723485,
                    0.835757576,
                    0.821354167,
                    0.779791667,
                    0.735984848,
                    0.712626263,
                    0.681060606,
                    0.515606061,
                    0.985,
                    0.930340376,
                    0.911589744,
                    0.858143939,
                    0.846950758,
                    0.817424242,
                    0.817102273,
                    0.670075758,
                    0.628882576,
                    0.337973485,
                    0.93532197,
                    0.925643939,
                    0.873068182,
                    0.858143939,
                    0.828295455,
                    0.820833333,
                    0.668087121,
                    0.653598485,
                    0.609138258,
                    0.597348485,
                    0.590435606,
                    0.955151515,
                    0.942213805,
                    0.905454545,
                    0.880530303,
                    0.858143939,
                    0.817424242,
                    0.809564394,
                    0.725,
                    0.648106061,
                    0.640577652,
                    0.24625,
                    0.952020202,
                    0.951420455,
                    0.912766667,
                    0.901262626,
                    0.858143939,
                    0.821354167,
                    0.805909091,
                    0.681060606,
                    0.670075758,
                    0.601278409,
                    0.934607438,
                    0.908080808,
                    0.891723485,
                    0.864583333,
                    0.858143939,
                    0.837594697,
                    0.820833333,
                    0.667329545,
                    0.332359307,
                    0.247316017,
                    0.988636364,
                    0.953110048,
                    0.884261364,
                    0.860653409,
                    0.858143939,
                    0.689299242,
                    0.606912879,
                    0.98719697,
                    0.980909091,
                    0.974621212,
                    0.884261364,
                    0.82680303,
                    0.675568182,
                    0.661837121,
                    0.465757576,
                    0.313852814,
                    0.852793561,
                    0.838383838,
                    0.804848485,
                    0.692045455,
                    0.639867424,
                    0.582045455,
                    0.235795455,
                    0.977272727,
                    0.964106061,
                    0.958901515,
                    0.793844697,
                    0.683806818,
                    0.538399621,
                    0.409545455,
                    1.033570076,
                    0.72830303,
                    0.639867424,
                    0.362666667,
                    0.978525641,
                    0.912202112,
                    0.827147436,
                    0.758173077,
                    0.594871795,
                    0.505128205,
                    0.470769231,
                    0.957638889,
                    0.940701058,
                    0.742901235,
                    0.670216049,
                    0.649662222,
                    0.649662222,
                    0.626822917,
                    0.460578704,
                    0.397743056,
                    0.327407407,
                    0.966666667,
                    0.937242424,
                    0.910521886,
                    0.896022727,
                    0.895454545,
                    0.870580808,
                    0.858585859,
                    0.651515152,
                    0.578314394,
                    0.578314394,
                    0.261174242,
                    0.973796791,
                    0.970075758,
                    0.970075758,
                    0.961784512,
                    0.955151515,
                    0.952020202,
                    0.749188312,
                    0.618181818,
                    0.329545455,
                    1.059621212,
                    0.997792208,
                    0.963699495,
                    0.959191919,
                    0.910378788,
                    0.910378788,
                    0.769292929,
                    0.646306818,
                    0.979527778,
                    0.940625,
                    0.926388889,
                    0.861875,
                    0.845458333,
                    0.823555556,
                    0.803541667,
                    0.788,
                    0.77815,
                    0.6225,
                    0.977555556,
                    0.9456,
                    0.902222222,
                    0.840533333,
                    0.755555556,
                    0.722638889,
                    0.553333333,
                    0.406354167,
                    0.259375,
                    0.989,
                    0.899,
                    0.877552083,
                    0.864583333,
                    0.85695,
                    0.853666667,
                    0.773333333,
                    0.634666667,
                    0.4925,
                    0.971866667,
                    0.971866667,
                    0.971866667,
                    0.971866667,
                    0.971866667,
                    0.971866667,
                    0.971866667,
                    0.971866667,
                    0.971866667,
                    0.971866667,
                    0.971866667,
                    0.971866667,
                    1.0115625,
                    0.950438596,
                    0.912766667,
                    0.892194444,
                    0.8865,
                    0.845069444,
                    0.702666667,
                    0.314166667,
                    0.994270833,
                    0.85695,
                    0.809236111,
                    0.740444444,
                    0.561979167,
                    0.504596491,
                    0.280333333,
                    1.001416667,
                    0.99485,
                    0.976979167,
                    0.919954545,
                    0.778222222,
                    0.5375,
                    0.495416667,
                    0.966759259,
                    0.929183333,
                    0.915766667,
                    0.779791667,
                    0.755166667,
                    0.687555556,
                    0.531666667,
                    0.999924242,
                    0.9425,
                    0.906666667,
                    0.8471,
                    0.845458333,
                    0.771583333,
                    1.050666667,
                    0.899111111,
                    0.870083333,
                    0.845833333,
                    0.771583333,
                    0.715766667,
                    0.447916667,
                    0.928680556,
                    0.893066667,
                    0.891555556,
                    0.875555556,
                    0.840888889,
                    0.610208333,
                    0.607416667,
                    1.057962963,
                    0.962016667,
                    0.888125,
                    0.707111111,
                    0.697708333,
                    0.272,
                    1.004888889,
                    0.966759259,
                    0.853666667,
                    0.796755556,
                    0.703770833,
                    0.6895,
                    0.628333333,
                    1.033155556,
                    1.02,
                    0.994375,
                    0.912037037,
                    0.87,
                    0.618361111,
                    0.54175,
                    1.096633333,
                    0.838666667,
                    0.755486111,
                    0.664875,
                    0.656666667,
                    0.601944444,
                    0.58,
                    0.929277778,
                    0.902916667,
                    0.800888889,
                    0.796208333,
                    0.725625,
                    0.483333333,
                    0.238041667,
                    1.1204375,
                    1.108125,
                    0.876444444,
                    0.760833333,
                    0.715333333,
                    0.605208333,
                    0.604166667,
                    0.287041667,
                    0.960433333,
                    0.891555556,
                    0.864583333,
                    0.773333333,
                    0.722333333,
                    0.629416667,
                    0.258,
                    0.927541667,
                    0.91375,
                    0.9025,
                    0.7866,
                    0.749166667,
                    0.656666667,
                    0.586041667,
                    0.5814,
                    0.9918,
                    0.936861111,
                    0.919125,
                    0.734645833,
                    0.671875,
                    0.64025,
                    0.58,
                    0.549791667,
                    0.2565,
                    0.81640625,
                    0.785864198,
                    0.733277778,
                    0.710125,
                    0.684027778,
                    0.672135417,
                    0.631354167,
                    0.609583333,
                    0.8721,
                    0.8319375,
                    0.8300625,
                    0.805555556,
                    0.78375,
                    0.753525,
                    0.727349537,
                    0.385791667,
                    0.283958333,
                    0.955791667,
                    0.930416667,
                    0.9025,
                    0.87115,
                    0.3715625,
                    0.3715625,
                    0.36871875,
                    0.356458333,
                    0.902222222,
                    0.811388889,
                    0.791458333,
                    0.726933333,
                    0.726933333,
                    0.5046875,
                    0.325,
                    0.902962963,
                    0.900833333,
                    0.899555556,
                    0.845833333,
                    0.676666667,
                    0.658541667,
                    0.440375,
                    0.410833333,
                    0.410833333,
                    0.921703704,
                    0.921604938,
                    0.768847222,
                    0.590617284,
                    0.5565625,
                    0.410833333,
                    0.4078125,
                    0.376597222,
                    0.271875,
                    0.921703704,
                    0.921604938,
                    0.768847222,
                    0.590617284,
                    0.5565625,
                    0.410833333,
                    0.4078125,
                    0.376597222,
                    0.271875,
                    0.936355556,
                    0.813611111,
                    0.673083333,
                    0.664583333,
                    0.585,
                    0.448722222,
                    0.447083333,
                    0.350416667,
                    0.92885,
                    0.86037037,
                    0.806879167,
                    0.8004,
                    0.773333333,
                    0.632361111,
                    0.607654321,
                    0.537919444,
                    0.342361111,
                    0.999533333,
                    0.902962963,
                    0.702777778,
                    0.636049383,
                    0.567377778,
                    0.555430556,
                    0.555430556,
                    0.463194444,
                    0.354444444,
                    0.309333333,
                    0.939166667,
                    0.930416667,
                    0.885925926,
                    0.83375,
                    0.806879167,
                    0.806058333,
                    0.684888889,
                    0.592083333,
                    0.5403125,
                    0.980984848,
                    0.950625,
                    0.927291667,
                    0.868888889,
                    0.812625,
                    0.812625,
                    0.810111111,
                    0.453125,
                    0.868888889,
                    0.825444444,
                    0.80575,
                    0.7975,
                    0.664875,
                    0.664875,
                    0.657083333,
                    0.590740741,
                    0.528125,
                    0.951944444,
                    0.945555556,
                    0.929074074,
                    0.890604167,
                    0.890604167,
                    0.884,
                    0.857916667,
                    0.755208333,
                    0.4509375,
                    0.441041667,
                    0.271875,
                    0.960625,
                    0.902962963,
                    0.864342593,
                    0.841,
                    0.795416667,
                    0.7953875,
                    0.794566667,
                    0.6825,
                    0.477291667,
                    0.2640625,
                    0.92,
                    0.909391667,
                    0.894444444,
                    0.881575,
                    0.880754167,
                    0.821666667,
                    0.758229167,
                    0.741,
                    0.560625,
                    0.560625,
                    0.39875,
                    0.922839506,
                    0.874027778,
                    0.819270833,
                    0.813309028,
                    0.812625,
                    0.786631944,
                    0.75885,
                    0.628333333,
                    0.625625,
                    0.625625,
                    0.505888889,
                    0.394722222
                  ],
                  "xaxis": "x",
                  "yaxis": "y"
                }
              ],
              "layout": {
                "barmode": "overlay",
                "legend": {
                  "title": {
                    "text": "department"
                  },
                  "tracegroupgap": 0
                },
                "template": {
                  "data": {
                    "bar": [
                      {
                        "error_x": {
                          "color": "#2a3f5f"
                        },
                        "error_y": {
                          "color": "#2a3f5f"
                        },
                        "marker": {
                          "line": {
                            "color": "#E5ECF6",
                            "width": 0.5
                          },
                          "pattern": {
                            "fillmode": "overlay",
                            "size": 10,
                            "solidity": 0.2
                          }
                        },
                        "type": "bar"
                      }
                    ],
                    "barpolar": [
                      {
                        "marker": {
                          "line": {
                            "color": "#E5ECF6",
                            "width": 0.5
                          },
                          "pattern": {
                            "fillmode": "overlay",
                            "size": 10,
                            "solidity": 0.2
                          }
                        },
                        "type": "barpolar"
                      }
                    ],
                    "carpet": [
                      {
                        "aaxis": {
                          "endlinecolor": "#2a3f5f",
                          "gridcolor": "white",
                          "linecolor": "white",
                          "minorgridcolor": "white",
                          "startlinecolor": "#2a3f5f"
                        },
                        "baxis": {
                          "endlinecolor": "#2a3f5f",
                          "gridcolor": "white",
                          "linecolor": "white",
                          "minorgridcolor": "white",
                          "startlinecolor": "#2a3f5f"
                        },
                        "type": "carpet"
                      }
                    ],
                    "choropleth": [
                      {
                        "colorbar": {
                          "outlinewidth": 0,
                          "ticks": ""
                        },
                        "type": "choropleth"
                      }
                    ],
                    "contour": [
                      {
                        "colorbar": {
                          "outlinewidth": 0,
                          "ticks": ""
                        },
                        "colorscale": [
                          [
                            0,
                            "#0d0887"
                          ],
                          [
                            0.1111111111111111,
                            "#46039f"
                          ],
                          [
                            0.2222222222222222,
                            "#7201a8"
                          ],
                          [
                            0.3333333333333333,
                            "#9c179e"
                          ],
                          [
                            0.4444444444444444,
                            "#bd3786"
                          ],
                          [
                            0.5555555555555556,
                            "#d8576b"
                          ],
                          [
                            0.6666666666666666,
                            "#ed7953"
                          ],
                          [
                            0.7777777777777778,
                            "#fb9f3a"
                          ],
                          [
                            0.8888888888888888,
                            "#fdca26"
                          ],
                          [
                            1,
                            "#f0f921"
                          ]
                        ],
                        "type": "contour"
                      }
                    ],
                    "contourcarpet": [
                      {
                        "colorbar": {
                          "outlinewidth": 0,
                          "ticks": ""
                        },
                        "type": "contourcarpet"
                      }
                    ],
                    "heatmap": [
                      {
                        "colorbar": {
                          "outlinewidth": 0,
                          "ticks": ""
                        },
                        "colorscale": [
                          [
                            0,
                            "#0d0887"
                          ],
                          [
                            0.1111111111111111,
                            "#46039f"
                          ],
                          [
                            0.2222222222222222,
                            "#7201a8"
                          ],
                          [
                            0.3333333333333333,
                            "#9c179e"
                          ],
                          [
                            0.4444444444444444,
                            "#bd3786"
                          ],
                          [
                            0.5555555555555556,
                            "#d8576b"
                          ],
                          [
                            0.6666666666666666,
                            "#ed7953"
                          ],
                          [
                            0.7777777777777778,
                            "#fb9f3a"
                          ],
                          [
                            0.8888888888888888,
                            "#fdca26"
                          ],
                          [
                            1,
                            "#f0f921"
                          ]
                        ],
                        "type": "heatmap"
                      }
                    ],
                    "heatmapgl": [
                      {
                        "colorbar": {
                          "outlinewidth": 0,
                          "ticks": ""
                        },
                        "colorscale": [
                          [
                            0,
                            "#0d0887"
                          ],
                          [
                            0.1111111111111111,
                            "#46039f"
                          ],
                          [
                            0.2222222222222222,
                            "#7201a8"
                          ],
                          [
                            0.3333333333333333,
                            "#9c179e"
                          ],
                          [
                            0.4444444444444444,
                            "#bd3786"
                          ],
                          [
                            0.5555555555555556,
                            "#d8576b"
                          ],
                          [
                            0.6666666666666666,
                            "#ed7953"
                          ],
                          [
                            0.7777777777777778,
                            "#fb9f3a"
                          ],
                          [
                            0.8888888888888888,
                            "#fdca26"
                          ],
                          [
                            1,
                            "#f0f921"
                          ]
                        ],
                        "type": "heatmapgl"
                      }
                    ],
                    "histogram": [
                      {
                        "marker": {
                          "pattern": {
                            "fillmode": "overlay",
                            "size": 10,
                            "solidity": 0.2
                          }
                        },
                        "type": "histogram"
                      }
                    ],
                    "histogram2d": [
                      {
                        "colorbar": {
                          "outlinewidth": 0,
                          "ticks": ""
                        },
                        "colorscale": [
                          [
                            0,
                            "#0d0887"
                          ],
                          [
                            0.1111111111111111,
                            "#46039f"
                          ],
                          [
                            0.2222222222222222,
                            "#7201a8"
                          ],
                          [
                            0.3333333333333333,
                            "#9c179e"
                          ],
                          [
                            0.4444444444444444,
                            "#bd3786"
                          ],
                          [
                            0.5555555555555556,
                            "#d8576b"
                          ],
                          [
                            0.6666666666666666,
                            "#ed7953"
                          ],
                          [
                            0.7777777777777778,
                            "#fb9f3a"
                          ],
                          [
                            0.8888888888888888,
                            "#fdca26"
                          ],
                          [
                            1,
                            "#f0f921"
                          ]
                        ],
                        "type": "histogram2d"
                      }
                    ],
                    "histogram2dcontour": [
                      {
                        "colorbar": {
                          "outlinewidth": 0,
                          "ticks": ""
                        },
                        "colorscale": [
                          [
                            0,
                            "#0d0887"
                          ],
                          [
                            0.1111111111111111,
                            "#46039f"
                          ],
                          [
                            0.2222222222222222,
                            "#7201a8"
                          ],
                          [
                            0.3333333333333333,
                            "#9c179e"
                          ],
                          [
                            0.4444444444444444,
                            "#bd3786"
                          ],
                          [
                            0.5555555555555556,
                            "#d8576b"
                          ],
                          [
                            0.6666666666666666,
                            "#ed7953"
                          ],
                          [
                            0.7777777777777778,
                            "#fb9f3a"
                          ],
                          [
                            0.8888888888888888,
                            "#fdca26"
                          ],
                          [
                            1,
                            "#f0f921"
                          ]
                        ],
                        "type": "histogram2dcontour"
                      }
                    ],
                    "mesh3d": [
                      {
                        "colorbar": {
                          "outlinewidth": 0,
                          "ticks": ""
                        },
                        "type": "mesh3d"
                      }
                    ],
                    "parcoords": [
                      {
                        "line": {
                          "colorbar": {
                            "outlinewidth": 0,
                            "ticks": ""
                          }
                        },
                        "type": "parcoords"
                      }
                    ],
                    "pie": [
                      {
                        "automargin": true,
                        "type": "pie"
                      }
                    ],
                    "scatter": [
                      {
                        "fillpattern": {
                          "fillmode": "overlay",
                          "size": 10,
                          "solidity": 0.2
                        },
                        "type": "scatter"
                      }
                    ],
                    "scatter3d": [
                      {
                        "line": {
                          "colorbar": {
                            "outlinewidth": 0,
                            "ticks": ""
                          }
                        },
                        "marker": {
                          "colorbar": {
                            "outlinewidth": 0,
                            "ticks": ""
                          }
                        },
                        "type": "scatter3d"
                      }
                    ],
                    "scattercarpet": [
                      {
                        "marker": {
                          "colorbar": {
                            "outlinewidth": 0,
                            "ticks": ""
                          }
                        },
                        "type": "scattercarpet"
                      }
                    ],
                    "scattergeo": [
                      {
                        "marker": {
                          "colorbar": {
                            "outlinewidth": 0,
                            "ticks": ""
                          }
                        },
                        "type": "scattergeo"
                      }
                    ],
                    "scattergl": [
                      {
                        "marker": {
                          "colorbar": {
                            "outlinewidth": 0,
                            "ticks": ""
                          }
                        },
                        "type": "scattergl"
                      }
                    ],
                    "scattermapbox": [
                      {
                        "marker": {
                          "colorbar": {
                            "outlinewidth": 0,
                            "ticks": ""
                          }
                        },
                        "type": "scattermapbox"
                      }
                    ],
                    "scatterpolar": [
                      {
                        "marker": {
                          "colorbar": {
                            "outlinewidth": 0,
                            "ticks": ""
                          }
                        },
                        "type": "scatterpolar"
                      }
                    ],
                    "scatterpolargl": [
                      {
                        "marker": {
                          "colorbar": {
                            "outlinewidth": 0,
                            "ticks": ""
                          }
                        },
                        "type": "scatterpolargl"
                      }
                    ],
                    "scatterternary": [
                      {
                        "marker": {
                          "colorbar": {
                            "outlinewidth": 0,
                            "ticks": ""
                          }
                        },
                        "type": "scatterternary"
                      }
                    ],
                    "surface": [
                      {
                        "colorbar": {
                          "outlinewidth": 0,
                          "ticks": ""
                        },
                        "colorscale": [
                          [
                            0,
                            "#0d0887"
                          ],
                          [
                            0.1111111111111111,
                            "#46039f"
                          ],
                          [
                            0.2222222222222222,
                            "#7201a8"
                          ],
                          [
                            0.3333333333333333,
                            "#9c179e"
                          ],
                          [
                            0.4444444444444444,
                            "#bd3786"
                          ],
                          [
                            0.5555555555555556,
                            "#d8576b"
                          ],
                          [
                            0.6666666666666666,
                            "#ed7953"
                          ],
                          [
                            0.7777777777777778,
                            "#fb9f3a"
                          ],
                          [
                            0.8888888888888888,
                            "#fdca26"
                          ],
                          [
                            1,
                            "#f0f921"
                          ]
                        ],
                        "type": "surface"
                      }
                    ],
                    "table": [
                      {
                        "cells": {
                          "fill": {
                            "color": "#EBF0F8"
                          },
                          "line": {
                            "color": "white"
                          }
                        },
                        "header": {
                          "fill": {
                            "color": "#C8D4E3"
                          },
                          "line": {
                            "color": "white"
                          }
                        },
                        "type": "table"
                      }
                    ]
                  },
                  "layout": {
                    "annotationdefaults": {
                      "arrowcolor": "#2a3f5f",
                      "arrowhead": 0,
                      "arrowwidth": 1
                    },
                    "autotypenumbers": "strict",
                    "coloraxis": {
                      "colorbar": {
                        "outlinewidth": 0,
                        "ticks": ""
                      }
                    },
                    "colorscale": {
                      "diverging": [
                        [
                          0,
                          "#8e0152"
                        ],
                        [
                          0.1,
                          "#c51b7d"
                        ],
                        [
                          0.2,
                          "#de77ae"
                        ],
                        [
                          0.3,
                          "#f1b6da"
                        ],
                        [
                          0.4,
                          "#fde0ef"
                        ],
                        [
                          0.5,
                          "#f7f7f7"
                        ],
                        [
                          0.6,
                          "#e6f5d0"
                        ],
                        [
                          0.7,
                          "#b8e186"
                        ],
                        [
                          0.8,
                          "#7fbc41"
                        ],
                        [
                          0.9,
                          "#4d9221"
                        ],
                        [
                          1,
                          "#276419"
                        ]
                      ],
                      "sequential": [
                        [
                          0,
                          "#0d0887"
                        ],
                        [
                          0.1111111111111111,
                          "#46039f"
                        ],
                        [
                          0.2222222222222222,
                          "#7201a8"
                        ],
                        [
                          0.3333333333333333,
                          "#9c179e"
                        ],
                        [
                          0.4444444444444444,
                          "#bd3786"
                        ],
                        [
                          0.5555555555555556,
                          "#d8576b"
                        ],
                        [
                          0.6666666666666666,
                          "#ed7953"
                        ],
                        [
                          0.7777777777777778,
                          "#fb9f3a"
                        ],
                        [
                          0.8888888888888888,
                          "#fdca26"
                        ],
                        [
                          1,
                          "#f0f921"
                        ]
                      ],
                      "sequentialminus": [
                        [
                          0,
                          "#0d0887"
                        ],
                        [
                          0.1111111111111111,
                          "#46039f"
                        ],
                        [
                          0.2222222222222222,
                          "#7201a8"
                        ],
                        [
                          0.3333333333333333,
                          "#9c179e"
                        ],
                        [
                          0.4444444444444444,
                          "#bd3786"
                        ],
                        [
                          0.5555555555555556,
                          "#d8576b"
                        ],
                        [
                          0.6666666666666666,
                          "#ed7953"
                        ],
                        [
                          0.7777777777777778,
                          "#fb9f3a"
                        ],
                        [
                          0.8888888888888888,
                          "#fdca26"
                        ],
                        [
                          1,
                          "#f0f921"
                        ]
                      ]
                    },
                    "colorway": [
                      "#636efa",
                      "#EF553B",
                      "#00cc96",
                      "#ab63fa",
                      "#FFA15A",
                      "#19d3f3",
                      "#FF6692",
                      "#B6E880",
                      "#FF97FF",
                      "#FECB52"
                    ],
                    "font": {
                      "color": "#2a3f5f"
                    },
                    "geo": {
                      "bgcolor": "white",
                      "lakecolor": "white",
                      "landcolor": "#E5ECF6",
                      "showlakes": true,
                      "showland": true,
                      "subunitcolor": "white"
                    },
                    "hoverlabel": {
                      "align": "left"
                    },
                    "hovermode": "closest",
                    "mapbox": {
                      "style": "light"
                    },
                    "paper_bgcolor": "white",
                    "plot_bgcolor": "#E5ECF6",
                    "polar": {
                      "angularaxis": {
                        "gridcolor": "white",
                        "linecolor": "white",
                        "ticks": ""
                      },
                      "bgcolor": "#E5ECF6",
                      "radialaxis": {
                        "gridcolor": "white",
                        "linecolor": "white",
                        "ticks": ""
                      }
                    },
                    "scene": {
                      "xaxis": {
                        "backgroundcolor": "#E5ECF6",
                        "gridcolor": "white",
                        "gridwidth": 2,
                        "linecolor": "white",
                        "showbackground": true,
                        "ticks": "",
                        "zerolinecolor": "white"
                      },
                      "yaxis": {
                        "backgroundcolor": "#E5ECF6",
                        "gridcolor": "white",
                        "gridwidth": 2,
                        "linecolor": "white",
                        "showbackground": true,
                        "ticks": "",
                        "zerolinecolor": "white"
                      },
                      "zaxis": {
                        "backgroundcolor": "#E5ECF6",
                        "gridcolor": "white",
                        "gridwidth": 2,
                        "linecolor": "white",
                        "showbackground": true,
                        "ticks": "",
                        "zerolinecolor": "white"
                      }
                    },
                    "shapedefaults": {
                      "line": {
                        "color": "#2a3f5f"
                      }
                    },
                    "ternary": {
                      "aaxis": {
                        "gridcolor": "white",
                        "linecolor": "white",
                        "ticks": ""
                      },
                      "baxis": {
                        "gridcolor": "white",
                        "linecolor": "white",
                        "ticks": ""
                      },
                      "bgcolor": "#E5ECF6",
                      "caxis": {
                        "gridcolor": "white",
                        "linecolor": "white",
                        "ticks": ""
                      }
                    },
                    "title": {
                      "x": 0.05
                    },
                    "xaxis": {
                      "automargin": true,
                      "gridcolor": "white",
                      "linecolor": "white",
                      "ticks": "",
                      "title": {
                        "standoff": 15
                      },
                      "zerolinecolor": "white",
                      "zerolinewidth": 2
                    },
                    "yaxis": {
                      "automargin": true,
                      "gridcolor": "white",
                      "linecolor": "white",
                      "ticks": "",
                      "title": {
                        "standoff": 15
                      },
                      "zerolinecolor": "white",
                      "zerolinewidth": 2
                    }
                  }
                },
                "title": {
                  "text": "Interactive Histogram of Actual Productivity by Department"
                },
                "xaxis": {
                  "anchor": "y",
                  "domain": [
                    0,
                    1
                  ],
                  "title": {
                    "text": "actual_productivity"
                  }
                },
                "yaxis": {
                  "anchor": "x",
                  "domain": [
                    0,
                    1
                  ],
                  "title": {
                    "text": "count"
                  }
                }
              }
            }
          },
          "metadata": {},
          "output_type": "display_data"
        }
      ],
      "source": [
        "\n",
        "# ===========================================================\n",
        "# 5. Department-wise mean and std of productivity\n",
        "# ===========================================================\n",
        "dept_stats = df.groupby('department')['actual_productivity'].agg(['mean','std'])\n",
        "print(\"\\nDepartment-wise Actual Productivity (Mean & Std Dev):\")\n",
        "print(dept_stats)\n",
        "\n",
        "# Interactive Histogram by Department\n",
        "fig = px.histogram(df, x='actual_productivity', color='department', barmode='overlay',\n",
        "                   title=\"Interactive Histogram of Actual Productivity by Department\")\n",
        "fig.show()\n",
        "\n",
        "# The finishing department is slightly more productive but also has higher variability. Sewing is less productive on average.\n"
      ]
    },
    {
      "cell_type": "code",
      "execution_count": 10,
      "id": "192ed17d",
      "metadata": {},
      "outputs": [
        {
          "name": "stdout",
          "output_type": "stream",
          "text": [
            "\n",
            "Number of unique Teams: 12\n",
            "Number of unique SMV values: 70\n"
          ]
        }
      ],
      "source": [
        "\n",
        "# ===========================================================\n",
        "# 6. Count of unique teams and SMV values\n",
        "# ===========================================================\n",
        "print(\"\\nNumber of unique Teams:\", df['team'].nunique())\n",
        "print(\"Number of unique SMV values:\", df['smv'].nunique())"
      ]
    },
    {
      "cell_type": "code",
      "execution_count": 11,
      "id": "90f0dd67",
      "metadata": {},
      "outputs": [
        {
          "data": {
            "application/vnd.plotly.v1+json": {
              "config": {
                "plotlyServerURL": "https://plot.ly"
              },
              "data": [
                {
                  "alignmentgroup": "True",
                  "bingroup": "x",
                  "hovertemplate": "day=Thursday<br>actual_productivity=%{x}<br>count=%{y}<extra></extra>",
                  "legendgroup": "Thursday",
                  "marker": {
                    "color": "#636efa",
                    "opacity": 0.5,
                    "pattern": {
                      "shape": ""
                    }
                  },
                  "name": "Thursday",
                  "offsetgroup": "Thursday",
                  "orientation": "v",
                  "showlegend": true,
                  "type": "histogram",
                  "x": [
                    0.940725424,
                    0.8865,
                    0.800570492,
                    0.800570492,
                    0.800381944,
                    0.800125,
                    0.755166667,
                    0.753683478,
                    0.753097531,
                    0.750427826,
                    0.721126957,
                    0.712205247,
                    0.707045902,
                    0.705916667,
                    0.676666667,
                    0.593055556,
                    0.540729167,
                    0.52118,
                    0.436326389,
                    0.947689394,
                    0.919905405,
                    0.900215716,
                    0.891723485,
                    0.850502311,
                    0.850181818,
                    0.850136766,
                    0.850136766,
                    0.835757576,
                    0.821354167,
                    0.800497246,
                    0.800273829,
                    0.800107143,
                    0.800024932,
                    0.8,
                    0.779791667,
                    0.735984848,
                    0.712626263,
                    0.681060606,
                    0.515606061,
                    0.349951389,
                    0.233705476,
                    0.988636364,
                    0.953110048,
                    0.884261364,
                    0.860653409,
                    0.858143939,
                    0.850502311,
                    0.850415628,
                    0.850136766,
                    0.800117103,
                    0.80003139,
                    0.80003139,
                    0.700060345,
                    0.689299242,
                    0.660683293,
                    0.650130952,
                    0.606912879,
                    0.600291767,
                    0.500025069,
                    0.499998888,
                    0.957638889,
                    0.940701058,
                    0.849983766,
                    0.800302791,
                    0.800191989,
                    0.800020563,
                    0.750162367,
                    0.750068049,
                    0.742901235,
                    0.700250784,
                    0.700170388,
                    0.670216049,
                    0.649662222,
                    0.649662222,
                    0.626822917,
                    0.600436426,
                    0.60041361,
                    0.555500132,
                    0.500547544,
                    0.460578704,
                    0.397743056,
                    0.327407407,
                    1.000230409,
                    0.989,
                    0.950185965,
                    0.9008,
                    0.900129762,
                    0.899,
                    0.877552083,
                    0.864583333,
                    0.85695,
                    0.853666667,
                    0.850362069,
                    0.850170115,
                    0.800473729,
                    0.773333333,
                    0.750646667,
                    0.634666667,
                    0.60059761,
                    0.500117677,
                    0.4925,
                    0.48792,
                    1.000446018,
                    1.000018551,
                    0.999995238,
                    0.999924242,
                    0.950185965,
                    0.9425,
                    0.906666667,
                    0.8471,
                    0.845458333,
                    0.800612676,
                    0.799963218,
                    0.771583333,
                    0.7504,
                    0.700079032,
                    0.562212644,
                    0.522844828,
                    0.500720126,
                    0.496549708,
                    1.100483918,
                    1.096633333,
                    1.000344928,
                    0.838666667,
                    0.800401961,
                    0.755486111,
                    0.750799435,
                    0.688017677,
                    0.664875,
                    0.656666667,
                    0.637711864,
                    0.601944444,
                    0.58,
                    0.535677966,
                    0.50012336,
                    0.497885057,
                    0.463403955,
                    0.441392,
                    0.350301724,
                    0.81640625,
                    0.800711494,
                    0.800470513,
                    0.800094017,
                    0.799982853,
                    0.785864198,
                    0.75065101,
                    0.733277778,
                    0.710125,
                    0.700603448,
                    0.700540441,
                    0.7,
                    0.684027778,
                    0.672135417,
                    0.638614379,
                    0.631354167,
                    0.611140537,
                    0.609583333,
                    0.585315789,
                    0.249416667,
                    0.921703704,
                    0.921604938,
                    0.800808642,
                    0.800516667,
                    0.800401961,
                    0.768847222,
                    0.75065101,
                    0.750473684,
                    0.750371895,
                    0.750206897,
                    0.700251773,
                    0.66237931,
                    0.590617284,
                    0.5565625,
                    0.495617514,
                    0.449964912,
                    0.410833333,
                    0.4078125,
                    0.378895152,
                    0.376597222,
                    0.271875,
                    0.980984848,
                    0.950625,
                    0.927291667,
                    0.868888889,
                    0.812625,
                    0.812625,
                    0.810111111,
                    0.800701754,
                    0.800534979,
                    0.800401961,
                    0.750651724,
                    0.750395513,
                    0.750050847,
                    0.700424138,
                    0.700422,
                    0.600099145,
                    0.453125,
                    0.366053523,
                    0.26369382
                  ],
                  "xaxis": "x",
                  "yaxis": "y"
                },
                {
                  "alignmentgroup": "True",
                  "bingroup": "x",
                  "hovertemplate": "day=Saturday<br>actual_productivity=%{x}<br>count=%{y}<extra></extra>",
                  "legendgroup": "Saturday",
                  "marker": {
                    "color": "#EF553B",
                    "opacity": 0.5,
                    "pattern": {
                      "shape": ""
                    }
                  },
                  "name": "Saturday",
                  "offsetgroup": "Saturday",
                  "orientation": "v",
                  "showlegend": true,
                  "type": "histogram",
                  "x": [
                    0.988024691,
                    0.987880435,
                    0.956270833,
                    0.945277778,
                    0.902916667,
                    0.800725314,
                    0.800322936,
                    0.800318644,
                    0.800318644,
                    0.800237288,
                    0.800148649,
                    0.800125,
                    0.800125,
                    0.787299691,
                    0.782447917,
                    0.75024303,
                    0.7018125,
                    0.700134038,
                    0.699965217,
                    0.628333333,
                    0.6253125,
                    0.985,
                    0.930340376,
                    0.911589744,
                    0.858143939,
                    0.851174114,
                    0.850136766,
                    0.850136766,
                    0.846950758,
                    0.817424242,
                    0.817102273,
                    0.801028213,
                    0.800594466,
                    0.800346445,
                    0.800343766,
                    0.800117103,
                    0.8,
                    0.750098351,
                    0.673245283,
                    0.670075758,
                    0.628882576,
                    0.388007813,
                    0.337973485,
                    0.98719697,
                    0.980909091,
                    0.974621212,
                    0.884261364,
                    0.82680303,
                    0.800343766,
                    0.800246753,
                    0.800128721,
                    0.800128721,
                    0.800117103,
                    0.800117103,
                    0.77011398,
                    0.7005417,
                    0.675568182,
                    0.661837121,
                    0.650198653,
                    0.600291767,
                    0.600273268,
                    0.465757576,
                    0.452012539,
                    0.313852814,
                    0.966666667,
                    0.937242424,
                    0.910521886,
                    0.90064806,
                    0.900321106,
                    0.896022727,
                    0.895454545,
                    0.870580808,
                    0.858585859,
                    0.800643806,
                    0.80062987,
                    0.800537143,
                    0.80035194,
                    0.750079323,
                    0.750041201,
                    0.700250784,
                    0.651515152,
                    0.650416734,
                    0.600125217,
                    0.578314394,
                    0.578314394,
                    0.34998951,
                    0.261174242,
                    1.000457471,
                    1.000230409,
                    0.971866667,
                    0.971866667,
                    0.971866667,
                    0.971866667,
                    0.971866667,
                    0.971866667,
                    0.971866667,
                    0.971866667,
                    0.971866667,
                    0.971866667,
                    0.971866667,
                    0.971866667,
                    0.920236905,
                    0.900537069,
                    0.850610526,
                    0.850362069,
                    0.750646667,
                    0.656763743,
                    0.650148148,
                    0.600710606,
                    0.388830357,
                    0.286984568,
                    1.050666667,
                    1.000018551,
                    0.950185965,
                    0.900135693,
                    0.900129762,
                    0.899111111,
                    0.870083333,
                    0.845833333,
                    0.800401961,
                    0.799963218,
                    0.771583333,
                    0.750520115,
                    0.750027778,
                    0.715766667,
                    0.662270115,
                    0.600224189,
                    0.545657673,
                    0.447916667,
                    0.365318713,
                    1.000230409,
                    0.929277778,
                    0.902916667,
                    0.800888889,
                    0.800401961,
                    0.80037492,
                    0.796208333,
                    0.750392157,
                    0.750392157,
                    0.725625,
                    0.700206125,
                    0.602,
                    0.600447507,
                    0.557252451,
                    0.500801724,
                    0.483333333,
                    0.238041667,
                    0.921703704,
                    0.921604938,
                    0.800779018,
                    0.800260821,
                    0.799982853,
                    0.768847222,
                    0.750716981,
                    0.75065101,
                    0.750425926,
                    0.750395513,
                    0.700236601,
                    0.700211111,
                    0.590617284,
                    0.5565625,
                    0.550403509,
                    0.550349708,
                    0.500258046,
                    0.410833333,
                    0.4078125,
                    0.376597222,
                    0.271875,
                    0.868888889,
                    0.850520588,
                    0.850045,
                    0.825444444,
                    0.80575,
                    0.800746552,
                    0.800578947,
                    0.800034503,
                    0.7975,
                    0.749987124,
                    0.700422,
                    0.664875,
                    0.664875,
                    0.657083333,
                    0.65024031,
                    0.590740741,
                    0.528125,
                    0.500528095,
                    0.408960345
                  ],
                  "xaxis": "x",
                  "yaxis": "y"
                },
                {
                  "alignmentgroup": "True",
                  "bingroup": "x",
                  "hovertemplate": "day=Sunday<br>actual_productivity=%{x}<br>count=%{y}<extra></extra>",
                  "legendgroup": "Sunday",
                  "marker": {
                    "color": "#00cc96",
                    "opacity": 0.5,
                    "pattern": {
                      "shape": ""
                    }
                  },
                  "name": "Sunday",
                  "offsetgroup": "Sunday",
                  "orientation": "v",
                  "showlegend": true,
                  "type": "histogram",
                  "x": [
                    0.991388889,
                    0.931645833,
                    0.915229167,
                    0.879714482,
                    0.861679012,
                    0.850569492,
                    0.850436438,
                    0.850345133,
                    0.800598058,
                    0.800318644,
                    0.800237838,
                    0.800030199,
                    0.792104167,
                    0.759228395,
                    0.750348457,
                    0.75024303,
                    0.699965217,
                    0.682708333,
                    0.667604167,
                    0.603432184,
                    0.345833333,
                    0.93532197,
                    0.925643939,
                    0.900215716,
                    0.873068182,
                    0.858143939,
                    0.850502311,
                    0.850136766,
                    0.850136766,
                    0.828295455,
                    0.820833333,
                    0.800343766,
                    0.800246753,
                    0.8,
                    0.8,
                    0.690182815,
                    0.668087121,
                    0.653598485,
                    0.609138258,
                    0.600229846,
                    0.597348485,
                    0.590435606,
                    0.473134796,
                    0.452979626,
                    0.852793561,
                    0.838383838,
                    0.804848485,
                    0.800343766,
                    0.800128721,
                    0.800128721,
                    0.800015009,
                    0.7005417,
                    0.700094156,
                    0.692045455,
                    0.662255892,
                    0.650416734,
                    0.650299575,
                    0.650243497,
                    0.639867424,
                    0.600062696,
                    0.582045455,
                    0.403242161,
                    0.235795455,
                    0.973796791,
                    0.970075758,
                    0.970075758,
                    0.961784512,
                    0.955151515,
                    0.952020202,
                    0.900321106,
                    0.850223776,
                    0.800909609,
                    0.800513307,
                    0.800386364,
                    0.800020563,
                    0.749188312,
                    0.7005417,
                    0.70043672,
                    0.700250784,
                    0.650407524,
                    0.618181818,
                    0.59114168,
                    0.500061916,
                    0.329545455,
                    1.0115625,
                    1.000671304,
                    1.000402055,
                    0.950438596,
                    0.950185965,
                    0.912766667,
                    0.892194444,
                    0.8865,
                    0.850532143,
                    0.85011396,
                    0.845069444,
                    0.750593103,
                    0.750450658,
                    0.702666667,
                    0.700508929,
                    0.651007071,
                    0.466821212,
                    0.411553571,
                    0.314166667,
                    1.000018551,
                    0.928680556,
                    0.9008,
                    0.900135693,
                    0.900129762,
                    0.893066667,
                    0.891555556,
                    0.875555556,
                    0.840888889,
                    0.800355208,
                    0.799963218,
                    0.75065101,
                    0.750027778,
                    0.700618234,
                    0.610208333,
                    0.607416667,
                    0.568259587,
                    0.355534483,
                    0.353259649,
                    1.1204375,
                    1.108125,
                    1.000230409,
                    0.876444444,
                    0.800806306,
                    0.760833333,
                    0.722568627,
                    0.715333333,
                    0.700632768,
                    0.700573099,
                    0.681598039,
                    0.650223718,
                    0.605208333,
                    0.604166667,
                    0.598627451,
                    0.475718391,
                    0.432122899,
                    0.287041667,
                    0.283054487,
                    0.8721,
                    0.8319375,
                    0.8300625,
                    0.805555556,
                    0.800401961,
                    0.80000295,
                    0.78375,
                    0.753525,
                    0.75065101,
                    0.727349537,
                    0.700614035,
                    0.700605263,
                    0.672140805,
                    0.627011183,
                    0.626577778,
                    0.456875,
                    0.393548851,
                    0.385791667,
                    0.307501459,
                    0.283958333,
                    0.936355556,
                    0.813611111,
                    0.800401961,
                    0.75075,
                    0.75065101,
                    0.750473684,
                    0.750395513,
                    0.707446429,
                    0.700236601,
                    0.700019883,
                    0.683550607,
                    0.682433036,
                    0.673083333,
                    0.664583333,
                    0.600239766,
                    0.585,
                    0.579511494,
                    0.448722222,
                    0.447083333,
                    0.350416667,
                    0.951944444,
                    0.945555556,
                    0.929074074,
                    0.890604167,
                    0.890604167,
                    0.884,
                    0.857916667,
                    0.850084211,
                    0.85007069,
                    0.800511068,
                    0.800401961,
                    0.800034503,
                    0.755208333,
                    0.750371895,
                    0.700422,
                    0.700106061,
                    0.601037091,
                    0.600528571,
                    0.500033898,
                    0.4509375,
                    0.441041667,
                    0.271875
                  ],
                  "xaxis": "x",
                  "yaxis": "y"
                },
                {
                  "alignmentgroup": "True",
                  "bingroup": "x",
                  "hovertemplate": "day=Monday<br>actual_productivity=%{x}<br>count=%{y}<extra></extra>",
                  "legendgroup": "Monday",
                  "marker": {
                    "color": "#ab63fa",
                    "opacity": 0.5,
                    "pattern": {
                      "shape": ""
                    }
                  },
                  "name": "Monday",
                  "offsetgroup": "Monday",
                  "orientation": "v",
                  "showlegend": true,
                  "type": "histogram",
                  "x": [
                    0.961059028,
                    0.939513889,
                    0.893663194,
                    0.875390625,
                    0.850569492,
                    0.820833333,
                    0.804416667,
                    0.800684366,
                    0.800684366,
                    0.800318644,
                    0.800250962,
                    0.800246011,
                    0.800246011,
                    0.800076522,
                    0.800076522,
                    0.763375,
                    0.759270833,
                    0.7504,
                    0.75024303,
                    0.676666667,
                    0.664583333,
                    0.600028736,
                    0.955151515,
                    0.942213805,
                    0.905454545,
                    0.880530303,
                    0.858143939,
                    0.850522167,
                    0.850502311,
                    0.850136766,
                    0.850136766,
                    0.817424242,
                    0.809564394,
                    0.800273829,
                    0.800181818,
                    0.80007657,
                    0.8,
                    0.725,
                    0.688557555,
                    0.650040783,
                    0.64998056,
                    0.648106061,
                    0.640577652,
                    0.35063299,
                    0.24625,
                    0.977272727,
                    0.964106061,
                    0.958901515,
                    0.800358775,
                    0.800162602,
                    0.800117103,
                    0.793844697,
                    0.750517565,
                    0.750068049,
                    0.750062751,
                    0.750057359,
                    0.700170388,
                    0.683806818,
                    0.650066445,
                    0.576460393,
                    0.549969429,
                    0.538399621,
                    0.409545455,
                    0.35021836,
                    1.059621212,
                    0.997792208,
                    0.963699495,
                    0.959191919,
                    0.910378788,
                    0.910378788,
                    0.850312684,
                    0.800386364,
                    0.80035194,
                    0.800034024,
                    0.800023511,
                    0.800020563,
                    0.769292929,
                    0.750031447,
                    0.70061442,
                    0.70043672,
                    0.646306818,
                    0.600143365,
                    0.350066986,
                    1.000602279,
                    0.994270833,
                    0.900158405,
                    0.90014152,
                    0.900129762,
                    0.85695,
                    0.809236111,
                    0.800401961,
                    0.800393224,
                    0.799963218,
                    0.740444444,
                    0.700398148,
                    0.700354545,
                    0.561979167,
                    0.504596491,
                    0.500801724,
                    0.295307738,
                    0.280333333,
                    0.260978788,
                    1.057962963,
                    0.962016667,
                    0.9008,
                    0.900509044,
                    0.900477825,
                    0.888125,
                    0.800401961,
                    0.800161172,
                    0.799963218,
                    0.790003236,
                    0.750648148,
                    0.707111111,
                    0.700618234,
                    0.697708333,
                    0.612517157,
                    0.350301724,
                    0.350301724,
                    0.272,
                    1.000230409,
                    0.960433333,
                    0.891555556,
                    0.864583333,
                    0.802243319,
                    0.800980392,
                    0.800312375,
                    0.773333333,
                    0.75065101,
                    0.750356125,
                    0.722333333,
                    0.700459889,
                    0.629416667,
                    0.621971751,
                    0.565972222,
                    0.35542803,
                    0.329964879,
                    0.258,
                    0.955791667,
                    0.930416667,
                    0.9025,
                    0.87115,
                    0.800401961,
                    0.800137255,
                    0.800137255,
                    0.750770115,
                    0.75065101,
                    0.750293939,
                    0.700623,
                    0.700614035,
                    0.700362069,
                    0.60128,
                    0.417916667,
                    0.3715625,
                    0.3715625,
                    0.36871875,
                    0.356458333,
                    0.92885,
                    0.86037037,
                    0.806879167,
                    0.800579532,
                    0.800401961,
                    0.8004,
                    0.800309211,
                    0.800149813,
                    0.800115819,
                    0.773333333,
                    0.750797009,
                    0.750473684,
                    0.750395513,
                    0.750254867,
                    0.700903571,
                    0.70013604,
                    0.632361111,
                    0.607654321,
                    0.537919444,
                    0.342361111,
                    0.960625,
                    0.902962963,
                    0.864342593,
                    0.850446154,
                    0.850426891,
                    0.841,
                    0.800842424,
                    0.800401961,
                    0.800034503,
                    0.795416667,
                    0.7953875,
                    0.794566667,
                    0.750395513,
                    0.700516224,
                    0.700422,
                    0.6825,
                    0.650962281,
                    0.650421429,
                    0.600040678,
                    0.500610909,
                    0.477291667,
                    0.2640625
                  ],
                  "xaxis": "x",
                  "yaxis": "y"
                },
                {
                  "alignmentgroup": "True",
                  "bingroup": "x",
                  "hovertemplate": "day=Tuesday<br>actual_productivity=%{x}<br>count=%{y}<extra></extra>",
                  "legendgroup": "Tuesday",
                  "marker": {
                    "color": "#FFA15A",
                    "opacity": 0.5,
                    "pattern": {
                      "shape": ""
                    }
                  },
                  "name": "Tuesday",
                  "offsetgroup": "Tuesday",
                  "orientation": "v",
                  "showlegend": true,
                  "type": "histogram",
                  "x": [
                    0.966781346,
                    0.936496212,
                    0.899166667,
                    0.888686869,
                    0.858143939,
                    0.850502311,
                    0.850502311,
                    0.809640152,
                    0.805909091,
                    0.800594466,
                    0.800594466,
                    0.800273829,
                    0.800140969,
                    0.800128721,
                    0.800128721,
                    0.80007657,
                    0.750545455,
                    0.750057851,
                    0.681060606,
                    0.649983281,
                    0.61625,
                    0.952020202,
                    0.951420455,
                    0.912766667,
                    0.901262626,
                    0.858143939,
                    0.850502311,
                    0.850502311,
                    0.850252525,
                    0.850136766,
                    0.821354167,
                    0.805909091,
                    0.800246753,
                    0.800246753,
                    0.8,
                    0.705576584,
                    0.681060606,
                    0.670075758,
                    0.601278409,
                    0.582301029,
                    0.526810345,
                    0.500380799,
                    0.35020649,
                    1.033570076,
                    0.800261486,
                    0.800128721,
                    0.800117103,
                    0.750068049,
                    0.750057359,
                    0.750037968,
                    0.750031898,
                    0.72830303,
                    0.700170388,
                    0.700063796,
                    0.639867424,
                    0.500290419,
                    0.400332792,
                    0.362666667,
                    1.000230409,
                    1.000230409,
                    0.979527778,
                    0.940625,
                    0.926388889,
                    0.900129762,
                    0.861875,
                    0.850312684,
                    0.845458333,
                    0.823555556,
                    0.803541667,
                    0.800263218,
                    0.788,
                    0.77815,
                    0.700386207,
                    0.700164706,
                    0.650307143,
                    0.622828125,
                    0.6225,
                    0.500035345,
                    0.37046657,
                    1.001416667,
                    1.000018551,
                    0.999995238,
                    0.99485,
                    0.976979167,
                    0.950185965,
                    0.949981609,
                    0.919954545,
                    0.800434622,
                    0.800259023,
                    0.778222222,
                    0.750593103,
                    0.700513566,
                    0.700184577,
                    0.586465465,
                    0.541517857,
                    0.5375,
                    0.495416667,
                    0.415172414,
                    1.004888889,
                    0.966759259,
                    0.90063244,
                    0.90047076,
                    0.90047076,
                    0.899984058,
                    0.853666667,
                    0.8008,
                    0.800401961,
                    0.796755556,
                    0.750797009,
                    0.750648148,
                    0.750356125,
                    0.703770833,
                    0.700618234,
                    0.6895,
                    0.628333333,
                    0.500801724,
                    0.393548851,
                    1.000230409,
                    0.927541667,
                    0.91375,
                    0.9025,
                    0.800401961,
                    0.7866,
                    0.750621354,
                    0.750356125,
                    0.749166667,
                    0.700888203,
                    0.700614035,
                    0.700603448,
                    0.656666667,
                    0.653431373,
                    0.650134,
                    0.600982906,
                    0.586041667,
                    0.5814,
                    0.361071429,
                    0.302117347,
                    0.902222222,
                    0.811388889,
                    0.800401961,
                    0.800137255,
                    0.800071839,
                    0.791458333,
                    0.750727326,
                    0.75065101,
                    0.750437269,
                    0.750176991,
                    0.726933333,
                    0.726933333,
                    0.700623,
                    0.700518519,
                    0.700256795,
                    0.5046875,
                    0.471108491,
                    0.325,
                    0.268214286,
                    0.999533333,
                    0.902962963,
                    0.800701754,
                    0.800566092,
                    0.800401961,
                    0.800333333,
                    0.800115819,
                    0.750770115,
                    0.750473684,
                    0.750395513,
                    0.750212553,
                    0.702777778,
                    0.700659649,
                    0.699984417,
                    0.636049383,
                    0.567377778,
                    0.555430556,
                    0.555430556,
                    0.463194444,
                    0.354444444,
                    0.309333333,
                    0.30277037,
                    0.92,
                    0.909391667,
                    0.900061017,
                    0.894444444,
                    0.881575,
                    0.880754167,
                    0.850084211,
                    0.821666667,
                    0.800401961,
                    0.800071839,
                    0.800034503,
                    0.758229167,
                    0.750608,
                    0.750395513,
                    0.741,
                    0.700505263,
                    0.700246491,
                    0.700051852,
                    0.650044068,
                    0.630402924,
                    0.560625,
                    0.560625,
                    0.39875
                  ],
                  "xaxis": "x",
                  "yaxis": "y"
                },
                {
                  "alignmentgroup": "True",
                  "bingroup": "x",
                  "hovertemplate": "day=Wednesday<br>actual_productivity=%{x}<br>count=%{y}<extra></extra>",
                  "legendgroup": "Wednesday",
                  "marker": {
                    "color": "#19d3f3",
                    "opacity": 0.5,
                    "pattern": {
                      "shape": ""
                    }
                  },
                  "name": "Wednesday",
                  "offsetgroup": "Wednesday",
                  "orientation": "v",
                  "showlegend": true,
                  "type": "histogram",
                  "x": [
                    0.951420455,
                    0.880530303,
                    0.850502311,
                    0.850502311,
                    0.850136766,
                    0.83,
                    0.827186544,
                    0.813371212,
                    0.805909091,
                    0.804640152,
                    0.800594466,
                    0.800594466,
                    0.800343766,
                    0.800273829,
                    0.800246753,
                    0.800128721,
                    0.8,
                    0.700480831,
                    0.681060606,
                    0.666515152,
                    0.412119835,
                    0.330113636,
                    0.934607438,
                    0.908080808,
                    0.900144811,
                    0.891723485,
                    0.864583333,
                    0.858143939,
                    0.850502311,
                    0.850136766,
                    0.837594697,
                    0.820833333,
                    0.800313433,
                    0.800246753,
                    0.800117103,
                    0.700095563,
                    0.667329545,
                    0.600369686,
                    0.499980334,
                    0.35003125,
                    0.332359307,
                    0.311207464,
                    0.247316017,
                    0.978525641,
                    0.912202112,
                    0.900556277,
                    0.850410511,
                    0.827147436,
                    0.800436542,
                    0.800415742,
                    0.800020563,
                    0.758173077,
                    0.750344828,
                    0.750068049,
                    0.700170388,
                    0.700029771,
                    0.60017284,
                    0.594871795,
                    0.520237649,
                    0.505128205,
                    0.500241342,
                    0.470769231,
                    1.000230409,
                    1.000230409,
                    0.977555556,
                    0.9456,
                    0.902222222,
                    0.850532143,
                    0.850362069,
                    0.840533333,
                    0.800534483,
                    0.800489676,
                    0.755555556,
                    0.750593103,
                    0.750283333,
                    0.722638889,
                    0.553333333,
                    0.500567308,
                    0.467693269,
                    0.437995338,
                    0.406354167,
                    0.285333333,
                    0.259375,
                    1.05028058,
                    1.000230409,
                    0.999995238,
                    0.966759259,
                    0.929183333,
                    0.915766667,
                    0.900147246,
                    0.800401961,
                    0.799963218,
                    0.779791667,
                    0.755166667,
                    0.700710417,
                    0.700612069,
                    0.700278846,
                    0.700135088,
                    0.687555556,
                    0.650834808,
                    0.531666667,
                    0.350706422,
                    1.033155556,
                    1.02,
                    1.000344928,
                    1.000065789,
                    0.994375,
                    0.912037037,
                    0.87,
                    0.850364583,
                    0.800947475,
                    0.800401961,
                    0.800144144,
                    0.750406233,
                    0.714410494,
                    0.700588406,
                    0.618361111,
                    0.600070513,
                    0.54175,
                    0.536901754,
                    0.507903226,
                    0.9918,
                    0.936861111,
                    0.919125,
                    0.8211125,
                    0.800980392,
                    0.800980392,
                    0.800401961,
                    0.800279693,
                    0.75065101,
                    0.75053268,
                    0.734645833,
                    0.700603448,
                    0.70009573,
                    0.671875,
                    0.64025,
                    0.58,
                    0.549791667,
                    0.328131579,
                    0.303574468,
                    0.2565,
                    0.251399254,
                    0.970816667,
                    0.902962963,
                    0.900833333,
                    0.899555556,
                    0.845833333,
                    0.800808642,
                    0.800401961,
                    0.800115819,
                    0.75065101,
                    0.750503571,
                    0.750206897,
                    0.700362069,
                    0.700069811,
                    0.700058333,
                    0.676666667,
                    0.658541667,
                    0.598792339,
                    0.581130952,
                    0.440375,
                    0.410833333,
                    0.410833333,
                    0.939166667,
                    0.930416667,
                    0.885925926,
                    0.83375,
                    0.806879167,
                    0.806058333,
                    0.800701754,
                    0.800401961,
                    0.800333333,
                    0.800055762,
                    0.799975862,
                    0.750651724,
                    0.750395513,
                    0.700424138,
                    0.700058333,
                    0.684888889,
                    0.592083333,
                    0.5403125,
                    0.433263158,
                    0.404144928,
                    0.332146465,
                    0.922839506,
                    0.874027778,
                    0.819270833,
                    0.813309028,
                    0.812625,
                    0.800401961,
                    0.800071839,
                    0.800034503,
                    0.786631944,
                    0.75885,
                    0.750608,
                    0.750347333,
                    0.750140741,
                    0.750050847,
                    0.750050847,
                    0.700556897,
                    0.700505263,
                    0.700246491,
                    0.650596491,
                    0.628333333,
                    0.625625,
                    0.625625,
                    0.505888889,
                    0.394722222
                  ],
                  "xaxis": "x",
                  "yaxis": "y"
                }
              ],
              "layout": {
                "barmode": "overlay",
                "legend": {
                  "title": {
                    "text": "day"
                  },
                  "tracegroupgap": 0
                },
                "template": {
                  "data": {
                    "bar": [
                      {
                        "error_x": {
                          "color": "#2a3f5f"
                        },
                        "error_y": {
                          "color": "#2a3f5f"
                        },
                        "marker": {
                          "line": {
                            "color": "#E5ECF6",
                            "width": 0.5
                          },
                          "pattern": {
                            "fillmode": "overlay",
                            "size": 10,
                            "solidity": 0.2
                          }
                        },
                        "type": "bar"
                      }
                    ],
                    "barpolar": [
                      {
                        "marker": {
                          "line": {
                            "color": "#E5ECF6",
                            "width": 0.5
                          },
                          "pattern": {
                            "fillmode": "overlay",
                            "size": 10,
                            "solidity": 0.2
                          }
                        },
                        "type": "barpolar"
                      }
                    ],
                    "carpet": [
                      {
                        "aaxis": {
                          "endlinecolor": "#2a3f5f",
                          "gridcolor": "white",
                          "linecolor": "white",
                          "minorgridcolor": "white",
                          "startlinecolor": "#2a3f5f"
                        },
                        "baxis": {
                          "endlinecolor": "#2a3f5f",
                          "gridcolor": "white",
                          "linecolor": "white",
                          "minorgridcolor": "white",
                          "startlinecolor": "#2a3f5f"
                        },
                        "type": "carpet"
                      }
                    ],
                    "choropleth": [
                      {
                        "colorbar": {
                          "outlinewidth": 0,
                          "ticks": ""
                        },
                        "type": "choropleth"
                      }
                    ],
                    "contour": [
                      {
                        "colorbar": {
                          "outlinewidth": 0,
                          "ticks": ""
                        },
                        "colorscale": [
                          [
                            0,
                            "#0d0887"
                          ],
                          [
                            0.1111111111111111,
                            "#46039f"
                          ],
                          [
                            0.2222222222222222,
                            "#7201a8"
                          ],
                          [
                            0.3333333333333333,
                            "#9c179e"
                          ],
                          [
                            0.4444444444444444,
                            "#bd3786"
                          ],
                          [
                            0.5555555555555556,
                            "#d8576b"
                          ],
                          [
                            0.6666666666666666,
                            "#ed7953"
                          ],
                          [
                            0.7777777777777778,
                            "#fb9f3a"
                          ],
                          [
                            0.8888888888888888,
                            "#fdca26"
                          ],
                          [
                            1,
                            "#f0f921"
                          ]
                        ],
                        "type": "contour"
                      }
                    ],
                    "contourcarpet": [
                      {
                        "colorbar": {
                          "outlinewidth": 0,
                          "ticks": ""
                        },
                        "type": "contourcarpet"
                      }
                    ],
                    "heatmap": [
                      {
                        "colorbar": {
                          "outlinewidth": 0,
                          "ticks": ""
                        },
                        "colorscale": [
                          [
                            0,
                            "#0d0887"
                          ],
                          [
                            0.1111111111111111,
                            "#46039f"
                          ],
                          [
                            0.2222222222222222,
                            "#7201a8"
                          ],
                          [
                            0.3333333333333333,
                            "#9c179e"
                          ],
                          [
                            0.4444444444444444,
                            "#bd3786"
                          ],
                          [
                            0.5555555555555556,
                            "#d8576b"
                          ],
                          [
                            0.6666666666666666,
                            "#ed7953"
                          ],
                          [
                            0.7777777777777778,
                            "#fb9f3a"
                          ],
                          [
                            0.8888888888888888,
                            "#fdca26"
                          ],
                          [
                            1,
                            "#f0f921"
                          ]
                        ],
                        "type": "heatmap"
                      }
                    ],
                    "heatmapgl": [
                      {
                        "colorbar": {
                          "outlinewidth": 0,
                          "ticks": ""
                        },
                        "colorscale": [
                          [
                            0,
                            "#0d0887"
                          ],
                          [
                            0.1111111111111111,
                            "#46039f"
                          ],
                          [
                            0.2222222222222222,
                            "#7201a8"
                          ],
                          [
                            0.3333333333333333,
                            "#9c179e"
                          ],
                          [
                            0.4444444444444444,
                            "#bd3786"
                          ],
                          [
                            0.5555555555555556,
                            "#d8576b"
                          ],
                          [
                            0.6666666666666666,
                            "#ed7953"
                          ],
                          [
                            0.7777777777777778,
                            "#fb9f3a"
                          ],
                          [
                            0.8888888888888888,
                            "#fdca26"
                          ],
                          [
                            1,
                            "#f0f921"
                          ]
                        ],
                        "type": "heatmapgl"
                      }
                    ],
                    "histogram": [
                      {
                        "marker": {
                          "pattern": {
                            "fillmode": "overlay",
                            "size": 10,
                            "solidity": 0.2
                          }
                        },
                        "type": "histogram"
                      }
                    ],
                    "histogram2d": [
                      {
                        "colorbar": {
                          "outlinewidth": 0,
                          "ticks": ""
                        },
                        "colorscale": [
                          [
                            0,
                            "#0d0887"
                          ],
                          [
                            0.1111111111111111,
                            "#46039f"
                          ],
                          [
                            0.2222222222222222,
                            "#7201a8"
                          ],
                          [
                            0.3333333333333333,
                            "#9c179e"
                          ],
                          [
                            0.4444444444444444,
                            "#bd3786"
                          ],
                          [
                            0.5555555555555556,
                            "#d8576b"
                          ],
                          [
                            0.6666666666666666,
                            "#ed7953"
                          ],
                          [
                            0.7777777777777778,
                            "#fb9f3a"
                          ],
                          [
                            0.8888888888888888,
                            "#fdca26"
                          ],
                          [
                            1,
                            "#f0f921"
                          ]
                        ],
                        "type": "histogram2d"
                      }
                    ],
                    "histogram2dcontour": [
                      {
                        "colorbar": {
                          "outlinewidth": 0,
                          "ticks": ""
                        },
                        "colorscale": [
                          [
                            0,
                            "#0d0887"
                          ],
                          [
                            0.1111111111111111,
                            "#46039f"
                          ],
                          [
                            0.2222222222222222,
                            "#7201a8"
                          ],
                          [
                            0.3333333333333333,
                            "#9c179e"
                          ],
                          [
                            0.4444444444444444,
                            "#bd3786"
                          ],
                          [
                            0.5555555555555556,
                            "#d8576b"
                          ],
                          [
                            0.6666666666666666,
                            "#ed7953"
                          ],
                          [
                            0.7777777777777778,
                            "#fb9f3a"
                          ],
                          [
                            0.8888888888888888,
                            "#fdca26"
                          ],
                          [
                            1,
                            "#f0f921"
                          ]
                        ],
                        "type": "histogram2dcontour"
                      }
                    ],
                    "mesh3d": [
                      {
                        "colorbar": {
                          "outlinewidth": 0,
                          "ticks": ""
                        },
                        "type": "mesh3d"
                      }
                    ],
                    "parcoords": [
                      {
                        "line": {
                          "colorbar": {
                            "outlinewidth": 0,
                            "ticks": ""
                          }
                        },
                        "type": "parcoords"
                      }
                    ],
                    "pie": [
                      {
                        "automargin": true,
                        "type": "pie"
                      }
                    ],
                    "scatter": [
                      {
                        "fillpattern": {
                          "fillmode": "overlay",
                          "size": 10,
                          "solidity": 0.2
                        },
                        "type": "scatter"
                      }
                    ],
                    "scatter3d": [
                      {
                        "line": {
                          "colorbar": {
                            "outlinewidth": 0,
                            "ticks": ""
                          }
                        },
                        "marker": {
                          "colorbar": {
                            "outlinewidth": 0,
                            "ticks": ""
                          }
                        },
                        "type": "scatter3d"
                      }
                    ],
                    "scattercarpet": [
                      {
                        "marker": {
                          "colorbar": {
                            "outlinewidth": 0,
                            "ticks": ""
                          }
                        },
                        "type": "scattercarpet"
                      }
                    ],
                    "scattergeo": [
                      {
                        "marker": {
                          "colorbar": {
                            "outlinewidth": 0,
                            "ticks": ""
                          }
                        },
                        "type": "scattergeo"
                      }
                    ],
                    "scattergl": [
                      {
                        "marker": {
                          "colorbar": {
                            "outlinewidth": 0,
                            "ticks": ""
                          }
                        },
                        "type": "scattergl"
                      }
                    ],
                    "scattermapbox": [
                      {
                        "marker": {
                          "colorbar": {
                            "outlinewidth": 0,
                            "ticks": ""
                          }
                        },
                        "type": "scattermapbox"
                      }
                    ],
                    "scatterpolar": [
                      {
                        "marker": {
                          "colorbar": {
                            "outlinewidth": 0,
                            "ticks": ""
                          }
                        },
                        "type": "scatterpolar"
                      }
                    ],
                    "scatterpolargl": [
                      {
                        "marker": {
                          "colorbar": {
                            "outlinewidth": 0,
                            "ticks": ""
                          }
                        },
                        "type": "scatterpolargl"
                      }
                    ],
                    "scatterternary": [
                      {
                        "marker": {
                          "colorbar": {
                            "outlinewidth": 0,
                            "ticks": ""
                          }
                        },
                        "type": "scatterternary"
                      }
                    ],
                    "surface": [
                      {
                        "colorbar": {
                          "outlinewidth": 0,
                          "ticks": ""
                        },
                        "colorscale": [
                          [
                            0,
                            "#0d0887"
                          ],
                          [
                            0.1111111111111111,
                            "#46039f"
                          ],
                          [
                            0.2222222222222222,
                            "#7201a8"
                          ],
                          [
                            0.3333333333333333,
                            "#9c179e"
                          ],
                          [
                            0.4444444444444444,
                            "#bd3786"
                          ],
                          [
                            0.5555555555555556,
                            "#d8576b"
                          ],
                          [
                            0.6666666666666666,
                            "#ed7953"
                          ],
                          [
                            0.7777777777777778,
                            "#fb9f3a"
                          ],
                          [
                            0.8888888888888888,
                            "#fdca26"
                          ],
                          [
                            1,
                            "#f0f921"
                          ]
                        ],
                        "type": "surface"
                      }
                    ],
                    "table": [
                      {
                        "cells": {
                          "fill": {
                            "color": "#EBF0F8"
                          },
                          "line": {
                            "color": "white"
                          }
                        },
                        "header": {
                          "fill": {
                            "color": "#C8D4E3"
                          },
                          "line": {
                            "color": "white"
                          }
                        },
                        "type": "table"
                      }
                    ]
                  },
                  "layout": {
                    "annotationdefaults": {
                      "arrowcolor": "#2a3f5f",
                      "arrowhead": 0,
                      "arrowwidth": 1
                    },
                    "autotypenumbers": "strict",
                    "coloraxis": {
                      "colorbar": {
                        "outlinewidth": 0,
                        "ticks": ""
                      }
                    },
                    "colorscale": {
                      "diverging": [
                        [
                          0,
                          "#8e0152"
                        ],
                        [
                          0.1,
                          "#c51b7d"
                        ],
                        [
                          0.2,
                          "#de77ae"
                        ],
                        [
                          0.3,
                          "#f1b6da"
                        ],
                        [
                          0.4,
                          "#fde0ef"
                        ],
                        [
                          0.5,
                          "#f7f7f7"
                        ],
                        [
                          0.6,
                          "#e6f5d0"
                        ],
                        [
                          0.7,
                          "#b8e186"
                        ],
                        [
                          0.8,
                          "#7fbc41"
                        ],
                        [
                          0.9,
                          "#4d9221"
                        ],
                        [
                          1,
                          "#276419"
                        ]
                      ],
                      "sequential": [
                        [
                          0,
                          "#0d0887"
                        ],
                        [
                          0.1111111111111111,
                          "#46039f"
                        ],
                        [
                          0.2222222222222222,
                          "#7201a8"
                        ],
                        [
                          0.3333333333333333,
                          "#9c179e"
                        ],
                        [
                          0.4444444444444444,
                          "#bd3786"
                        ],
                        [
                          0.5555555555555556,
                          "#d8576b"
                        ],
                        [
                          0.6666666666666666,
                          "#ed7953"
                        ],
                        [
                          0.7777777777777778,
                          "#fb9f3a"
                        ],
                        [
                          0.8888888888888888,
                          "#fdca26"
                        ],
                        [
                          1,
                          "#f0f921"
                        ]
                      ],
                      "sequentialminus": [
                        [
                          0,
                          "#0d0887"
                        ],
                        [
                          0.1111111111111111,
                          "#46039f"
                        ],
                        [
                          0.2222222222222222,
                          "#7201a8"
                        ],
                        [
                          0.3333333333333333,
                          "#9c179e"
                        ],
                        [
                          0.4444444444444444,
                          "#bd3786"
                        ],
                        [
                          0.5555555555555556,
                          "#d8576b"
                        ],
                        [
                          0.6666666666666666,
                          "#ed7953"
                        ],
                        [
                          0.7777777777777778,
                          "#fb9f3a"
                        ],
                        [
                          0.8888888888888888,
                          "#fdca26"
                        ],
                        [
                          1,
                          "#f0f921"
                        ]
                      ]
                    },
                    "colorway": [
                      "#636efa",
                      "#EF553B",
                      "#00cc96",
                      "#ab63fa",
                      "#FFA15A",
                      "#19d3f3",
                      "#FF6692",
                      "#B6E880",
                      "#FF97FF",
                      "#FECB52"
                    ],
                    "font": {
                      "color": "#2a3f5f"
                    },
                    "geo": {
                      "bgcolor": "white",
                      "lakecolor": "white",
                      "landcolor": "#E5ECF6",
                      "showlakes": true,
                      "showland": true,
                      "subunitcolor": "white"
                    },
                    "hoverlabel": {
                      "align": "left"
                    },
                    "hovermode": "closest",
                    "mapbox": {
                      "style": "light"
                    },
                    "paper_bgcolor": "white",
                    "plot_bgcolor": "#E5ECF6",
                    "polar": {
                      "angularaxis": {
                        "gridcolor": "white",
                        "linecolor": "white",
                        "ticks": ""
                      },
                      "bgcolor": "#E5ECF6",
                      "radialaxis": {
                        "gridcolor": "white",
                        "linecolor": "white",
                        "ticks": ""
                      }
                    },
                    "scene": {
                      "xaxis": {
                        "backgroundcolor": "#E5ECF6",
                        "gridcolor": "white",
                        "gridwidth": 2,
                        "linecolor": "white",
                        "showbackground": true,
                        "ticks": "",
                        "zerolinecolor": "white"
                      },
                      "yaxis": {
                        "backgroundcolor": "#E5ECF6",
                        "gridcolor": "white",
                        "gridwidth": 2,
                        "linecolor": "white",
                        "showbackground": true,
                        "ticks": "",
                        "zerolinecolor": "white"
                      },
                      "zaxis": {
                        "backgroundcolor": "#E5ECF6",
                        "gridcolor": "white",
                        "gridwidth": 2,
                        "linecolor": "white",
                        "showbackground": true,
                        "ticks": "",
                        "zerolinecolor": "white"
                      }
                    },
                    "shapedefaults": {
                      "line": {
                        "color": "#2a3f5f"
                      }
                    },
                    "ternary": {
                      "aaxis": {
                        "gridcolor": "white",
                        "linecolor": "white",
                        "ticks": ""
                      },
                      "baxis": {
                        "gridcolor": "white",
                        "linecolor": "white",
                        "ticks": ""
                      },
                      "bgcolor": "#E5ECF6",
                      "caxis": {
                        "gridcolor": "white",
                        "linecolor": "white",
                        "ticks": ""
                      }
                    },
                    "title": {
                      "x": 0.05
                    },
                    "xaxis": {
                      "automargin": true,
                      "gridcolor": "white",
                      "linecolor": "white",
                      "ticks": "",
                      "title": {
                        "standoff": 15
                      },
                      "zerolinecolor": "white",
                      "zerolinewidth": 2
                    },
                    "yaxis": {
                      "automargin": true,
                      "gridcolor": "white",
                      "linecolor": "white",
                      "ticks": "",
                      "title": {
                        "standoff": 15
                      },
                      "zerolinecolor": "white",
                      "zerolinewidth": 2
                    }
                  }
                },
                "title": {
                  "text": "Productivity Distribution by Day"
                },
                "xaxis": {
                  "anchor": "y",
                  "domain": [
                    0,
                    1
                  ],
                  "title": {
                    "text": "actual_productivity"
                  }
                },
                "yaxis": {
                  "anchor": "x",
                  "domain": [
                    0,
                    1
                  ],
                  "title": {
                    "text": "count"
                  }
                }
              }
            }
          },
          "metadata": {},
          "output_type": "display_data"
        },
        {
          "data": {
            "application/vnd.plotly.v1+json": {
              "config": {
                "plotlyServerURL": "https://plot.ly"
              },
              "data": [
                {
                  "alignmentgroup": "True",
                  "hovertemplate": "no_of_workers=%{x}<br>actual_productivity=%{y}<extra></extra>",
                  "legendgroup": "",
                  "marker": {
                    "color": "#636efa"
                  },
                  "name": "",
                  "notched": false,
                  "offsetgroup": "",
                  "orientation": "v",
                  "showlegend": false,
                  "type": "box",
                  "x": [
                    59,
                    8,
                    30.5,
                    30.5,
                    56,
                    56,
                    8,
                    57.5,
                    55,
                    57.5,
                    57.5,
                    54,
                    30.5,
                    8,
                    8,
                    18,
                    8,
                    60,
                    12,
                    20,
                    17,
                    8,
                    8,
                    8,
                    56.5,
                    54.5,
                    59,
                    59,
                    29.5,
                    31.5,
                    56,
                    56,
                    54,
                    8,
                    55,
                    8,
                    60,
                    57.5,
                    8,
                    8,
                    8,
                    8,
                    8,
                    31,
                    20,
                    59,
                    56.5,
                    56.5,
                    55.5,
                    59,
                    55.5,
                    31,
                    8,
                    18,
                    54,
                    55,
                    57.5,
                    8,
                    8,
                    58,
                    8,
                    8,
                    10,
                    16,
                    8,
                    59,
                    8,
                    8,
                    56.5,
                    56.5,
                    59,
                    55,
                    32,
                    32,
                    57.5,
                    57.5,
                    8,
                    8,
                    58.5,
                    55,
                    8,
                    8,
                    58,
                    18,
                    8,
                    10,
                    15,
                    8,
                    59,
                    59,
                    8,
                    8,
                    57.5,
                    57.5,
                    55,
                    31.5,
                    56.5,
                    56.5,
                    31.5,
                    58.5,
                    55,
                    8,
                    58,
                    8,
                    8,
                    8,
                    59,
                    59,
                    56.5,
                    15,
                    18,
                    8,
                    8,
                    8,
                    57.5,
                    57.5,
                    30.5,
                    55,
                    31.5,
                    56.5,
                    58.5,
                    58,
                    8,
                    10,
                    55,
                    8,
                    8,
                    20,
                    59,
                    8,
                    59,
                    58.5,
                    56.5,
                    56.5,
                    8,
                    8,
                    58.5,
                    55,
                    31.5,
                    30.5,
                    58.5,
                    8,
                    8,
                    12,
                    8,
                    5,
                    54,
                    57,
                    8,
                    12,
                    20,
                    8,
                    59,
                    56.5,
                    56.5,
                    8,
                    8,
                    8,
                    58,
                    57.5,
                    31.5,
                    30.5,
                    59,
                    58.5,
                    56,
                    53,
                    8,
                    8,
                    56,
                    8,
                    8,
                    20,
                    59,
                    8,
                    8,
                    59,
                    56.5,
                    56.5,
                    8,
                    8,
                    30.5,
                    31.5,
                    58.5,
                    58.5,
                    55,
                    8,
                    8,
                    8,
                    53,
                    8,
                    8,
                    58,
                    57,
                    8,
                    18,
                    10,
                    8,
                    8,
                    59,
                    59,
                    56.5,
                    56.5,
                    8,
                    8,
                    55,
                    31.5,
                    31.5,
                    58.5,
                    8,
                    58.5,
                    59,
                    53,
                    8,
                    8,
                    51.5,
                    8,
                    12,
                    2,
                    20,
                    9,
                    8,
                    59,
                    59,
                    57,
                    56.5,
                    8,
                    8,
                    31.5,
                    31.5,
                    58.5,
                    55,
                    8,
                    8,
                    8,
                    53,
                    58,
                    56.5,
                    56.5,
                    7,
                    8,
                    56.5,
                    8,
                    15,
                    8,
                    59,
                    56.5,
                    8,
                    7,
                    31.5,
                    31.5,
                    59,
                    58,
                    8,
                    57,
                    56.5,
                    55,
                    8,
                    57,
                    8,
                    20,
                    19,
                    8,
                    8,
                    8,
                    59,
                    56.5,
                    56.5,
                    59,
                    31.5,
                    31.5,
                    58,
                    8,
                    56.5,
                    56,
                    8,
                    56.5,
                    55,
                    54.5,
                    15,
                    10,
                    8,
                    8,
                    10,
                    30.5,
                    31.5,
                    56.5,
                    56.5,
                    59,
                    59,
                    56.5,
                    56.5,
                    8,
                    8,
                    54,
                    56.5,
                    56,
                    5,
                    58,
                    7,
                    8,
                    12,
                    10,
                    30.5,
                    56.5,
                    56.5,
                    59,
                    56.5,
                    56,
                    8,
                    31.5,
                    56.5,
                    57,
                    56.5,
                    8,
                    58,
                    10,
                    57.5,
                    8,
                    28,
                    10,
                    8,
                    31,
                    56.5,
                    59,
                    8,
                    56.5,
                    57,
                    56.5,
                    56,
                    57,
                    8,
                    58,
                    57,
                    56.5,
                    8,
                    8,
                    34,
                    8,
                    31,
                    56.5,
                    59,
                    57,
                    56,
                    57,
                    57,
                    10,
                    57,
                    57,
                    8,
                    34,
                    56,
                    15,
                    20,
                    17,
                    56,
                    89,
                    8,
                    56.5,
                    57,
                    56,
                    8,
                    58,
                    57,
                    57,
                    57,
                    34,
                    8,
                    58,
                    8,
                    56,
                    9,
                    10,
                    14,
                    56,
                    57,
                    32,
                    56,
                    57,
                    57,
                    15,
                    58,
                    57,
                    15,
                    25,
                    25,
                    8,
                    34,
                    57,
                    56.5,
                    58,
                    20,
                    8,
                    9,
                    15,
                    10,
                    9,
                    57,
                    57,
                    10,
                    8,
                    12,
                    9,
                    57,
                    56,
                    32,
                    57,
                    34,
                    57,
                    58,
                    12,
                    56.5,
                    58,
                    8,
                    8,
                    52,
                    8,
                    17,
                    8,
                    8,
                    9,
                    19,
                    12,
                    57,
                    58.5,
                    58.5,
                    57.5,
                    32,
                    56,
                    14,
                    56.5,
                    34,
                    58,
                    58,
                    9,
                    57,
                    52,
                    4,
                    10,
                    21,
                    12,
                    15,
                    10,
                    10,
                    56.5,
                    32,
                    57,
                    57,
                    58,
                    56,
                    9,
                    58,
                    58,
                    34,
                    8,
                    52,
                    57,
                    57,
                    57,
                    12,
                    12,
                    12,
                    56,
                    12,
                    56.5,
                    8,
                    9,
                    8,
                    58,
                    10,
                    10,
                    58,
                    34,
                    52,
                    32,
                    8,
                    58,
                    54,
                    57,
                    57,
                    15,
                    10,
                    15,
                    56,
                    58,
                    10,
                    58,
                    56.5,
                    9,
                    58,
                    35,
                    12,
                    8,
                    54,
                    52,
                    32,
                    8,
                    55,
                    8,
                    57,
                    10,
                    57,
                    57.5,
                    56,
                    10,
                    8,
                    8,
                    10,
                    10,
                    58,
                    58,
                    59,
                    10,
                    35,
                    9,
                    51,
                    33,
                    8,
                    55,
                    58,
                    57,
                    10,
                    8,
                    10,
                    10,
                    15,
                    2,
                    9,
                    2,
                    10,
                    8,
                    5,
                    10,
                    56,
                    57.5,
                    57,
                    58,
                    35,
                    59,
                    54,
                    33,
                    56,
                    54,
                    8,
                    57.5,
                    58.5,
                    19,
                    57,
                    10,
                    18,
                    10,
                    56,
                    58.5,
                    12,
                    58,
                    35,
                    9,
                    54,
                    33,
                    55,
                    56,
                    10,
                    58.5,
                    8,
                    58.5,
                    57,
                    56,
                    10,
                    12,
                    35,
                    56.5,
                    58,
                    9,
                    54,
                    33,
                    8,
                    19,
                    58,
                    56,
                    10,
                    55,
                    20,
                    57.5,
                    56,
                    10,
                    8,
                    57,
                    58,
                    11,
                    56.5,
                    35,
                    9,
                    58,
                    54,
                    33.5,
                    55.5,
                    56,
                    12,
                    8,
                    58,
                    57.5,
                    57,
                    56,
                    18,
                    10,
                    25,
                    57.5,
                    34,
                    58,
                    8,
                    8,
                    33,
                    58,
                    53,
                    57,
                    9,
                    58.5,
                    8,
                    55.5,
                    56.5,
                    57.5,
                    56,
                    22,
                    57,
                    8,
                    9,
                    10,
                    12,
                    34,
                    58,
                    8,
                    26,
                    33,
                    58,
                    58,
                    53,
                    57,
                    25,
                    58,
                    57,
                    57,
                    56,
                    9,
                    10,
                    8,
                    34,
                    58,
                    8,
                    33,
                    27,
                    10,
                    58,
                    57,
                    59,
                    8,
                    57,
                    57.5,
                    12,
                    56,
                    56.5,
                    56,
                    10,
                    9,
                    18,
                    15,
                    34,
                    58,
                    33,
                    27,
                    58.5,
                    8,
                    8,
                    56.5,
                    58,
                    57,
                    18,
                    10,
                    56,
                    57,
                    57,
                    8,
                    34,
                    57,
                    58,
                    57,
                    54,
                    15,
                    58,
                    8,
                    34,
                    58,
                    58,
                    9,
                    9,
                    18,
                    56,
                    57,
                    57,
                    57,
                    12,
                    58,
                    34,
                    15,
                    34,
                    54,
                    58,
                    8,
                    58,
                    8,
                    8,
                    58,
                    58,
                    15,
                    9,
                    57.5,
                    57,
                    12,
                    18,
                    2,
                    56,
                    34,
                    34,
                    58,
                    59.5,
                    58,
                    59.5,
                    12,
                    58,
                    8,
                    57,
                    52,
                    57,
                    15,
                    57.5,
                    9,
                    34,
                    12,
                    59,
                    33,
                    12,
                    8,
                    59,
                    18,
                    2,
                    59,
                    55,
                    58,
                    59,
                    50,
                    58,
                    57,
                    15,
                    20,
                    9,
                    34,
                    57,
                    12,
                    59,
                    59,
                    8,
                    60,
                    60,
                    55,
                    34,
                    58,
                    8,
                    8,
                    8,
                    8,
                    57,
                    9,
                    34,
                    2,
                    59.5,
                    10,
                    59,
                    59,
                    34,
                    53,
                    8,
                    8,
                    59.5,
                    58,
                    57.5,
                    20,
                    54,
                    57,
                    10,
                    9,
                    8,
                    58,
                    59,
                    34,
                    8,
                    33,
                    58,
                    15,
                    59,
                    10,
                    59,
                    54,
                    44,
                    54,
                    15,
                    57,
                    8,
                    10,
                    9,
                    34,
                    15,
                    33,
                    58,
                    8,
                    59,
                    56,
                    58,
                    8,
                    59,
                    51,
                    58,
                    8,
                    15,
                    56,
                    49,
                    10,
                    12,
                    12,
                    56,
                    58,
                    59,
                    34,
                    57,
                    33,
                    59,
                    8,
                    58,
                    51,
                    8,
                    8,
                    8,
                    8,
                    57,
                    47,
                    8,
                    57,
                    12,
                    34,
                    57,
                    58.5,
                    59.5,
                    18,
                    33,
                    10,
                    15,
                    58,
                    58,
                    57,
                    8,
                    8,
                    51,
                    8,
                    59,
                    9,
                    57,
                    48,
                    15,
                    8,
                    20,
                    12,
                    34,
                    59,
                    10,
                    10,
                    33,
                    12,
                    57,
                    57,
                    58,
                    57,
                    58,
                    50,
                    58,
                    8,
                    60,
                    8,
                    20,
                    8,
                    9,
                    18,
                    34,
                    59,
                    59,
                    58,
                    33,
                    58,
                    58,
                    57,
                    58,
                    50,
                    50,
                    8,
                    8,
                    8,
                    8,
                    15,
                    12,
                    34,
                    60,
                    59,
                    8,
                    59,
                    33,
                    57,
                    60,
                    15,
                    15,
                    59,
                    58,
                    52,
                    8,
                    53,
                    8,
                    42,
                    52,
                    9,
                    20,
                    15,
                    10,
                    59,
                    34,
                    59,
                    33,
                    57,
                    58,
                    58,
                    58,
                    52,
                    8,
                    8,
                    59,
                    42,
                    8,
                    8,
                    8,
                    15,
                    18,
                    59,
                    57,
                    34,
                    8,
                    33,
                    57,
                    52,
                    58,
                    52,
                    58,
                    9,
                    8,
                    59,
                    57,
                    8,
                    8,
                    55,
                    8,
                    8,
                    15,
                    18,
                    58,
                    34,
                    59,
                    8,
                    57,
                    33,
                    58,
                    52,
                    51,
                    58,
                    9,
                    8,
                    57,
                    57,
                    58,
                    8,
                    8,
                    8,
                    8,
                    25,
                    8,
                    34,
                    57,
                    33,
                    57,
                    52,
                    56,
                    52,
                    57,
                    58,
                    57,
                    8,
                    8,
                    57,
                    8,
                    58,
                    8,
                    8,
                    8,
                    10,
                    24,
                    8,
                    57,
                    34,
                    10,
                    57,
                    57,
                    59,
                    8,
                    33,
                    57,
                    52,
                    57,
                    56,
                    51,
                    8,
                    9,
                    8,
                    8,
                    10,
                    15,
                    56,
                    58,
                    34,
                    57,
                    59,
                    58,
                    57,
                    52,
                    33,
                    8,
                    57,
                    51,
                    9,
                    15,
                    8,
                    8,
                    8,
                    8,
                    8,
                    45,
                    10,
                    8,
                    9,
                    8,
                    8,
                    8,
                    56,
                    34,
                    57,
                    59,
                    58,
                    58,
                    52,
                    58,
                    53,
                    20,
                    8,
                    8,
                    57,
                    46,
                    33,
                    22,
                    8,
                    10,
                    9,
                    8,
                    8,
                    15,
                    56,
                    57,
                    34,
                    58,
                    52,
                    59,
                    58,
                    50,
                    46,
                    8,
                    59,
                    39,
                    9,
                    34,
                    58,
                    25,
                    10,
                    58,
                    57,
                    58,
                    8,
                    51,
                    50,
                    8,
                    8,
                    8,
                    45,
                    15,
                    8,
                    39,
                    58,
                    12,
                    9,
                    9,
                    8,
                    8,
                    10,
                    8,
                    57,
                    58,
                    57,
                    34,
                    58,
                    8,
                    52,
                    50,
                    45,
                    38,
                    56,
                    59,
                    8,
                    8,
                    8,
                    8,
                    9,
                    12,
                    58,
                    59,
                    15,
                    58,
                    34,
                    58,
                    12,
                    8,
                    8,
                    52,
                    45,
                    50,
                    10,
                    38,
                    56,
                    59,
                    55,
                    8,
                    8,
                    9,
                    12,
                    59,
                    12,
                    8,
                    8,
                    59,
                    15,
                    34,
                    58,
                    58,
                    8,
                    50,
                    52,
                    8,
                    57,
                    38,
                    45,
                    59,
                    57,
                    8,
                    8,
                    8,
                    9,
                    10,
                    8,
                    8,
                    8,
                    34,
                    58,
                    58,
                    8,
                    12,
                    50,
                    52,
                    45,
                    59,
                    59,
                    58,
                    57,
                    38,
                    57,
                    8,
                    8,
                    8,
                    15,
                    6
                  ],
                  "x0": " ",
                  "xaxis": "x",
                  "y": [
                    0.940725424,
                    0.8865,
                    0.800570492,
                    0.800570492,
                    0.800381944,
                    0.800125,
                    0.755166667,
                    0.753683478,
                    0.753097531,
                    0.750427826,
                    0.721126957,
                    0.712205247,
                    0.707045902,
                    0.705916667,
                    0.676666667,
                    0.593055556,
                    0.540729167,
                    0.52118,
                    0.436326389,
                    0.988024691,
                    0.987880435,
                    0.956270833,
                    0.945277778,
                    0.902916667,
                    0.800725314,
                    0.800322936,
                    0.800318644,
                    0.800318644,
                    0.800237288,
                    0.800148649,
                    0.800125,
                    0.800125,
                    0.787299691,
                    0.782447917,
                    0.75024303,
                    0.7018125,
                    0.700134038,
                    0.699965217,
                    0.628333333,
                    0.6253125,
                    0.991388889,
                    0.931645833,
                    0.915229167,
                    0.879714482,
                    0.861679012,
                    0.850569492,
                    0.850436438,
                    0.850345133,
                    0.800598058,
                    0.800318644,
                    0.800237838,
                    0.800030199,
                    0.792104167,
                    0.759228395,
                    0.750348457,
                    0.75024303,
                    0.699965217,
                    0.682708333,
                    0.667604167,
                    0.603432184,
                    0.345833333,
                    0.961059028,
                    0.939513889,
                    0.893663194,
                    0.875390625,
                    0.850569492,
                    0.820833333,
                    0.804416667,
                    0.800684366,
                    0.800684366,
                    0.800318644,
                    0.800250962,
                    0.800246011,
                    0.800246011,
                    0.800076522,
                    0.800076522,
                    0.763375,
                    0.759270833,
                    0.7504,
                    0.75024303,
                    0.676666667,
                    0.664583333,
                    0.600028736,
                    0.966781346,
                    0.936496212,
                    0.899166667,
                    0.888686869,
                    0.858143939,
                    0.850502311,
                    0.850502311,
                    0.809640152,
                    0.805909091,
                    0.800594466,
                    0.800594466,
                    0.800273829,
                    0.800140969,
                    0.800128721,
                    0.800128721,
                    0.80007657,
                    0.750545455,
                    0.750057851,
                    0.681060606,
                    0.649983281,
                    0.61625,
                    0.951420455,
                    0.880530303,
                    0.850502311,
                    0.850502311,
                    0.850136766,
                    0.83,
                    0.827186544,
                    0.813371212,
                    0.805909091,
                    0.804640152,
                    0.800594466,
                    0.800594466,
                    0.800343766,
                    0.800273829,
                    0.800246753,
                    0.800128721,
                    0.8,
                    0.700480831,
                    0.681060606,
                    0.666515152,
                    0.412119835,
                    0.330113636,
                    0.947689394,
                    0.919905405,
                    0.900215716,
                    0.891723485,
                    0.850502311,
                    0.850181818,
                    0.850136766,
                    0.850136766,
                    0.835757576,
                    0.821354167,
                    0.800497246,
                    0.800273829,
                    0.800107143,
                    0.800024932,
                    0.8,
                    0.779791667,
                    0.735984848,
                    0.712626263,
                    0.681060606,
                    0.515606061,
                    0.349951389,
                    0.233705476,
                    0.985,
                    0.930340376,
                    0.911589744,
                    0.858143939,
                    0.851174114,
                    0.850136766,
                    0.850136766,
                    0.846950758,
                    0.817424242,
                    0.817102273,
                    0.801028213,
                    0.800594466,
                    0.800346445,
                    0.800343766,
                    0.800117103,
                    0.8,
                    0.750098351,
                    0.673245283,
                    0.670075758,
                    0.628882576,
                    0.388007813,
                    0.337973485,
                    0.93532197,
                    0.925643939,
                    0.900215716,
                    0.873068182,
                    0.858143939,
                    0.850502311,
                    0.850136766,
                    0.850136766,
                    0.828295455,
                    0.820833333,
                    0.800343766,
                    0.800246753,
                    0.8,
                    0.8,
                    0.690182815,
                    0.668087121,
                    0.653598485,
                    0.609138258,
                    0.600229846,
                    0.597348485,
                    0.590435606,
                    0.473134796,
                    0.452979626,
                    0.955151515,
                    0.942213805,
                    0.905454545,
                    0.880530303,
                    0.858143939,
                    0.850522167,
                    0.850502311,
                    0.850136766,
                    0.850136766,
                    0.817424242,
                    0.809564394,
                    0.800273829,
                    0.800181818,
                    0.80007657,
                    0.8,
                    0.725,
                    0.688557555,
                    0.650040783,
                    0.64998056,
                    0.648106061,
                    0.640577652,
                    0.35063299,
                    0.24625,
                    0.952020202,
                    0.951420455,
                    0.912766667,
                    0.901262626,
                    0.858143939,
                    0.850502311,
                    0.850502311,
                    0.850252525,
                    0.850136766,
                    0.821354167,
                    0.805909091,
                    0.800246753,
                    0.800246753,
                    0.8,
                    0.705576584,
                    0.681060606,
                    0.670075758,
                    0.601278409,
                    0.582301029,
                    0.526810345,
                    0.500380799,
                    0.35020649,
                    0.934607438,
                    0.908080808,
                    0.900144811,
                    0.891723485,
                    0.864583333,
                    0.858143939,
                    0.850502311,
                    0.850136766,
                    0.837594697,
                    0.820833333,
                    0.800313433,
                    0.800246753,
                    0.800117103,
                    0.700095563,
                    0.667329545,
                    0.600369686,
                    0.499980334,
                    0.35003125,
                    0.332359307,
                    0.311207464,
                    0.247316017,
                    0.988636364,
                    0.953110048,
                    0.884261364,
                    0.860653409,
                    0.858143939,
                    0.850502311,
                    0.850415628,
                    0.850136766,
                    0.800117103,
                    0.80003139,
                    0.80003139,
                    0.700060345,
                    0.689299242,
                    0.660683293,
                    0.650130952,
                    0.606912879,
                    0.600291767,
                    0.500025069,
                    0.499998888,
                    0.98719697,
                    0.980909091,
                    0.974621212,
                    0.884261364,
                    0.82680303,
                    0.800343766,
                    0.800246753,
                    0.800128721,
                    0.800128721,
                    0.800117103,
                    0.800117103,
                    0.77011398,
                    0.7005417,
                    0.675568182,
                    0.661837121,
                    0.650198653,
                    0.600291767,
                    0.600273268,
                    0.465757576,
                    0.452012539,
                    0.313852814,
                    0.852793561,
                    0.838383838,
                    0.804848485,
                    0.800343766,
                    0.800128721,
                    0.800128721,
                    0.800015009,
                    0.7005417,
                    0.700094156,
                    0.692045455,
                    0.662255892,
                    0.650416734,
                    0.650299575,
                    0.650243497,
                    0.639867424,
                    0.600062696,
                    0.582045455,
                    0.403242161,
                    0.235795455,
                    0.977272727,
                    0.964106061,
                    0.958901515,
                    0.800358775,
                    0.800162602,
                    0.800117103,
                    0.793844697,
                    0.750517565,
                    0.750068049,
                    0.750062751,
                    0.750057359,
                    0.700170388,
                    0.683806818,
                    0.650066445,
                    0.576460393,
                    0.549969429,
                    0.538399621,
                    0.409545455,
                    0.35021836,
                    1.033570076,
                    0.800261486,
                    0.800128721,
                    0.800117103,
                    0.750068049,
                    0.750057359,
                    0.750037968,
                    0.750031898,
                    0.72830303,
                    0.700170388,
                    0.700063796,
                    0.639867424,
                    0.500290419,
                    0.400332792,
                    0.362666667,
                    0.978525641,
                    0.912202112,
                    0.900556277,
                    0.850410511,
                    0.827147436,
                    0.800436542,
                    0.800415742,
                    0.800020563,
                    0.758173077,
                    0.750344828,
                    0.750068049,
                    0.700170388,
                    0.700029771,
                    0.60017284,
                    0.594871795,
                    0.520237649,
                    0.505128205,
                    0.500241342,
                    0.470769231,
                    0.957638889,
                    0.940701058,
                    0.849983766,
                    0.800302791,
                    0.800191989,
                    0.800020563,
                    0.750162367,
                    0.750068049,
                    0.742901235,
                    0.700250784,
                    0.700170388,
                    0.670216049,
                    0.649662222,
                    0.649662222,
                    0.626822917,
                    0.600436426,
                    0.60041361,
                    0.555500132,
                    0.500547544,
                    0.460578704,
                    0.397743056,
                    0.327407407,
                    0.966666667,
                    0.937242424,
                    0.910521886,
                    0.90064806,
                    0.900321106,
                    0.896022727,
                    0.895454545,
                    0.870580808,
                    0.858585859,
                    0.800643806,
                    0.80062987,
                    0.800537143,
                    0.80035194,
                    0.750079323,
                    0.750041201,
                    0.700250784,
                    0.651515152,
                    0.650416734,
                    0.600125217,
                    0.578314394,
                    0.578314394,
                    0.34998951,
                    0.261174242,
                    0.973796791,
                    0.970075758,
                    0.970075758,
                    0.961784512,
                    0.955151515,
                    0.952020202,
                    0.900321106,
                    0.850223776,
                    0.800909609,
                    0.800513307,
                    0.800386364,
                    0.800020563,
                    0.749188312,
                    0.7005417,
                    0.70043672,
                    0.700250784,
                    0.650407524,
                    0.618181818,
                    0.59114168,
                    0.500061916,
                    0.329545455,
                    1.059621212,
                    0.997792208,
                    0.963699495,
                    0.959191919,
                    0.910378788,
                    0.910378788,
                    0.850312684,
                    0.800386364,
                    0.80035194,
                    0.800034024,
                    0.800023511,
                    0.800020563,
                    0.769292929,
                    0.750031447,
                    0.70061442,
                    0.70043672,
                    0.646306818,
                    0.600143365,
                    0.350066986,
                    1.000230409,
                    1.000230409,
                    0.979527778,
                    0.940625,
                    0.926388889,
                    0.900129762,
                    0.861875,
                    0.850312684,
                    0.845458333,
                    0.823555556,
                    0.803541667,
                    0.800263218,
                    0.788,
                    0.77815,
                    0.700386207,
                    0.700164706,
                    0.650307143,
                    0.622828125,
                    0.6225,
                    0.500035345,
                    0.37046657,
                    1.000230409,
                    1.000230409,
                    0.977555556,
                    0.9456,
                    0.902222222,
                    0.850532143,
                    0.850362069,
                    0.840533333,
                    0.800534483,
                    0.800489676,
                    0.755555556,
                    0.750593103,
                    0.750283333,
                    0.722638889,
                    0.553333333,
                    0.500567308,
                    0.467693269,
                    0.437995338,
                    0.406354167,
                    0.285333333,
                    0.259375,
                    1.000230409,
                    0.989,
                    0.950185965,
                    0.9008,
                    0.900129762,
                    0.899,
                    0.877552083,
                    0.864583333,
                    0.85695,
                    0.853666667,
                    0.850362069,
                    0.850170115,
                    0.800473729,
                    0.773333333,
                    0.750646667,
                    0.634666667,
                    0.60059761,
                    0.500117677,
                    0.4925,
                    0.48792,
                    1.000457471,
                    1.000230409,
                    0.971866667,
                    0.971866667,
                    0.971866667,
                    0.971866667,
                    0.971866667,
                    0.971866667,
                    0.971866667,
                    0.971866667,
                    0.971866667,
                    0.971866667,
                    0.971866667,
                    0.971866667,
                    0.920236905,
                    0.900537069,
                    0.850610526,
                    0.850362069,
                    0.750646667,
                    0.656763743,
                    0.650148148,
                    0.600710606,
                    0.388830357,
                    0.286984568,
                    1.0115625,
                    1.000671304,
                    1.000402055,
                    0.950438596,
                    0.950185965,
                    0.912766667,
                    0.892194444,
                    0.8865,
                    0.850532143,
                    0.85011396,
                    0.845069444,
                    0.750593103,
                    0.750450658,
                    0.702666667,
                    0.700508929,
                    0.651007071,
                    0.466821212,
                    0.411553571,
                    0.314166667,
                    1.000602279,
                    0.994270833,
                    0.900158405,
                    0.90014152,
                    0.900129762,
                    0.85695,
                    0.809236111,
                    0.800401961,
                    0.800393224,
                    0.799963218,
                    0.740444444,
                    0.700398148,
                    0.700354545,
                    0.561979167,
                    0.504596491,
                    0.500801724,
                    0.295307738,
                    0.280333333,
                    0.260978788,
                    1.001416667,
                    1.000018551,
                    0.999995238,
                    0.99485,
                    0.976979167,
                    0.950185965,
                    0.949981609,
                    0.919954545,
                    0.800434622,
                    0.800259023,
                    0.778222222,
                    0.750593103,
                    0.700513566,
                    0.700184577,
                    0.586465465,
                    0.541517857,
                    0.5375,
                    0.495416667,
                    0.415172414,
                    1.05028058,
                    1.000230409,
                    0.999995238,
                    0.966759259,
                    0.929183333,
                    0.915766667,
                    0.900147246,
                    0.800401961,
                    0.799963218,
                    0.779791667,
                    0.755166667,
                    0.700710417,
                    0.700612069,
                    0.700278846,
                    0.700135088,
                    0.687555556,
                    0.650834808,
                    0.531666667,
                    0.350706422,
                    1.000446018,
                    1.000018551,
                    0.999995238,
                    0.999924242,
                    0.950185965,
                    0.9425,
                    0.906666667,
                    0.8471,
                    0.845458333,
                    0.800612676,
                    0.799963218,
                    0.771583333,
                    0.7504,
                    0.700079032,
                    0.562212644,
                    0.522844828,
                    0.500720126,
                    0.496549708,
                    1.050666667,
                    1.000018551,
                    0.950185965,
                    0.900135693,
                    0.900129762,
                    0.899111111,
                    0.870083333,
                    0.845833333,
                    0.800401961,
                    0.799963218,
                    0.771583333,
                    0.750520115,
                    0.750027778,
                    0.715766667,
                    0.662270115,
                    0.600224189,
                    0.545657673,
                    0.447916667,
                    0.365318713,
                    1.000018551,
                    0.928680556,
                    0.9008,
                    0.900135693,
                    0.900129762,
                    0.893066667,
                    0.891555556,
                    0.875555556,
                    0.840888889,
                    0.800355208,
                    0.799963218,
                    0.75065101,
                    0.750027778,
                    0.700618234,
                    0.610208333,
                    0.607416667,
                    0.568259587,
                    0.355534483,
                    0.353259649,
                    1.057962963,
                    0.962016667,
                    0.9008,
                    0.900509044,
                    0.900477825,
                    0.888125,
                    0.800401961,
                    0.800161172,
                    0.799963218,
                    0.790003236,
                    0.750648148,
                    0.707111111,
                    0.700618234,
                    0.697708333,
                    0.612517157,
                    0.350301724,
                    0.350301724,
                    0.272,
                    1.004888889,
                    0.966759259,
                    0.90063244,
                    0.90047076,
                    0.90047076,
                    0.899984058,
                    0.853666667,
                    0.8008,
                    0.800401961,
                    0.796755556,
                    0.750797009,
                    0.750648148,
                    0.750356125,
                    0.703770833,
                    0.700618234,
                    0.6895,
                    0.628333333,
                    0.500801724,
                    0.393548851,
                    1.033155556,
                    1.02,
                    1.000344928,
                    1.000065789,
                    0.994375,
                    0.912037037,
                    0.87,
                    0.850364583,
                    0.800947475,
                    0.800401961,
                    0.800144144,
                    0.750406233,
                    0.714410494,
                    0.700588406,
                    0.618361111,
                    0.600070513,
                    0.54175,
                    0.536901754,
                    0.507903226,
                    1.100483918,
                    1.096633333,
                    1.000344928,
                    0.838666667,
                    0.800401961,
                    0.755486111,
                    0.750799435,
                    0.688017677,
                    0.664875,
                    0.656666667,
                    0.637711864,
                    0.601944444,
                    0.58,
                    0.535677966,
                    0.50012336,
                    0.497885057,
                    0.463403955,
                    0.441392,
                    0.350301724,
                    1.000230409,
                    0.929277778,
                    0.902916667,
                    0.800888889,
                    0.800401961,
                    0.80037492,
                    0.796208333,
                    0.750392157,
                    0.750392157,
                    0.725625,
                    0.700206125,
                    0.602,
                    0.600447507,
                    0.557252451,
                    0.500801724,
                    0.483333333,
                    0.238041667,
                    1.1204375,
                    1.108125,
                    1.000230409,
                    0.876444444,
                    0.800806306,
                    0.760833333,
                    0.722568627,
                    0.715333333,
                    0.700632768,
                    0.700573099,
                    0.681598039,
                    0.650223718,
                    0.605208333,
                    0.604166667,
                    0.598627451,
                    0.475718391,
                    0.432122899,
                    0.287041667,
                    0.283054487,
                    1.000230409,
                    0.960433333,
                    0.891555556,
                    0.864583333,
                    0.802243319,
                    0.800980392,
                    0.800312375,
                    0.773333333,
                    0.75065101,
                    0.750356125,
                    0.722333333,
                    0.700459889,
                    0.629416667,
                    0.621971751,
                    0.565972222,
                    0.35542803,
                    0.329964879,
                    0.258,
                    1.000230409,
                    0.927541667,
                    0.91375,
                    0.9025,
                    0.800401961,
                    0.7866,
                    0.750621354,
                    0.750356125,
                    0.749166667,
                    0.700888203,
                    0.700614035,
                    0.700603448,
                    0.656666667,
                    0.653431373,
                    0.650134,
                    0.600982906,
                    0.586041667,
                    0.5814,
                    0.361071429,
                    0.302117347,
                    0.9918,
                    0.936861111,
                    0.919125,
                    0.8211125,
                    0.800980392,
                    0.800980392,
                    0.800401961,
                    0.800279693,
                    0.75065101,
                    0.75053268,
                    0.734645833,
                    0.700603448,
                    0.70009573,
                    0.671875,
                    0.64025,
                    0.58,
                    0.549791667,
                    0.328131579,
                    0.303574468,
                    0.2565,
                    0.251399254,
                    0.81640625,
                    0.800711494,
                    0.800470513,
                    0.800094017,
                    0.799982853,
                    0.785864198,
                    0.75065101,
                    0.733277778,
                    0.710125,
                    0.700603448,
                    0.700540441,
                    0.7,
                    0.684027778,
                    0.672135417,
                    0.638614379,
                    0.631354167,
                    0.611140537,
                    0.609583333,
                    0.585315789,
                    0.249416667,
                    0.8721,
                    0.8319375,
                    0.8300625,
                    0.805555556,
                    0.800401961,
                    0.80000295,
                    0.78375,
                    0.753525,
                    0.75065101,
                    0.727349537,
                    0.700614035,
                    0.700605263,
                    0.672140805,
                    0.627011183,
                    0.626577778,
                    0.456875,
                    0.393548851,
                    0.385791667,
                    0.307501459,
                    0.283958333,
                    0.955791667,
                    0.930416667,
                    0.9025,
                    0.87115,
                    0.800401961,
                    0.800137255,
                    0.800137255,
                    0.750770115,
                    0.75065101,
                    0.750293939,
                    0.700623,
                    0.700614035,
                    0.700362069,
                    0.60128,
                    0.417916667,
                    0.3715625,
                    0.3715625,
                    0.36871875,
                    0.356458333,
                    0.902222222,
                    0.811388889,
                    0.800401961,
                    0.800137255,
                    0.800071839,
                    0.791458333,
                    0.750727326,
                    0.75065101,
                    0.750437269,
                    0.750176991,
                    0.726933333,
                    0.726933333,
                    0.700623,
                    0.700518519,
                    0.700256795,
                    0.5046875,
                    0.471108491,
                    0.325,
                    0.268214286,
                    0.970816667,
                    0.902962963,
                    0.900833333,
                    0.899555556,
                    0.845833333,
                    0.800808642,
                    0.800401961,
                    0.800115819,
                    0.75065101,
                    0.750503571,
                    0.750206897,
                    0.700362069,
                    0.700069811,
                    0.700058333,
                    0.676666667,
                    0.658541667,
                    0.598792339,
                    0.581130952,
                    0.440375,
                    0.410833333,
                    0.410833333,
                    0.921703704,
                    0.921604938,
                    0.800808642,
                    0.800516667,
                    0.800401961,
                    0.768847222,
                    0.75065101,
                    0.750473684,
                    0.750371895,
                    0.750206897,
                    0.700251773,
                    0.66237931,
                    0.590617284,
                    0.5565625,
                    0.495617514,
                    0.449964912,
                    0.410833333,
                    0.4078125,
                    0.378895152,
                    0.376597222,
                    0.271875,
                    0.921703704,
                    0.921604938,
                    0.800779018,
                    0.800260821,
                    0.799982853,
                    0.768847222,
                    0.750716981,
                    0.75065101,
                    0.750425926,
                    0.750395513,
                    0.700236601,
                    0.700211111,
                    0.590617284,
                    0.5565625,
                    0.550403509,
                    0.550349708,
                    0.500258046,
                    0.410833333,
                    0.4078125,
                    0.376597222,
                    0.271875,
                    0.936355556,
                    0.813611111,
                    0.800401961,
                    0.75075,
                    0.75065101,
                    0.750473684,
                    0.750395513,
                    0.707446429,
                    0.700236601,
                    0.700019883,
                    0.683550607,
                    0.682433036,
                    0.673083333,
                    0.664583333,
                    0.600239766,
                    0.585,
                    0.579511494,
                    0.448722222,
                    0.447083333,
                    0.350416667,
                    0.92885,
                    0.86037037,
                    0.806879167,
                    0.800579532,
                    0.800401961,
                    0.8004,
                    0.800309211,
                    0.800149813,
                    0.800115819,
                    0.773333333,
                    0.750797009,
                    0.750473684,
                    0.750395513,
                    0.750254867,
                    0.700903571,
                    0.70013604,
                    0.632361111,
                    0.607654321,
                    0.537919444,
                    0.342361111,
                    0.999533333,
                    0.902962963,
                    0.800701754,
                    0.800566092,
                    0.800401961,
                    0.800333333,
                    0.800115819,
                    0.750770115,
                    0.750473684,
                    0.750395513,
                    0.750212553,
                    0.702777778,
                    0.700659649,
                    0.699984417,
                    0.636049383,
                    0.567377778,
                    0.555430556,
                    0.555430556,
                    0.463194444,
                    0.354444444,
                    0.309333333,
                    0.30277037,
                    0.939166667,
                    0.930416667,
                    0.885925926,
                    0.83375,
                    0.806879167,
                    0.806058333,
                    0.800701754,
                    0.800401961,
                    0.800333333,
                    0.800055762,
                    0.799975862,
                    0.750651724,
                    0.750395513,
                    0.700424138,
                    0.700058333,
                    0.684888889,
                    0.592083333,
                    0.5403125,
                    0.433263158,
                    0.404144928,
                    0.332146465,
                    0.980984848,
                    0.950625,
                    0.927291667,
                    0.868888889,
                    0.812625,
                    0.812625,
                    0.810111111,
                    0.800701754,
                    0.800534979,
                    0.800401961,
                    0.750651724,
                    0.750395513,
                    0.750050847,
                    0.700424138,
                    0.700422,
                    0.600099145,
                    0.453125,
                    0.366053523,
                    0.26369382,
                    0.868888889,
                    0.850520588,
                    0.850045,
                    0.825444444,
                    0.80575,
                    0.800746552,
                    0.800578947,
                    0.800034503,
                    0.7975,
                    0.749987124,
                    0.700422,
                    0.664875,
                    0.664875,
                    0.657083333,
                    0.65024031,
                    0.590740741,
                    0.528125,
                    0.500528095,
                    0.408960345,
                    0.951944444,
                    0.945555556,
                    0.929074074,
                    0.890604167,
                    0.890604167,
                    0.884,
                    0.857916667,
                    0.850084211,
                    0.85007069,
                    0.800511068,
                    0.800401961,
                    0.800034503,
                    0.755208333,
                    0.750371895,
                    0.700422,
                    0.700106061,
                    0.601037091,
                    0.600528571,
                    0.500033898,
                    0.4509375,
                    0.441041667,
                    0.271875,
                    0.960625,
                    0.902962963,
                    0.864342593,
                    0.850446154,
                    0.850426891,
                    0.841,
                    0.800842424,
                    0.800401961,
                    0.800034503,
                    0.795416667,
                    0.7953875,
                    0.794566667,
                    0.750395513,
                    0.700516224,
                    0.700422,
                    0.6825,
                    0.650962281,
                    0.650421429,
                    0.600040678,
                    0.500610909,
                    0.477291667,
                    0.2640625,
                    0.92,
                    0.909391667,
                    0.900061017,
                    0.894444444,
                    0.881575,
                    0.880754167,
                    0.850084211,
                    0.821666667,
                    0.800401961,
                    0.800071839,
                    0.800034503,
                    0.758229167,
                    0.750608,
                    0.750395513,
                    0.741,
                    0.700505263,
                    0.700246491,
                    0.700051852,
                    0.650044068,
                    0.630402924,
                    0.560625,
                    0.560625,
                    0.39875,
                    0.922839506,
                    0.874027778,
                    0.819270833,
                    0.813309028,
                    0.812625,
                    0.800401961,
                    0.800071839,
                    0.800034503,
                    0.786631944,
                    0.75885,
                    0.750608,
                    0.750347333,
                    0.750140741,
                    0.750050847,
                    0.750050847,
                    0.700556897,
                    0.700505263,
                    0.700246491,
                    0.650596491,
                    0.628333333,
                    0.625625,
                    0.625625,
                    0.505888889,
                    0.394722222
                  ],
                  "y0": " ",
                  "yaxis": "y"
                }
              ],
              "layout": {
                "boxmode": "group",
                "legend": {
                  "tracegroupgap": 0
                },
                "template": {
                  "data": {
                    "bar": [
                      {
                        "error_x": {
                          "color": "#2a3f5f"
                        },
                        "error_y": {
                          "color": "#2a3f5f"
                        },
                        "marker": {
                          "line": {
                            "color": "#E5ECF6",
                            "width": 0.5
                          },
                          "pattern": {
                            "fillmode": "overlay",
                            "size": 10,
                            "solidity": 0.2
                          }
                        },
                        "type": "bar"
                      }
                    ],
                    "barpolar": [
                      {
                        "marker": {
                          "line": {
                            "color": "#E5ECF6",
                            "width": 0.5
                          },
                          "pattern": {
                            "fillmode": "overlay",
                            "size": 10,
                            "solidity": 0.2
                          }
                        },
                        "type": "barpolar"
                      }
                    ],
                    "carpet": [
                      {
                        "aaxis": {
                          "endlinecolor": "#2a3f5f",
                          "gridcolor": "white",
                          "linecolor": "white",
                          "minorgridcolor": "white",
                          "startlinecolor": "#2a3f5f"
                        },
                        "baxis": {
                          "endlinecolor": "#2a3f5f",
                          "gridcolor": "white",
                          "linecolor": "white",
                          "minorgridcolor": "white",
                          "startlinecolor": "#2a3f5f"
                        },
                        "type": "carpet"
                      }
                    ],
                    "choropleth": [
                      {
                        "colorbar": {
                          "outlinewidth": 0,
                          "ticks": ""
                        },
                        "type": "choropleth"
                      }
                    ],
                    "contour": [
                      {
                        "colorbar": {
                          "outlinewidth": 0,
                          "ticks": ""
                        },
                        "colorscale": [
                          [
                            0,
                            "#0d0887"
                          ],
                          [
                            0.1111111111111111,
                            "#46039f"
                          ],
                          [
                            0.2222222222222222,
                            "#7201a8"
                          ],
                          [
                            0.3333333333333333,
                            "#9c179e"
                          ],
                          [
                            0.4444444444444444,
                            "#bd3786"
                          ],
                          [
                            0.5555555555555556,
                            "#d8576b"
                          ],
                          [
                            0.6666666666666666,
                            "#ed7953"
                          ],
                          [
                            0.7777777777777778,
                            "#fb9f3a"
                          ],
                          [
                            0.8888888888888888,
                            "#fdca26"
                          ],
                          [
                            1,
                            "#f0f921"
                          ]
                        ],
                        "type": "contour"
                      }
                    ],
                    "contourcarpet": [
                      {
                        "colorbar": {
                          "outlinewidth": 0,
                          "ticks": ""
                        },
                        "type": "contourcarpet"
                      }
                    ],
                    "heatmap": [
                      {
                        "colorbar": {
                          "outlinewidth": 0,
                          "ticks": ""
                        },
                        "colorscale": [
                          [
                            0,
                            "#0d0887"
                          ],
                          [
                            0.1111111111111111,
                            "#46039f"
                          ],
                          [
                            0.2222222222222222,
                            "#7201a8"
                          ],
                          [
                            0.3333333333333333,
                            "#9c179e"
                          ],
                          [
                            0.4444444444444444,
                            "#bd3786"
                          ],
                          [
                            0.5555555555555556,
                            "#d8576b"
                          ],
                          [
                            0.6666666666666666,
                            "#ed7953"
                          ],
                          [
                            0.7777777777777778,
                            "#fb9f3a"
                          ],
                          [
                            0.8888888888888888,
                            "#fdca26"
                          ],
                          [
                            1,
                            "#f0f921"
                          ]
                        ],
                        "type": "heatmap"
                      }
                    ],
                    "heatmapgl": [
                      {
                        "colorbar": {
                          "outlinewidth": 0,
                          "ticks": ""
                        },
                        "colorscale": [
                          [
                            0,
                            "#0d0887"
                          ],
                          [
                            0.1111111111111111,
                            "#46039f"
                          ],
                          [
                            0.2222222222222222,
                            "#7201a8"
                          ],
                          [
                            0.3333333333333333,
                            "#9c179e"
                          ],
                          [
                            0.4444444444444444,
                            "#bd3786"
                          ],
                          [
                            0.5555555555555556,
                            "#d8576b"
                          ],
                          [
                            0.6666666666666666,
                            "#ed7953"
                          ],
                          [
                            0.7777777777777778,
                            "#fb9f3a"
                          ],
                          [
                            0.8888888888888888,
                            "#fdca26"
                          ],
                          [
                            1,
                            "#f0f921"
                          ]
                        ],
                        "type": "heatmapgl"
                      }
                    ],
                    "histogram": [
                      {
                        "marker": {
                          "pattern": {
                            "fillmode": "overlay",
                            "size": 10,
                            "solidity": 0.2
                          }
                        },
                        "type": "histogram"
                      }
                    ],
                    "histogram2d": [
                      {
                        "colorbar": {
                          "outlinewidth": 0,
                          "ticks": ""
                        },
                        "colorscale": [
                          [
                            0,
                            "#0d0887"
                          ],
                          [
                            0.1111111111111111,
                            "#46039f"
                          ],
                          [
                            0.2222222222222222,
                            "#7201a8"
                          ],
                          [
                            0.3333333333333333,
                            "#9c179e"
                          ],
                          [
                            0.4444444444444444,
                            "#bd3786"
                          ],
                          [
                            0.5555555555555556,
                            "#d8576b"
                          ],
                          [
                            0.6666666666666666,
                            "#ed7953"
                          ],
                          [
                            0.7777777777777778,
                            "#fb9f3a"
                          ],
                          [
                            0.8888888888888888,
                            "#fdca26"
                          ],
                          [
                            1,
                            "#f0f921"
                          ]
                        ],
                        "type": "histogram2d"
                      }
                    ],
                    "histogram2dcontour": [
                      {
                        "colorbar": {
                          "outlinewidth": 0,
                          "ticks": ""
                        },
                        "colorscale": [
                          [
                            0,
                            "#0d0887"
                          ],
                          [
                            0.1111111111111111,
                            "#46039f"
                          ],
                          [
                            0.2222222222222222,
                            "#7201a8"
                          ],
                          [
                            0.3333333333333333,
                            "#9c179e"
                          ],
                          [
                            0.4444444444444444,
                            "#bd3786"
                          ],
                          [
                            0.5555555555555556,
                            "#d8576b"
                          ],
                          [
                            0.6666666666666666,
                            "#ed7953"
                          ],
                          [
                            0.7777777777777778,
                            "#fb9f3a"
                          ],
                          [
                            0.8888888888888888,
                            "#fdca26"
                          ],
                          [
                            1,
                            "#f0f921"
                          ]
                        ],
                        "type": "histogram2dcontour"
                      }
                    ],
                    "mesh3d": [
                      {
                        "colorbar": {
                          "outlinewidth": 0,
                          "ticks": ""
                        },
                        "type": "mesh3d"
                      }
                    ],
                    "parcoords": [
                      {
                        "line": {
                          "colorbar": {
                            "outlinewidth": 0,
                            "ticks": ""
                          }
                        },
                        "type": "parcoords"
                      }
                    ],
                    "pie": [
                      {
                        "automargin": true,
                        "type": "pie"
                      }
                    ],
                    "scatter": [
                      {
                        "fillpattern": {
                          "fillmode": "overlay",
                          "size": 10,
                          "solidity": 0.2
                        },
                        "type": "scatter"
                      }
                    ],
                    "scatter3d": [
                      {
                        "line": {
                          "colorbar": {
                            "outlinewidth": 0,
                            "ticks": ""
                          }
                        },
                        "marker": {
                          "colorbar": {
                            "outlinewidth": 0,
                            "ticks": ""
                          }
                        },
                        "type": "scatter3d"
                      }
                    ],
                    "scattercarpet": [
                      {
                        "marker": {
                          "colorbar": {
                            "outlinewidth": 0,
                            "ticks": ""
                          }
                        },
                        "type": "scattercarpet"
                      }
                    ],
                    "scattergeo": [
                      {
                        "marker": {
                          "colorbar": {
                            "outlinewidth": 0,
                            "ticks": ""
                          }
                        },
                        "type": "scattergeo"
                      }
                    ],
                    "scattergl": [
                      {
                        "marker": {
                          "colorbar": {
                            "outlinewidth": 0,
                            "ticks": ""
                          }
                        },
                        "type": "scattergl"
                      }
                    ],
                    "scattermapbox": [
                      {
                        "marker": {
                          "colorbar": {
                            "outlinewidth": 0,
                            "ticks": ""
                          }
                        },
                        "type": "scattermapbox"
                      }
                    ],
                    "scatterpolar": [
                      {
                        "marker": {
                          "colorbar": {
                            "outlinewidth": 0,
                            "ticks": ""
                          }
                        },
                        "type": "scatterpolar"
                      }
                    ],
                    "scatterpolargl": [
                      {
                        "marker": {
                          "colorbar": {
                            "outlinewidth": 0,
                            "ticks": ""
                          }
                        },
                        "type": "scatterpolargl"
                      }
                    ],
                    "scatterternary": [
                      {
                        "marker": {
                          "colorbar": {
                            "outlinewidth": 0,
                            "ticks": ""
                          }
                        },
                        "type": "scatterternary"
                      }
                    ],
                    "surface": [
                      {
                        "colorbar": {
                          "outlinewidth": 0,
                          "ticks": ""
                        },
                        "colorscale": [
                          [
                            0,
                            "#0d0887"
                          ],
                          [
                            0.1111111111111111,
                            "#46039f"
                          ],
                          [
                            0.2222222222222222,
                            "#7201a8"
                          ],
                          [
                            0.3333333333333333,
                            "#9c179e"
                          ],
                          [
                            0.4444444444444444,
                            "#bd3786"
                          ],
                          [
                            0.5555555555555556,
                            "#d8576b"
                          ],
                          [
                            0.6666666666666666,
                            "#ed7953"
                          ],
                          [
                            0.7777777777777778,
                            "#fb9f3a"
                          ],
                          [
                            0.8888888888888888,
                            "#fdca26"
                          ],
                          [
                            1,
                            "#f0f921"
                          ]
                        ],
                        "type": "surface"
                      }
                    ],
                    "table": [
                      {
                        "cells": {
                          "fill": {
                            "color": "#EBF0F8"
                          },
                          "line": {
                            "color": "white"
                          }
                        },
                        "header": {
                          "fill": {
                            "color": "#C8D4E3"
                          },
                          "line": {
                            "color": "white"
                          }
                        },
                        "type": "table"
                      }
                    ]
                  },
                  "layout": {
                    "annotationdefaults": {
                      "arrowcolor": "#2a3f5f",
                      "arrowhead": 0,
                      "arrowwidth": 1
                    },
                    "autotypenumbers": "strict",
                    "coloraxis": {
                      "colorbar": {
                        "outlinewidth": 0,
                        "ticks": ""
                      }
                    },
                    "colorscale": {
                      "diverging": [
                        [
                          0,
                          "#8e0152"
                        ],
                        [
                          0.1,
                          "#c51b7d"
                        ],
                        [
                          0.2,
                          "#de77ae"
                        ],
                        [
                          0.3,
                          "#f1b6da"
                        ],
                        [
                          0.4,
                          "#fde0ef"
                        ],
                        [
                          0.5,
                          "#f7f7f7"
                        ],
                        [
                          0.6,
                          "#e6f5d0"
                        ],
                        [
                          0.7,
                          "#b8e186"
                        ],
                        [
                          0.8,
                          "#7fbc41"
                        ],
                        [
                          0.9,
                          "#4d9221"
                        ],
                        [
                          1,
                          "#276419"
                        ]
                      ],
                      "sequential": [
                        [
                          0,
                          "#0d0887"
                        ],
                        [
                          0.1111111111111111,
                          "#46039f"
                        ],
                        [
                          0.2222222222222222,
                          "#7201a8"
                        ],
                        [
                          0.3333333333333333,
                          "#9c179e"
                        ],
                        [
                          0.4444444444444444,
                          "#bd3786"
                        ],
                        [
                          0.5555555555555556,
                          "#d8576b"
                        ],
                        [
                          0.6666666666666666,
                          "#ed7953"
                        ],
                        [
                          0.7777777777777778,
                          "#fb9f3a"
                        ],
                        [
                          0.8888888888888888,
                          "#fdca26"
                        ],
                        [
                          1,
                          "#f0f921"
                        ]
                      ],
                      "sequentialminus": [
                        [
                          0,
                          "#0d0887"
                        ],
                        [
                          0.1111111111111111,
                          "#46039f"
                        ],
                        [
                          0.2222222222222222,
                          "#7201a8"
                        ],
                        [
                          0.3333333333333333,
                          "#9c179e"
                        ],
                        [
                          0.4444444444444444,
                          "#bd3786"
                        ],
                        [
                          0.5555555555555556,
                          "#d8576b"
                        ],
                        [
                          0.6666666666666666,
                          "#ed7953"
                        ],
                        [
                          0.7777777777777778,
                          "#fb9f3a"
                        ],
                        [
                          0.8888888888888888,
                          "#fdca26"
                        ],
                        [
                          1,
                          "#f0f921"
                        ]
                      ]
                    },
                    "colorway": [
                      "#636efa",
                      "#EF553B",
                      "#00cc96",
                      "#ab63fa",
                      "#FFA15A",
                      "#19d3f3",
                      "#FF6692",
                      "#B6E880",
                      "#FF97FF",
                      "#FECB52"
                    ],
                    "font": {
                      "color": "#2a3f5f"
                    },
                    "geo": {
                      "bgcolor": "white",
                      "lakecolor": "white",
                      "landcolor": "#E5ECF6",
                      "showlakes": true,
                      "showland": true,
                      "subunitcolor": "white"
                    },
                    "hoverlabel": {
                      "align": "left"
                    },
                    "hovermode": "closest",
                    "mapbox": {
                      "style": "light"
                    },
                    "paper_bgcolor": "white",
                    "plot_bgcolor": "#E5ECF6",
                    "polar": {
                      "angularaxis": {
                        "gridcolor": "white",
                        "linecolor": "white",
                        "ticks": ""
                      },
                      "bgcolor": "#E5ECF6",
                      "radialaxis": {
                        "gridcolor": "white",
                        "linecolor": "white",
                        "ticks": ""
                      }
                    },
                    "scene": {
                      "xaxis": {
                        "backgroundcolor": "#E5ECF6",
                        "gridcolor": "white",
                        "gridwidth": 2,
                        "linecolor": "white",
                        "showbackground": true,
                        "ticks": "",
                        "zerolinecolor": "white"
                      },
                      "yaxis": {
                        "backgroundcolor": "#E5ECF6",
                        "gridcolor": "white",
                        "gridwidth": 2,
                        "linecolor": "white",
                        "showbackground": true,
                        "ticks": "",
                        "zerolinecolor": "white"
                      },
                      "zaxis": {
                        "backgroundcolor": "#E5ECF6",
                        "gridcolor": "white",
                        "gridwidth": 2,
                        "linecolor": "white",
                        "showbackground": true,
                        "ticks": "",
                        "zerolinecolor": "white"
                      }
                    },
                    "shapedefaults": {
                      "line": {
                        "color": "#2a3f5f"
                      }
                    },
                    "ternary": {
                      "aaxis": {
                        "gridcolor": "white",
                        "linecolor": "white",
                        "ticks": ""
                      },
                      "baxis": {
                        "gridcolor": "white",
                        "linecolor": "white",
                        "ticks": ""
                      },
                      "bgcolor": "#E5ECF6",
                      "caxis": {
                        "gridcolor": "white",
                        "linecolor": "white",
                        "ticks": ""
                      }
                    },
                    "title": {
                      "x": 0.05
                    },
                    "xaxis": {
                      "automargin": true,
                      "gridcolor": "white",
                      "linecolor": "white",
                      "ticks": "",
                      "title": {
                        "standoff": 15
                      },
                      "zerolinecolor": "white",
                      "zerolinewidth": 2
                    },
                    "yaxis": {
                      "automargin": true,
                      "gridcolor": "white",
                      "linecolor": "white",
                      "ticks": "",
                      "title": {
                        "standoff": 15
                      },
                      "zerolinecolor": "white",
                      "zerolinewidth": 2
                    }
                  }
                },
                "title": {
                  "text": "Boxplot of Productivity vs Team Size"
                },
                "xaxis": {
                  "anchor": "y",
                  "domain": [
                    0,
                    1
                  ],
                  "title": {
                    "text": "no_of_workers"
                  }
                },
                "yaxis": {
                  "anchor": "x",
                  "domain": [
                    0,
                    1
                  ],
                  "title": {
                    "text": "actual_productivity"
                  }
                }
              }
            }
          },
          "metadata": {},
          "output_type": "display_data"
        },
        {
          "data": {
            "application/vnd.plotly.v1+json": {
              "config": {
                "plotlyServerURL": "https://plot.ly"
              },
              "data": [
                {
                  "alignmentgroup": "True",
                  "hovertemplate": "quarter=%{x}<br>actual_productivity=%{y}<extra></extra>",
                  "legendgroup": "Quarter1",
                  "marker": {
                    "color": "#636efa"
                  },
                  "name": "Quarter1",
                  "notched": false,
                  "offsetgroup": "Quarter1",
                  "orientation": "v",
                  "showlegend": true,
                  "type": "box",
                  "x": [
                    "Quarter1",
                    "Quarter1",
                    "Quarter1",
                    "Quarter1",
                    "Quarter1",
                    "Quarter1",
                    "Quarter1",
                    "Quarter1",
                    "Quarter1",
                    "Quarter1",
                    "Quarter1",
                    "Quarter1",
                    "Quarter1",
                    "Quarter1",
                    "Quarter1",
                    "Quarter1",
                    "Quarter1",
                    "Quarter1",
                    "Quarter1",
                    "Quarter1",
                    "Quarter1",
                    "Quarter1",
                    "Quarter1",
                    "Quarter1",
                    "Quarter1",
                    "Quarter1",
                    "Quarter1",
                    "Quarter1",
                    "Quarter1",
                    "Quarter1",
                    "Quarter1",
                    "Quarter1",
                    "Quarter1",
                    "Quarter1",
                    "Quarter1",
                    "Quarter1",
                    "Quarter1",
                    "Quarter1",
                    "Quarter1",
                    "Quarter1",
                    "Quarter1",
                    "Quarter1",
                    "Quarter1",
                    "Quarter1",
                    "Quarter1",
                    "Quarter1",
                    "Quarter1",
                    "Quarter1",
                    "Quarter1",
                    "Quarter1",
                    "Quarter1",
                    "Quarter1",
                    "Quarter1",
                    "Quarter1",
                    "Quarter1",
                    "Quarter1",
                    "Quarter1",
                    "Quarter1",
                    "Quarter1",
                    "Quarter1",
                    "Quarter1",
                    "Quarter1",
                    "Quarter1",
                    "Quarter1",
                    "Quarter1",
                    "Quarter1",
                    "Quarter1",
                    "Quarter1",
                    "Quarter1",
                    "Quarter1",
                    "Quarter1",
                    "Quarter1",
                    "Quarter1",
                    "Quarter1",
                    "Quarter1",
                    "Quarter1",
                    "Quarter1",
                    "Quarter1",
                    "Quarter1",
                    "Quarter1",
                    "Quarter1",
                    "Quarter1",
                    "Quarter1",
                    "Quarter1",
                    "Quarter1",
                    "Quarter1",
                    "Quarter1",
                    "Quarter1",
                    "Quarter1",
                    "Quarter1",
                    "Quarter1",
                    "Quarter1",
                    "Quarter1",
                    "Quarter1",
                    "Quarter1",
                    "Quarter1",
                    "Quarter1",
                    "Quarter1",
                    "Quarter1",
                    "Quarter1",
                    "Quarter1",
                    "Quarter1",
                    "Quarter1",
                    "Quarter1",
                    "Quarter1",
                    "Quarter1",
                    "Quarter1",
                    "Quarter1",
                    "Quarter1",
                    "Quarter1",
                    "Quarter1",
                    "Quarter1",
                    "Quarter1",
                    "Quarter1",
                    "Quarter1",
                    "Quarter1",
                    "Quarter1",
                    "Quarter1",
                    "Quarter1",
                    "Quarter1",
                    "Quarter1",
                    "Quarter1",
                    "Quarter1",
                    "Quarter1",
                    "Quarter1",
                    "Quarter1",
                    "Quarter1",
                    "Quarter1",
                    "Quarter1",
                    "Quarter1",
                    "Quarter1",
                    "Quarter1",
                    "Quarter1",
                    "Quarter1",
                    "Quarter1",
                    "Quarter1",
                    "Quarter1",
                    "Quarter1",
                    "Quarter1",
                    "Quarter1",
                    "Quarter1",
                    "Quarter1",
                    "Quarter1",
                    "Quarter1",
                    "Quarter1",
                    "Quarter1",
                    "Quarter1",
                    "Quarter1",
                    "Quarter1",
                    "Quarter1",
                    "Quarter1",
                    "Quarter1",
                    "Quarter1",
                    "Quarter1",
                    "Quarter1",
                    "Quarter1",
                    "Quarter1",
                    "Quarter1",
                    "Quarter1",
                    "Quarter1",
                    "Quarter1",
                    "Quarter1",
                    "Quarter1",
                    "Quarter1",
                    "Quarter1",
                    "Quarter1",
                    "Quarter1",
                    "Quarter1",
                    "Quarter1",
                    "Quarter1",
                    "Quarter1",
                    "Quarter1",
                    "Quarter1",
                    "Quarter1",
                    "Quarter1",
                    "Quarter1",
                    "Quarter1",
                    "Quarter1",
                    "Quarter1",
                    "Quarter1",
                    "Quarter1",
                    "Quarter1",
                    "Quarter1",
                    "Quarter1",
                    "Quarter1",
                    "Quarter1",
                    "Quarter1",
                    "Quarter1",
                    "Quarter1",
                    "Quarter1",
                    "Quarter1",
                    "Quarter1",
                    "Quarter1",
                    "Quarter1",
                    "Quarter1",
                    "Quarter1",
                    "Quarter1",
                    "Quarter1",
                    "Quarter1",
                    "Quarter1",
                    "Quarter1",
                    "Quarter1",
                    "Quarter1",
                    "Quarter1",
                    "Quarter1",
                    "Quarter1",
                    "Quarter1",
                    "Quarter1",
                    "Quarter1",
                    "Quarter1",
                    "Quarter1",
                    "Quarter1",
                    "Quarter1",
                    "Quarter1",
                    "Quarter1",
                    "Quarter1",
                    "Quarter1",
                    "Quarter1",
                    "Quarter1",
                    "Quarter1",
                    "Quarter1",
                    "Quarter1",
                    "Quarter1",
                    "Quarter1",
                    "Quarter1",
                    "Quarter1",
                    "Quarter1",
                    "Quarter1",
                    "Quarter1",
                    "Quarter1",
                    "Quarter1",
                    "Quarter1",
                    "Quarter1",
                    "Quarter1",
                    "Quarter1",
                    "Quarter1",
                    "Quarter1",
                    "Quarter1",
                    "Quarter1",
                    "Quarter1",
                    "Quarter1",
                    "Quarter1",
                    "Quarter1",
                    "Quarter1",
                    "Quarter1",
                    "Quarter1",
                    "Quarter1",
                    "Quarter1",
                    "Quarter1",
                    "Quarter1",
                    "Quarter1",
                    "Quarter1",
                    "Quarter1",
                    "Quarter1",
                    "Quarter1",
                    "Quarter1",
                    "Quarter1",
                    "Quarter1",
                    "Quarter1",
                    "Quarter1",
                    "Quarter1",
                    "Quarter1",
                    "Quarter1",
                    "Quarter1",
                    "Quarter1",
                    "Quarter1",
                    "Quarter1",
                    "Quarter1",
                    "Quarter1",
                    "Quarter1",
                    "Quarter1",
                    "Quarter1",
                    "Quarter1",
                    "Quarter1",
                    "Quarter1",
                    "Quarter1",
                    "Quarter1",
                    "Quarter1",
                    "Quarter1",
                    "Quarter1",
                    "Quarter1",
                    "Quarter1",
                    "Quarter1",
                    "Quarter1",
                    "Quarter1",
                    "Quarter1",
                    "Quarter1",
                    "Quarter1",
                    "Quarter1",
                    "Quarter1",
                    "Quarter1",
                    "Quarter1",
                    "Quarter1",
                    "Quarter1",
                    "Quarter1",
                    "Quarter1",
                    "Quarter1",
                    "Quarter1",
                    "Quarter1",
                    "Quarter1",
                    "Quarter1",
                    "Quarter1",
                    "Quarter1",
                    "Quarter1",
                    "Quarter1",
                    "Quarter1",
                    "Quarter1",
                    "Quarter1",
                    "Quarter1",
                    "Quarter1",
                    "Quarter1",
                    "Quarter1",
                    "Quarter1",
                    "Quarter1",
                    "Quarter1",
                    "Quarter1",
                    "Quarter1",
                    "Quarter1",
                    "Quarter1",
                    "Quarter1",
                    "Quarter1",
                    "Quarter1",
                    "Quarter1",
                    "Quarter1",
                    "Quarter1",
                    "Quarter1",
                    "Quarter1",
                    "Quarter1",
                    "Quarter1",
                    "Quarter1",
                    "Quarter1",
                    "Quarter1",
                    "Quarter1",
                    "Quarter1",
                    "Quarter1",
                    "Quarter1",
                    "Quarter1",
                    "Quarter1",
                    "Quarter1",
                    "Quarter1",
                    "Quarter1",
                    "Quarter1",
                    "Quarter1",
                    "Quarter1",
                    "Quarter1",
                    "Quarter1",
                    "Quarter1",
                    "Quarter1",
                    "Quarter1",
                    "Quarter1",
                    "Quarter1",
                    "Quarter1",
                    "Quarter1",
                    "Quarter1",
                    "Quarter1",
                    "Quarter1",
                    "Quarter1",
                    "Quarter1",
                    "Quarter1",
                    "Quarter1"
                  ],
                  "x0": " ",
                  "xaxis": "x",
                  "y": [
                    0.940725424,
                    0.8865,
                    0.800570492,
                    0.800570492,
                    0.800381944,
                    0.800125,
                    0.755166667,
                    0.753683478,
                    0.753097531,
                    0.750427826,
                    0.721126957,
                    0.712205247,
                    0.707045902,
                    0.705916667,
                    0.676666667,
                    0.593055556,
                    0.540729167,
                    0.52118,
                    0.436326389,
                    0.988024691,
                    0.987880435,
                    0.956270833,
                    0.945277778,
                    0.902916667,
                    0.800725314,
                    0.800322936,
                    0.800318644,
                    0.800318644,
                    0.800237288,
                    0.800148649,
                    0.800125,
                    0.800125,
                    0.787299691,
                    0.782447917,
                    0.75024303,
                    0.7018125,
                    0.700134038,
                    0.699965217,
                    0.628333333,
                    0.6253125,
                    0.991388889,
                    0.931645833,
                    0.915229167,
                    0.879714482,
                    0.861679012,
                    0.850569492,
                    0.850436438,
                    0.850345133,
                    0.800598058,
                    0.800318644,
                    0.800237838,
                    0.800030199,
                    0.792104167,
                    0.759228395,
                    0.750348457,
                    0.75024303,
                    0.699965217,
                    0.682708333,
                    0.667604167,
                    0.603432184,
                    0.345833333,
                    0.961059028,
                    0.939513889,
                    0.893663194,
                    0.875390625,
                    0.850569492,
                    0.820833333,
                    0.804416667,
                    0.800684366,
                    0.800684366,
                    0.800318644,
                    0.800250962,
                    0.800246011,
                    0.800246011,
                    0.800076522,
                    0.800076522,
                    0.763375,
                    0.759270833,
                    0.7504,
                    0.75024303,
                    0.676666667,
                    0.664583333,
                    0.600028736,
                    0.966781346,
                    0.936496212,
                    0.899166667,
                    0.888686869,
                    0.858143939,
                    0.850502311,
                    0.850502311,
                    0.809640152,
                    0.805909091,
                    0.800594466,
                    0.800594466,
                    0.800273829,
                    0.800140969,
                    0.800128721,
                    0.800128721,
                    0.80007657,
                    0.750545455,
                    0.750057851,
                    0.681060606,
                    0.649983281,
                    0.61625,
                    0.951420455,
                    0.880530303,
                    0.850502311,
                    0.850502311,
                    0.850136766,
                    0.83,
                    0.827186544,
                    0.813371212,
                    0.805909091,
                    0.804640152,
                    0.800594466,
                    0.800594466,
                    0.800343766,
                    0.800273829,
                    0.800246753,
                    0.800128721,
                    0.8,
                    0.700480831,
                    0.681060606,
                    0.666515152,
                    0.412119835,
                    0.330113636,
                    1.0115625,
                    1.000671304,
                    1.000402055,
                    0.950438596,
                    0.950185965,
                    0.912766667,
                    0.892194444,
                    0.8865,
                    0.850532143,
                    0.85011396,
                    0.845069444,
                    0.750593103,
                    0.750450658,
                    0.702666667,
                    0.700508929,
                    0.651007071,
                    0.466821212,
                    0.411553571,
                    0.314166667,
                    1.000602279,
                    0.994270833,
                    0.900158405,
                    0.90014152,
                    0.900129762,
                    0.85695,
                    0.809236111,
                    0.800401961,
                    0.800393224,
                    0.799963218,
                    0.740444444,
                    0.700398148,
                    0.700354545,
                    0.561979167,
                    0.504596491,
                    0.500801724,
                    0.295307738,
                    0.280333333,
                    0.260978788,
                    1.001416667,
                    1.000018551,
                    0.999995238,
                    0.99485,
                    0.976979167,
                    0.950185965,
                    0.949981609,
                    0.919954545,
                    0.800434622,
                    0.800259023,
                    0.778222222,
                    0.750593103,
                    0.700513566,
                    0.700184577,
                    0.586465465,
                    0.541517857,
                    0.5375,
                    0.495416667,
                    0.415172414,
                    1.05028058,
                    1.000230409,
                    0.999995238,
                    0.966759259,
                    0.929183333,
                    0.915766667,
                    0.900147246,
                    0.800401961,
                    0.799963218,
                    0.779791667,
                    0.755166667,
                    0.700710417,
                    0.700612069,
                    0.700278846,
                    0.700135088,
                    0.687555556,
                    0.650834808,
                    0.531666667,
                    0.350706422,
                    1.000446018,
                    1.000018551,
                    0.999995238,
                    0.999924242,
                    0.950185965,
                    0.9425,
                    0.906666667,
                    0.8471,
                    0.845458333,
                    0.800612676,
                    0.799963218,
                    0.771583333,
                    0.7504,
                    0.700079032,
                    0.562212644,
                    0.522844828,
                    0.500720126,
                    0.496549708,
                    1.050666667,
                    1.000018551,
                    0.950185965,
                    0.900135693,
                    0.900129762,
                    0.899111111,
                    0.870083333,
                    0.845833333,
                    0.800401961,
                    0.799963218,
                    0.771583333,
                    0.750520115,
                    0.750027778,
                    0.715766667,
                    0.662270115,
                    0.600224189,
                    0.545657673,
                    0.447916667,
                    0.365318713,
                    0.936355556,
                    0.813611111,
                    0.800401961,
                    0.75075,
                    0.75065101,
                    0.750473684,
                    0.750395513,
                    0.707446429,
                    0.700236601,
                    0.700019883,
                    0.683550607,
                    0.682433036,
                    0.673083333,
                    0.664583333,
                    0.600239766,
                    0.585,
                    0.579511494,
                    0.448722222,
                    0.447083333,
                    0.350416667,
                    0.92885,
                    0.86037037,
                    0.806879167,
                    0.800579532,
                    0.800401961,
                    0.8004,
                    0.800309211,
                    0.800149813,
                    0.800115819,
                    0.773333333,
                    0.750797009,
                    0.750473684,
                    0.750395513,
                    0.750254867,
                    0.700903571,
                    0.70013604,
                    0.632361111,
                    0.607654321,
                    0.537919444,
                    0.342361111,
                    0.999533333,
                    0.902962963,
                    0.800701754,
                    0.800566092,
                    0.800401961,
                    0.800333333,
                    0.800115819,
                    0.750770115,
                    0.750473684,
                    0.750395513,
                    0.750212553,
                    0.702777778,
                    0.700659649,
                    0.699984417,
                    0.636049383,
                    0.567377778,
                    0.555430556,
                    0.555430556,
                    0.463194444,
                    0.354444444,
                    0.309333333,
                    0.30277037,
                    0.939166667,
                    0.930416667,
                    0.885925926,
                    0.83375,
                    0.806879167,
                    0.806058333,
                    0.800701754,
                    0.800401961,
                    0.800333333,
                    0.800055762,
                    0.799975862,
                    0.750651724,
                    0.750395513,
                    0.700424138,
                    0.700058333,
                    0.684888889,
                    0.592083333,
                    0.5403125,
                    0.433263158,
                    0.404144928,
                    0.332146465,
                    0.980984848,
                    0.950625,
                    0.927291667,
                    0.868888889,
                    0.812625,
                    0.812625,
                    0.810111111,
                    0.800701754,
                    0.800534979,
                    0.800401961,
                    0.750651724,
                    0.750395513,
                    0.750050847,
                    0.700424138,
                    0.700422,
                    0.600099145,
                    0.453125,
                    0.366053523,
                    0.26369382,
                    0.868888889,
                    0.850520588,
                    0.850045,
                    0.825444444,
                    0.80575,
                    0.800746552,
                    0.800578947,
                    0.800034503,
                    0.7975,
                    0.749987124,
                    0.700422,
                    0.664875,
                    0.664875,
                    0.657083333,
                    0.65024031,
                    0.590740741,
                    0.528125,
                    0.500528095,
                    0.408960345
                  ],
                  "y0": " ",
                  "yaxis": "y"
                },
                {
                  "alignmentgroup": "True",
                  "hovertemplate": "quarter=%{x}<br>actual_productivity=%{y}<extra></extra>",
                  "legendgroup": "Quarter2",
                  "marker": {
                    "color": "#EF553B"
                  },
                  "name": "Quarter2",
                  "notched": false,
                  "offsetgroup": "Quarter2",
                  "orientation": "v",
                  "showlegend": true,
                  "type": "box",
                  "x": [
                    "Quarter2",
                    "Quarter2",
                    "Quarter2",
                    "Quarter2",
                    "Quarter2",
                    "Quarter2",
                    "Quarter2",
                    "Quarter2",
                    "Quarter2",
                    "Quarter2",
                    "Quarter2",
                    "Quarter2",
                    "Quarter2",
                    "Quarter2",
                    "Quarter2",
                    "Quarter2",
                    "Quarter2",
                    "Quarter2",
                    "Quarter2",
                    "Quarter2",
                    "Quarter2",
                    "Quarter2",
                    "Quarter2",
                    "Quarter2",
                    "Quarter2",
                    "Quarter2",
                    "Quarter2",
                    "Quarter2",
                    "Quarter2",
                    "Quarter2",
                    "Quarter2",
                    "Quarter2",
                    "Quarter2",
                    "Quarter2",
                    "Quarter2",
                    "Quarter2",
                    "Quarter2",
                    "Quarter2",
                    "Quarter2",
                    "Quarter2",
                    "Quarter2",
                    "Quarter2",
                    "Quarter2",
                    "Quarter2",
                    "Quarter2",
                    "Quarter2",
                    "Quarter2",
                    "Quarter2",
                    "Quarter2",
                    "Quarter2",
                    "Quarter2",
                    "Quarter2",
                    "Quarter2",
                    "Quarter2",
                    "Quarter2",
                    "Quarter2",
                    "Quarter2",
                    "Quarter2",
                    "Quarter2",
                    "Quarter2",
                    "Quarter2",
                    "Quarter2",
                    "Quarter2",
                    "Quarter2",
                    "Quarter2",
                    "Quarter2",
                    "Quarter2",
                    "Quarter2",
                    "Quarter2",
                    "Quarter2",
                    "Quarter2",
                    "Quarter2",
                    "Quarter2",
                    "Quarter2",
                    "Quarter2",
                    "Quarter2",
                    "Quarter2",
                    "Quarter2",
                    "Quarter2",
                    "Quarter2",
                    "Quarter2",
                    "Quarter2",
                    "Quarter2",
                    "Quarter2",
                    "Quarter2",
                    "Quarter2",
                    "Quarter2",
                    "Quarter2",
                    "Quarter2",
                    "Quarter2",
                    "Quarter2",
                    "Quarter2",
                    "Quarter2",
                    "Quarter2",
                    "Quarter2",
                    "Quarter2",
                    "Quarter2",
                    "Quarter2",
                    "Quarter2",
                    "Quarter2",
                    "Quarter2",
                    "Quarter2",
                    "Quarter2",
                    "Quarter2",
                    "Quarter2",
                    "Quarter2",
                    "Quarter2",
                    "Quarter2",
                    "Quarter2",
                    "Quarter2",
                    "Quarter2",
                    "Quarter2",
                    "Quarter2",
                    "Quarter2",
                    "Quarter2",
                    "Quarter2",
                    "Quarter2",
                    "Quarter2",
                    "Quarter2",
                    "Quarter2",
                    "Quarter2",
                    "Quarter2",
                    "Quarter2",
                    "Quarter2",
                    "Quarter2",
                    "Quarter2",
                    "Quarter2",
                    "Quarter2",
                    "Quarter2",
                    "Quarter2",
                    "Quarter2",
                    "Quarter2",
                    "Quarter2",
                    "Quarter2",
                    "Quarter2",
                    "Quarter2",
                    "Quarter2",
                    "Quarter2",
                    "Quarter2",
                    "Quarter2",
                    "Quarter2",
                    "Quarter2",
                    "Quarter2",
                    "Quarter2",
                    "Quarter2",
                    "Quarter2",
                    "Quarter2",
                    "Quarter2",
                    "Quarter2",
                    "Quarter2",
                    "Quarter2",
                    "Quarter2",
                    "Quarter2",
                    "Quarter2",
                    "Quarter2",
                    "Quarter2",
                    "Quarter2",
                    "Quarter2",
                    "Quarter2",
                    "Quarter2",
                    "Quarter2",
                    "Quarter2",
                    "Quarter2",
                    "Quarter2",
                    "Quarter2",
                    "Quarter2",
                    "Quarter2",
                    "Quarter2",
                    "Quarter2",
                    "Quarter2",
                    "Quarter2",
                    "Quarter2",
                    "Quarter2",
                    "Quarter2",
                    "Quarter2",
                    "Quarter2",
                    "Quarter2",
                    "Quarter2",
                    "Quarter2",
                    "Quarter2",
                    "Quarter2",
                    "Quarter2",
                    "Quarter2",
                    "Quarter2",
                    "Quarter2",
                    "Quarter2",
                    "Quarter2",
                    "Quarter2",
                    "Quarter2",
                    "Quarter2",
                    "Quarter2",
                    "Quarter2",
                    "Quarter2",
                    "Quarter2",
                    "Quarter2",
                    "Quarter2",
                    "Quarter2",
                    "Quarter2",
                    "Quarter2",
                    "Quarter2",
                    "Quarter2",
                    "Quarter2",
                    "Quarter2",
                    "Quarter2",
                    "Quarter2",
                    "Quarter2",
                    "Quarter2",
                    "Quarter2",
                    "Quarter2",
                    "Quarter2",
                    "Quarter2",
                    "Quarter2",
                    "Quarter2",
                    "Quarter2",
                    "Quarter2",
                    "Quarter2",
                    "Quarter2",
                    "Quarter2",
                    "Quarter2",
                    "Quarter2",
                    "Quarter2",
                    "Quarter2",
                    "Quarter2",
                    "Quarter2",
                    "Quarter2",
                    "Quarter2",
                    "Quarter2",
                    "Quarter2",
                    "Quarter2",
                    "Quarter2",
                    "Quarter2",
                    "Quarter2",
                    "Quarter2",
                    "Quarter2",
                    "Quarter2",
                    "Quarter2",
                    "Quarter2",
                    "Quarter2",
                    "Quarter2",
                    "Quarter2",
                    "Quarter2",
                    "Quarter2",
                    "Quarter2",
                    "Quarter2",
                    "Quarter2",
                    "Quarter2",
                    "Quarter2",
                    "Quarter2",
                    "Quarter2",
                    "Quarter2",
                    "Quarter2",
                    "Quarter2",
                    "Quarter2",
                    "Quarter2",
                    "Quarter2",
                    "Quarter2",
                    "Quarter2",
                    "Quarter2",
                    "Quarter2",
                    "Quarter2",
                    "Quarter2",
                    "Quarter2",
                    "Quarter2",
                    "Quarter2",
                    "Quarter2",
                    "Quarter2",
                    "Quarter2",
                    "Quarter2",
                    "Quarter2",
                    "Quarter2",
                    "Quarter2",
                    "Quarter2",
                    "Quarter2",
                    "Quarter2",
                    "Quarter2",
                    "Quarter2",
                    "Quarter2",
                    "Quarter2",
                    "Quarter2",
                    "Quarter2",
                    "Quarter2",
                    "Quarter2",
                    "Quarter2",
                    "Quarter2",
                    "Quarter2",
                    "Quarter2",
                    "Quarter2",
                    "Quarter2",
                    "Quarter2",
                    "Quarter2",
                    "Quarter2",
                    "Quarter2",
                    "Quarter2",
                    "Quarter2",
                    "Quarter2",
                    "Quarter2",
                    "Quarter2",
                    "Quarter2",
                    "Quarter2",
                    "Quarter2",
                    "Quarter2",
                    "Quarter2",
                    "Quarter2",
                    "Quarter2",
                    "Quarter2",
                    "Quarter2",
                    "Quarter2",
                    "Quarter2",
                    "Quarter2",
                    "Quarter2",
                    "Quarter2",
                    "Quarter2",
                    "Quarter2",
                    "Quarter2",
                    "Quarter2",
                    "Quarter2",
                    "Quarter2",
                    "Quarter2",
                    "Quarter2",
                    "Quarter2",
                    "Quarter2",
                    "Quarter2",
                    "Quarter2",
                    "Quarter2",
                    "Quarter2",
                    "Quarter2",
                    "Quarter2",
                    "Quarter2",
                    "Quarter2",
                    "Quarter2",
                    "Quarter2",
                    "Quarter2",
                    "Quarter2",
                    "Quarter2",
                    "Quarter2"
                  ],
                  "x0": " ",
                  "xaxis": "x",
                  "y": [
                    0.947689394,
                    0.919905405,
                    0.900215716,
                    0.891723485,
                    0.850502311,
                    0.850181818,
                    0.850136766,
                    0.850136766,
                    0.835757576,
                    0.821354167,
                    0.800497246,
                    0.800273829,
                    0.800107143,
                    0.800024932,
                    0.8,
                    0.779791667,
                    0.735984848,
                    0.712626263,
                    0.681060606,
                    0.515606061,
                    0.349951389,
                    0.233705476,
                    0.985,
                    0.930340376,
                    0.911589744,
                    0.858143939,
                    0.851174114,
                    0.850136766,
                    0.850136766,
                    0.846950758,
                    0.817424242,
                    0.817102273,
                    0.801028213,
                    0.800594466,
                    0.800346445,
                    0.800343766,
                    0.800117103,
                    0.8,
                    0.750098351,
                    0.673245283,
                    0.670075758,
                    0.628882576,
                    0.388007813,
                    0.337973485,
                    0.93532197,
                    0.925643939,
                    0.900215716,
                    0.873068182,
                    0.858143939,
                    0.850502311,
                    0.850136766,
                    0.850136766,
                    0.828295455,
                    0.820833333,
                    0.800343766,
                    0.800246753,
                    0.8,
                    0.8,
                    0.690182815,
                    0.668087121,
                    0.653598485,
                    0.609138258,
                    0.600229846,
                    0.597348485,
                    0.590435606,
                    0.473134796,
                    0.452979626,
                    0.955151515,
                    0.942213805,
                    0.905454545,
                    0.880530303,
                    0.858143939,
                    0.850522167,
                    0.850502311,
                    0.850136766,
                    0.850136766,
                    0.817424242,
                    0.809564394,
                    0.800273829,
                    0.800181818,
                    0.80007657,
                    0.8,
                    0.725,
                    0.688557555,
                    0.650040783,
                    0.64998056,
                    0.648106061,
                    0.640577652,
                    0.35063299,
                    0.24625,
                    0.952020202,
                    0.951420455,
                    0.912766667,
                    0.901262626,
                    0.858143939,
                    0.850502311,
                    0.850502311,
                    0.850252525,
                    0.850136766,
                    0.821354167,
                    0.805909091,
                    0.800246753,
                    0.800246753,
                    0.8,
                    0.705576584,
                    0.681060606,
                    0.670075758,
                    0.601278409,
                    0.582301029,
                    0.526810345,
                    0.500380799,
                    0.35020649,
                    0.934607438,
                    0.908080808,
                    0.900144811,
                    0.891723485,
                    0.864583333,
                    0.858143939,
                    0.850502311,
                    0.850136766,
                    0.837594697,
                    0.820833333,
                    0.800313433,
                    0.800246753,
                    0.800117103,
                    0.700095563,
                    0.667329545,
                    0.600369686,
                    0.499980334,
                    0.35003125,
                    0.332359307,
                    0.311207464,
                    0.247316017,
                    1.000018551,
                    0.928680556,
                    0.9008,
                    0.900135693,
                    0.900129762,
                    0.893066667,
                    0.891555556,
                    0.875555556,
                    0.840888889,
                    0.800355208,
                    0.799963218,
                    0.75065101,
                    0.750027778,
                    0.700618234,
                    0.610208333,
                    0.607416667,
                    0.568259587,
                    0.355534483,
                    0.353259649,
                    1.057962963,
                    0.962016667,
                    0.9008,
                    0.900509044,
                    0.900477825,
                    0.888125,
                    0.800401961,
                    0.800161172,
                    0.799963218,
                    0.790003236,
                    0.750648148,
                    0.707111111,
                    0.700618234,
                    0.697708333,
                    0.612517157,
                    0.350301724,
                    0.350301724,
                    0.272,
                    1.004888889,
                    0.966759259,
                    0.90063244,
                    0.90047076,
                    0.90047076,
                    0.899984058,
                    0.853666667,
                    0.8008,
                    0.800401961,
                    0.796755556,
                    0.750797009,
                    0.750648148,
                    0.750356125,
                    0.703770833,
                    0.700618234,
                    0.6895,
                    0.628333333,
                    0.500801724,
                    0.393548851,
                    1.033155556,
                    1.02,
                    1.000344928,
                    1.000065789,
                    0.994375,
                    0.912037037,
                    0.87,
                    0.850364583,
                    0.800947475,
                    0.800401961,
                    0.800144144,
                    0.750406233,
                    0.714410494,
                    0.700588406,
                    0.618361111,
                    0.600070513,
                    0.54175,
                    0.536901754,
                    0.507903226,
                    1.100483918,
                    1.096633333,
                    1.000344928,
                    0.838666667,
                    0.800401961,
                    0.755486111,
                    0.750799435,
                    0.688017677,
                    0.664875,
                    0.656666667,
                    0.637711864,
                    0.601944444,
                    0.58,
                    0.535677966,
                    0.50012336,
                    0.497885057,
                    0.463403955,
                    0.441392,
                    0.350301724,
                    1.000230409,
                    0.929277778,
                    0.902916667,
                    0.800888889,
                    0.800401961,
                    0.80037492,
                    0.796208333,
                    0.750392157,
                    0.750392157,
                    0.725625,
                    0.700206125,
                    0.602,
                    0.600447507,
                    0.557252451,
                    0.500801724,
                    0.483333333,
                    0.238041667,
                    0.951944444,
                    0.945555556,
                    0.929074074,
                    0.890604167,
                    0.890604167,
                    0.884,
                    0.857916667,
                    0.850084211,
                    0.85007069,
                    0.800511068,
                    0.800401961,
                    0.800034503,
                    0.755208333,
                    0.750371895,
                    0.700422,
                    0.700106061,
                    0.601037091,
                    0.600528571,
                    0.500033898,
                    0.4509375,
                    0.441041667,
                    0.271875,
                    0.960625,
                    0.902962963,
                    0.864342593,
                    0.850446154,
                    0.850426891,
                    0.841,
                    0.800842424,
                    0.800401961,
                    0.800034503,
                    0.795416667,
                    0.7953875,
                    0.794566667,
                    0.750395513,
                    0.700516224,
                    0.700422,
                    0.6825,
                    0.650962281,
                    0.650421429,
                    0.600040678,
                    0.500610909,
                    0.477291667,
                    0.2640625,
                    0.92,
                    0.909391667,
                    0.900061017,
                    0.894444444,
                    0.881575,
                    0.880754167,
                    0.850084211,
                    0.821666667,
                    0.800401961,
                    0.800071839,
                    0.800034503,
                    0.758229167,
                    0.750608,
                    0.750395513,
                    0.741,
                    0.700505263,
                    0.700246491,
                    0.700051852,
                    0.650044068,
                    0.630402924,
                    0.560625,
                    0.560625,
                    0.39875,
                    0.922839506,
                    0.874027778,
                    0.819270833,
                    0.813309028,
                    0.812625,
                    0.800401961,
                    0.800071839,
                    0.800034503,
                    0.786631944,
                    0.75885,
                    0.750608,
                    0.750347333,
                    0.750140741,
                    0.750050847,
                    0.750050847,
                    0.700556897,
                    0.700505263,
                    0.700246491,
                    0.650596491,
                    0.628333333,
                    0.625625,
                    0.625625,
                    0.505888889,
                    0.394722222
                  ],
                  "y0": " ",
                  "yaxis": "y"
                },
                {
                  "alignmentgroup": "True",
                  "hovertemplate": "quarter=%{x}<br>actual_productivity=%{y}<extra></extra>",
                  "legendgroup": "Quarter3",
                  "marker": {
                    "color": "#00cc96"
                  },
                  "name": "Quarter3",
                  "notched": false,
                  "offsetgroup": "Quarter3",
                  "orientation": "v",
                  "showlegend": true,
                  "type": "box",
                  "x": [
                    "Quarter3",
                    "Quarter3",
                    "Quarter3",
                    "Quarter3",
                    "Quarter3",
                    "Quarter3",
                    "Quarter3",
                    "Quarter3",
                    "Quarter3",
                    "Quarter3",
                    "Quarter3",
                    "Quarter3",
                    "Quarter3",
                    "Quarter3",
                    "Quarter3",
                    "Quarter3",
                    "Quarter3",
                    "Quarter3",
                    "Quarter3",
                    "Quarter3",
                    "Quarter3",
                    "Quarter3",
                    "Quarter3",
                    "Quarter3",
                    "Quarter3",
                    "Quarter3",
                    "Quarter3",
                    "Quarter3",
                    "Quarter3",
                    "Quarter3",
                    "Quarter3",
                    "Quarter3",
                    "Quarter3",
                    "Quarter3",
                    "Quarter3",
                    "Quarter3",
                    "Quarter3",
                    "Quarter3",
                    "Quarter3",
                    "Quarter3",
                    "Quarter3",
                    "Quarter3",
                    "Quarter3",
                    "Quarter3",
                    "Quarter3",
                    "Quarter3",
                    "Quarter3",
                    "Quarter3",
                    "Quarter3",
                    "Quarter3",
                    "Quarter3",
                    "Quarter3",
                    "Quarter3",
                    "Quarter3",
                    "Quarter3",
                    "Quarter3",
                    "Quarter3",
                    "Quarter3",
                    "Quarter3",
                    "Quarter3",
                    "Quarter3",
                    "Quarter3",
                    "Quarter3",
                    "Quarter3",
                    "Quarter3",
                    "Quarter3",
                    "Quarter3",
                    "Quarter3",
                    "Quarter3",
                    "Quarter3",
                    "Quarter3",
                    "Quarter3",
                    "Quarter3",
                    "Quarter3",
                    "Quarter3",
                    "Quarter3",
                    "Quarter3",
                    "Quarter3",
                    "Quarter3",
                    "Quarter3",
                    "Quarter3",
                    "Quarter3",
                    "Quarter3",
                    "Quarter3",
                    "Quarter3",
                    "Quarter3",
                    "Quarter3",
                    "Quarter3",
                    "Quarter3",
                    "Quarter3",
                    "Quarter3",
                    "Quarter3",
                    "Quarter3",
                    "Quarter3",
                    "Quarter3",
                    "Quarter3",
                    "Quarter3",
                    "Quarter3",
                    "Quarter3",
                    "Quarter3",
                    "Quarter3",
                    "Quarter3",
                    "Quarter3",
                    "Quarter3",
                    "Quarter3",
                    "Quarter3",
                    "Quarter3",
                    "Quarter3",
                    "Quarter3",
                    "Quarter3",
                    "Quarter3",
                    "Quarter3",
                    "Quarter3",
                    "Quarter3",
                    "Quarter3",
                    "Quarter3",
                    "Quarter3",
                    "Quarter3",
                    "Quarter3",
                    "Quarter3",
                    "Quarter3",
                    "Quarter3",
                    "Quarter3",
                    "Quarter3",
                    "Quarter3",
                    "Quarter3",
                    "Quarter3",
                    "Quarter3",
                    "Quarter3",
                    "Quarter3",
                    "Quarter3",
                    "Quarter3",
                    "Quarter3",
                    "Quarter3",
                    "Quarter3",
                    "Quarter3",
                    "Quarter3",
                    "Quarter3",
                    "Quarter3",
                    "Quarter3",
                    "Quarter3",
                    "Quarter3",
                    "Quarter3",
                    "Quarter3",
                    "Quarter3",
                    "Quarter3",
                    "Quarter3",
                    "Quarter3",
                    "Quarter3",
                    "Quarter3",
                    "Quarter3",
                    "Quarter3",
                    "Quarter3",
                    "Quarter3",
                    "Quarter3",
                    "Quarter3",
                    "Quarter3",
                    "Quarter3",
                    "Quarter3",
                    "Quarter3",
                    "Quarter3",
                    "Quarter3",
                    "Quarter3",
                    "Quarter3",
                    "Quarter3",
                    "Quarter3",
                    "Quarter3",
                    "Quarter3",
                    "Quarter3",
                    "Quarter3",
                    "Quarter3",
                    "Quarter3",
                    "Quarter3",
                    "Quarter3",
                    "Quarter3",
                    "Quarter3",
                    "Quarter3",
                    "Quarter3",
                    "Quarter3",
                    "Quarter3",
                    "Quarter3",
                    "Quarter3",
                    "Quarter3",
                    "Quarter3",
                    "Quarter3",
                    "Quarter3",
                    "Quarter3",
                    "Quarter3",
                    "Quarter3",
                    "Quarter3",
                    "Quarter3",
                    "Quarter3",
                    "Quarter3",
                    "Quarter3",
                    "Quarter3",
                    "Quarter3",
                    "Quarter3",
                    "Quarter3",
                    "Quarter3",
                    "Quarter3",
                    "Quarter3",
                    "Quarter3",
                    "Quarter3",
                    "Quarter3",
                    "Quarter3",
                    "Quarter3",
                    "Quarter3",
                    "Quarter3",
                    "Quarter3",
                    "Quarter3"
                  ],
                  "x0": " ",
                  "xaxis": "x",
                  "y": [
                    0.988636364,
                    0.953110048,
                    0.884261364,
                    0.860653409,
                    0.858143939,
                    0.850502311,
                    0.850415628,
                    0.850136766,
                    0.800117103,
                    0.80003139,
                    0.80003139,
                    0.700060345,
                    0.689299242,
                    0.660683293,
                    0.650130952,
                    0.606912879,
                    0.600291767,
                    0.500025069,
                    0.499998888,
                    0.98719697,
                    0.980909091,
                    0.974621212,
                    0.884261364,
                    0.82680303,
                    0.800343766,
                    0.800246753,
                    0.800128721,
                    0.800128721,
                    0.800117103,
                    0.800117103,
                    0.77011398,
                    0.7005417,
                    0.675568182,
                    0.661837121,
                    0.650198653,
                    0.600291767,
                    0.600273268,
                    0.465757576,
                    0.452012539,
                    0.313852814,
                    0.852793561,
                    0.838383838,
                    0.804848485,
                    0.800343766,
                    0.800128721,
                    0.800128721,
                    0.800015009,
                    0.7005417,
                    0.700094156,
                    0.692045455,
                    0.662255892,
                    0.650416734,
                    0.650299575,
                    0.650243497,
                    0.639867424,
                    0.600062696,
                    0.582045455,
                    0.403242161,
                    0.235795455,
                    0.977272727,
                    0.964106061,
                    0.958901515,
                    0.800358775,
                    0.800162602,
                    0.800117103,
                    0.793844697,
                    0.750517565,
                    0.750068049,
                    0.750062751,
                    0.750057359,
                    0.700170388,
                    0.683806818,
                    0.650066445,
                    0.576460393,
                    0.549969429,
                    0.538399621,
                    0.409545455,
                    0.35021836,
                    1.033570076,
                    0.800261486,
                    0.800128721,
                    0.800117103,
                    0.750068049,
                    0.750057359,
                    0.750037968,
                    0.750031898,
                    0.72830303,
                    0.700170388,
                    0.700063796,
                    0.639867424,
                    0.500290419,
                    0.400332792,
                    0.362666667,
                    0.978525641,
                    0.912202112,
                    0.900556277,
                    0.850410511,
                    0.827147436,
                    0.800436542,
                    0.800415742,
                    0.800020563,
                    0.758173077,
                    0.750344828,
                    0.750068049,
                    0.700170388,
                    0.700029771,
                    0.60017284,
                    0.594871795,
                    0.520237649,
                    0.505128205,
                    0.500241342,
                    0.470769231,
                    1.1204375,
                    1.108125,
                    1.000230409,
                    0.876444444,
                    0.800806306,
                    0.760833333,
                    0.722568627,
                    0.715333333,
                    0.700632768,
                    0.700573099,
                    0.681598039,
                    0.650223718,
                    0.605208333,
                    0.604166667,
                    0.598627451,
                    0.475718391,
                    0.432122899,
                    0.287041667,
                    0.283054487,
                    1.000230409,
                    0.960433333,
                    0.891555556,
                    0.864583333,
                    0.802243319,
                    0.800980392,
                    0.800312375,
                    0.773333333,
                    0.75065101,
                    0.750356125,
                    0.722333333,
                    0.700459889,
                    0.629416667,
                    0.621971751,
                    0.565972222,
                    0.35542803,
                    0.329964879,
                    0.258,
                    1.000230409,
                    0.927541667,
                    0.91375,
                    0.9025,
                    0.800401961,
                    0.7866,
                    0.750621354,
                    0.750356125,
                    0.749166667,
                    0.700888203,
                    0.700614035,
                    0.700603448,
                    0.656666667,
                    0.653431373,
                    0.650134,
                    0.600982906,
                    0.586041667,
                    0.5814,
                    0.361071429,
                    0.302117347,
                    0.9918,
                    0.936861111,
                    0.919125,
                    0.8211125,
                    0.800980392,
                    0.800980392,
                    0.800401961,
                    0.800279693,
                    0.75065101,
                    0.75053268,
                    0.734645833,
                    0.700603448,
                    0.70009573,
                    0.671875,
                    0.64025,
                    0.58,
                    0.549791667,
                    0.328131579,
                    0.303574468,
                    0.2565,
                    0.251399254,
                    0.81640625,
                    0.800711494,
                    0.800470513,
                    0.800094017,
                    0.799982853,
                    0.785864198,
                    0.75065101,
                    0.733277778,
                    0.710125,
                    0.700603448,
                    0.700540441,
                    0.7,
                    0.684027778,
                    0.672135417,
                    0.638614379,
                    0.631354167,
                    0.611140537,
                    0.609583333,
                    0.585315789,
                    0.249416667
                  ],
                  "y0": " ",
                  "yaxis": "y"
                },
                {
                  "alignmentgroup": "True",
                  "hovertemplate": "quarter=%{x}<br>actual_productivity=%{y}<extra></extra>",
                  "legendgroup": "Quarter4",
                  "marker": {
                    "color": "#ab63fa"
                  },
                  "name": "Quarter4",
                  "notched": false,
                  "offsetgroup": "Quarter4",
                  "orientation": "v",
                  "showlegend": true,
                  "type": "box",
                  "x": [
                    "Quarter4",
                    "Quarter4",
                    "Quarter4",
                    "Quarter4",
                    "Quarter4",
                    "Quarter4",
                    "Quarter4",
                    "Quarter4",
                    "Quarter4",
                    "Quarter4",
                    "Quarter4",
                    "Quarter4",
                    "Quarter4",
                    "Quarter4",
                    "Quarter4",
                    "Quarter4",
                    "Quarter4",
                    "Quarter4",
                    "Quarter4",
                    "Quarter4",
                    "Quarter4",
                    "Quarter4",
                    "Quarter4",
                    "Quarter4",
                    "Quarter4",
                    "Quarter4",
                    "Quarter4",
                    "Quarter4",
                    "Quarter4",
                    "Quarter4",
                    "Quarter4",
                    "Quarter4",
                    "Quarter4",
                    "Quarter4",
                    "Quarter4",
                    "Quarter4",
                    "Quarter4",
                    "Quarter4",
                    "Quarter4",
                    "Quarter4",
                    "Quarter4",
                    "Quarter4",
                    "Quarter4",
                    "Quarter4",
                    "Quarter4",
                    "Quarter4",
                    "Quarter4",
                    "Quarter4",
                    "Quarter4",
                    "Quarter4",
                    "Quarter4",
                    "Quarter4",
                    "Quarter4",
                    "Quarter4",
                    "Quarter4",
                    "Quarter4",
                    "Quarter4",
                    "Quarter4",
                    "Quarter4",
                    "Quarter4",
                    "Quarter4",
                    "Quarter4",
                    "Quarter4",
                    "Quarter4",
                    "Quarter4",
                    "Quarter4",
                    "Quarter4",
                    "Quarter4",
                    "Quarter4",
                    "Quarter4",
                    "Quarter4",
                    "Quarter4",
                    "Quarter4",
                    "Quarter4",
                    "Quarter4",
                    "Quarter4",
                    "Quarter4",
                    "Quarter4",
                    "Quarter4",
                    "Quarter4",
                    "Quarter4",
                    "Quarter4",
                    "Quarter4",
                    "Quarter4",
                    "Quarter4",
                    "Quarter4",
                    "Quarter4",
                    "Quarter4",
                    "Quarter4",
                    "Quarter4",
                    "Quarter4",
                    "Quarter4",
                    "Quarter4",
                    "Quarter4",
                    "Quarter4",
                    "Quarter4",
                    "Quarter4",
                    "Quarter4",
                    "Quarter4",
                    "Quarter4",
                    "Quarter4",
                    "Quarter4",
                    "Quarter4",
                    "Quarter4",
                    "Quarter4",
                    "Quarter4",
                    "Quarter4",
                    "Quarter4",
                    "Quarter4",
                    "Quarter4",
                    "Quarter4",
                    "Quarter4",
                    "Quarter4",
                    "Quarter4",
                    "Quarter4",
                    "Quarter4",
                    "Quarter4",
                    "Quarter4",
                    "Quarter4",
                    "Quarter4",
                    "Quarter4",
                    "Quarter4",
                    "Quarter4",
                    "Quarter4",
                    "Quarter4",
                    "Quarter4",
                    "Quarter4",
                    "Quarter4",
                    "Quarter4",
                    "Quarter4",
                    "Quarter4",
                    "Quarter4",
                    "Quarter4",
                    "Quarter4",
                    "Quarter4",
                    "Quarter4",
                    "Quarter4",
                    "Quarter4",
                    "Quarter4",
                    "Quarter4",
                    "Quarter4",
                    "Quarter4",
                    "Quarter4",
                    "Quarter4",
                    "Quarter4",
                    "Quarter4",
                    "Quarter4",
                    "Quarter4",
                    "Quarter4",
                    "Quarter4",
                    "Quarter4",
                    "Quarter4",
                    "Quarter4",
                    "Quarter4",
                    "Quarter4",
                    "Quarter4",
                    "Quarter4",
                    "Quarter4",
                    "Quarter4",
                    "Quarter4",
                    "Quarter4",
                    "Quarter4",
                    "Quarter4",
                    "Quarter4",
                    "Quarter4",
                    "Quarter4",
                    "Quarter4",
                    "Quarter4",
                    "Quarter4",
                    "Quarter4",
                    "Quarter4",
                    "Quarter4",
                    "Quarter4",
                    "Quarter4",
                    "Quarter4",
                    "Quarter4",
                    "Quarter4",
                    "Quarter4",
                    "Quarter4",
                    "Quarter4",
                    "Quarter4",
                    "Quarter4",
                    "Quarter4",
                    "Quarter4",
                    "Quarter4",
                    "Quarter4",
                    "Quarter4",
                    "Quarter4",
                    "Quarter4",
                    "Quarter4",
                    "Quarter4",
                    "Quarter4",
                    "Quarter4",
                    "Quarter4",
                    "Quarter4",
                    "Quarter4",
                    "Quarter4",
                    "Quarter4",
                    "Quarter4",
                    "Quarter4",
                    "Quarter4",
                    "Quarter4",
                    "Quarter4",
                    "Quarter4",
                    "Quarter4",
                    "Quarter4",
                    "Quarter4",
                    "Quarter4",
                    "Quarter4",
                    "Quarter4",
                    "Quarter4",
                    "Quarter4",
                    "Quarter4",
                    "Quarter4",
                    "Quarter4",
                    "Quarter4",
                    "Quarter4",
                    "Quarter4",
                    "Quarter4",
                    "Quarter4",
                    "Quarter4",
                    "Quarter4",
                    "Quarter4",
                    "Quarter4",
                    "Quarter4",
                    "Quarter4",
                    "Quarter4",
                    "Quarter4",
                    "Quarter4",
                    "Quarter4",
                    "Quarter4",
                    "Quarter4",
                    "Quarter4",
                    "Quarter4",
                    "Quarter4",
                    "Quarter4",
                    "Quarter4",
                    "Quarter4",
                    "Quarter4",
                    "Quarter4",
                    "Quarter4",
                    "Quarter4",
                    "Quarter4",
                    "Quarter4",
                    "Quarter4",
                    "Quarter4",
                    "Quarter4",
                    "Quarter4"
                  ],
                  "x0": " ",
                  "xaxis": "x",
                  "y": [
                    0.957638889,
                    0.940701058,
                    0.849983766,
                    0.800302791,
                    0.800191989,
                    0.800020563,
                    0.750162367,
                    0.750068049,
                    0.742901235,
                    0.700250784,
                    0.700170388,
                    0.670216049,
                    0.649662222,
                    0.649662222,
                    0.626822917,
                    0.600436426,
                    0.60041361,
                    0.555500132,
                    0.500547544,
                    0.460578704,
                    0.397743056,
                    0.327407407,
                    0.966666667,
                    0.937242424,
                    0.910521886,
                    0.90064806,
                    0.900321106,
                    0.896022727,
                    0.895454545,
                    0.870580808,
                    0.858585859,
                    0.800643806,
                    0.80062987,
                    0.800537143,
                    0.80035194,
                    0.750079323,
                    0.750041201,
                    0.700250784,
                    0.651515152,
                    0.650416734,
                    0.600125217,
                    0.578314394,
                    0.578314394,
                    0.34998951,
                    0.261174242,
                    0.973796791,
                    0.970075758,
                    0.970075758,
                    0.961784512,
                    0.955151515,
                    0.952020202,
                    0.900321106,
                    0.850223776,
                    0.800909609,
                    0.800513307,
                    0.800386364,
                    0.800020563,
                    0.749188312,
                    0.7005417,
                    0.70043672,
                    0.700250784,
                    0.650407524,
                    0.618181818,
                    0.59114168,
                    0.500061916,
                    0.329545455,
                    1.059621212,
                    0.997792208,
                    0.963699495,
                    0.959191919,
                    0.910378788,
                    0.910378788,
                    0.850312684,
                    0.800386364,
                    0.80035194,
                    0.800034024,
                    0.800023511,
                    0.800020563,
                    0.769292929,
                    0.750031447,
                    0.70061442,
                    0.70043672,
                    0.646306818,
                    0.600143365,
                    0.350066986,
                    1.000230409,
                    1.000230409,
                    0.979527778,
                    0.940625,
                    0.926388889,
                    0.900129762,
                    0.861875,
                    0.850312684,
                    0.845458333,
                    0.823555556,
                    0.803541667,
                    0.800263218,
                    0.788,
                    0.77815,
                    0.700386207,
                    0.700164706,
                    0.650307143,
                    0.622828125,
                    0.6225,
                    0.500035345,
                    0.37046657,
                    1.000230409,
                    1.000230409,
                    0.977555556,
                    0.9456,
                    0.902222222,
                    0.850532143,
                    0.850362069,
                    0.840533333,
                    0.800534483,
                    0.800489676,
                    0.755555556,
                    0.750593103,
                    0.750283333,
                    0.722638889,
                    0.553333333,
                    0.500567308,
                    0.467693269,
                    0.437995338,
                    0.406354167,
                    0.285333333,
                    0.259375,
                    0.8721,
                    0.8319375,
                    0.8300625,
                    0.805555556,
                    0.800401961,
                    0.80000295,
                    0.78375,
                    0.753525,
                    0.75065101,
                    0.727349537,
                    0.700614035,
                    0.700605263,
                    0.672140805,
                    0.627011183,
                    0.626577778,
                    0.456875,
                    0.393548851,
                    0.385791667,
                    0.307501459,
                    0.283958333,
                    0.955791667,
                    0.930416667,
                    0.9025,
                    0.87115,
                    0.800401961,
                    0.800137255,
                    0.800137255,
                    0.750770115,
                    0.75065101,
                    0.750293939,
                    0.700623,
                    0.700614035,
                    0.700362069,
                    0.60128,
                    0.417916667,
                    0.3715625,
                    0.3715625,
                    0.36871875,
                    0.356458333,
                    0.902222222,
                    0.811388889,
                    0.800401961,
                    0.800137255,
                    0.800071839,
                    0.791458333,
                    0.750727326,
                    0.75065101,
                    0.750437269,
                    0.750176991,
                    0.726933333,
                    0.726933333,
                    0.700623,
                    0.700518519,
                    0.700256795,
                    0.5046875,
                    0.471108491,
                    0.325,
                    0.268214286,
                    0.970816667,
                    0.902962963,
                    0.900833333,
                    0.899555556,
                    0.845833333,
                    0.800808642,
                    0.800401961,
                    0.800115819,
                    0.75065101,
                    0.750503571,
                    0.750206897,
                    0.700362069,
                    0.700069811,
                    0.700058333,
                    0.676666667,
                    0.658541667,
                    0.598792339,
                    0.581130952,
                    0.440375,
                    0.410833333,
                    0.410833333,
                    0.921703704,
                    0.921604938,
                    0.800808642,
                    0.800516667,
                    0.800401961,
                    0.768847222,
                    0.75065101,
                    0.750473684,
                    0.750371895,
                    0.750206897,
                    0.700251773,
                    0.66237931,
                    0.590617284,
                    0.5565625,
                    0.495617514,
                    0.449964912,
                    0.410833333,
                    0.4078125,
                    0.378895152,
                    0.376597222,
                    0.271875,
                    0.921703704,
                    0.921604938,
                    0.800779018,
                    0.800260821,
                    0.799982853,
                    0.768847222,
                    0.750716981,
                    0.75065101,
                    0.750425926,
                    0.750395513,
                    0.700236601,
                    0.700211111,
                    0.590617284,
                    0.5565625,
                    0.550403509,
                    0.550349708,
                    0.500258046,
                    0.410833333,
                    0.4078125,
                    0.376597222,
                    0.271875
                  ],
                  "y0": " ",
                  "yaxis": "y"
                },
                {
                  "alignmentgroup": "True",
                  "hovertemplate": "quarter=%{x}<br>actual_productivity=%{y}<extra></extra>",
                  "legendgroup": "Quarter5",
                  "marker": {
                    "color": "#FFA15A"
                  },
                  "name": "Quarter5",
                  "notched": false,
                  "offsetgroup": "Quarter5",
                  "orientation": "v",
                  "showlegend": true,
                  "type": "box",
                  "x": [
                    "Quarter5",
                    "Quarter5",
                    "Quarter5",
                    "Quarter5",
                    "Quarter5",
                    "Quarter5",
                    "Quarter5",
                    "Quarter5",
                    "Quarter5",
                    "Quarter5",
                    "Quarter5",
                    "Quarter5",
                    "Quarter5",
                    "Quarter5",
                    "Quarter5",
                    "Quarter5",
                    "Quarter5",
                    "Quarter5",
                    "Quarter5",
                    "Quarter5",
                    "Quarter5",
                    "Quarter5",
                    "Quarter5",
                    "Quarter5",
                    "Quarter5",
                    "Quarter5",
                    "Quarter5",
                    "Quarter5",
                    "Quarter5",
                    "Quarter5",
                    "Quarter5",
                    "Quarter5",
                    "Quarter5",
                    "Quarter5",
                    "Quarter5",
                    "Quarter5",
                    "Quarter5",
                    "Quarter5",
                    "Quarter5",
                    "Quarter5",
                    "Quarter5",
                    "Quarter5",
                    "Quarter5",
                    "Quarter5"
                  ],
                  "x0": " ",
                  "xaxis": "x",
                  "y": [
                    1.000230409,
                    0.989,
                    0.950185965,
                    0.9008,
                    0.900129762,
                    0.899,
                    0.877552083,
                    0.864583333,
                    0.85695,
                    0.853666667,
                    0.850362069,
                    0.850170115,
                    0.800473729,
                    0.773333333,
                    0.750646667,
                    0.634666667,
                    0.60059761,
                    0.500117677,
                    0.4925,
                    0.48792,
                    1.000457471,
                    1.000230409,
                    0.971866667,
                    0.971866667,
                    0.971866667,
                    0.971866667,
                    0.971866667,
                    0.971866667,
                    0.971866667,
                    0.971866667,
                    0.971866667,
                    0.971866667,
                    0.971866667,
                    0.971866667,
                    0.920236905,
                    0.900537069,
                    0.850610526,
                    0.850362069,
                    0.750646667,
                    0.656763743,
                    0.650148148,
                    0.600710606,
                    0.388830357,
                    0.286984568
                  ],
                  "y0": " ",
                  "yaxis": "y"
                }
              ],
              "layout": {
                "boxmode": "overlay",
                "legend": {
                  "title": {
                    "text": "quarter"
                  },
                  "tracegroupgap": 0
                },
                "template": {
                  "data": {
                    "bar": [
                      {
                        "error_x": {
                          "color": "#2a3f5f"
                        },
                        "error_y": {
                          "color": "#2a3f5f"
                        },
                        "marker": {
                          "line": {
                            "color": "#E5ECF6",
                            "width": 0.5
                          },
                          "pattern": {
                            "fillmode": "overlay",
                            "size": 10,
                            "solidity": 0.2
                          }
                        },
                        "type": "bar"
                      }
                    ],
                    "barpolar": [
                      {
                        "marker": {
                          "line": {
                            "color": "#E5ECF6",
                            "width": 0.5
                          },
                          "pattern": {
                            "fillmode": "overlay",
                            "size": 10,
                            "solidity": 0.2
                          }
                        },
                        "type": "barpolar"
                      }
                    ],
                    "carpet": [
                      {
                        "aaxis": {
                          "endlinecolor": "#2a3f5f",
                          "gridcolor": "white",
                          "linecolor": "white",
                          "minorgridcolor": "white",
                          "startlinecolor": "#2a3f5f"
                        },
                        "baxis": {
                          "endlinecolor": "#2a3f5f",
                          "gridcolor": "white",
                          "linecolor": "white",
                          "minorgridcolor": "white",
                          "startlinecolor": "#2a3f5f"
                        },
                        "type": "carpet"
                      }
                    ],
                    "choropleth": [
                      {
                        "colorbar": {
                          "outlinewidth": 0,
                          "ticks": ""
                        },
                        "type": "choropleth"
                      }
                    ],
                    "contour": [
                      {
                        "colorbar": {
                          "outlinewidth": 0,
                          "ticks": ""
                        },
                        "colorscale": [
                          [
                            0,
                            "#0d0887"
                          ],
                          [
                            0.1111111111111111,
                            "#46039f"
                          ],
                          [
                            0.2222222222222222,
                            "#7201a8"
                          ],
                          [
                            0.3333333333333333,
                            "#9c179e"
                          ],
                          [
                            0.4444444444444444,
                            "#bd3786"
                          ],
                          [
                            0.5555555555555556,
                            "#d8576b"
                          ],
                          [
                            0.6666666666666666,
                            "#ed7953"
                          ],
                          [
                            0.7777777777777778,
                            "#fb9f3a"
                          ],
                          [
                            0.8888888888888888,
                            "#fdca26"
                          ],
                          [
                            1,
                            "#f0f921"
                          ]
                        ],
                        "type": "contour"
                      }
                    ],
                    "contourcarpet": [
                      {
                        "colorbar": {
                          "outlinewidth": 0,
                          "ticks": ""
                        },
                        "type": "contourcarpet"
                      }
                    ],
                    "heatmap": [
                      {
                        "colorbar": {
                          "outlinewidth": 0,
                          "ticks": ""
                        },
                        "colorscale": [
                          [
                            0,
                            "#0d0887"
                          ],
                          [
                            0.1111111111111111,
                            "#46039f"
                          ],
                          [
                            0.2222222222222222,
                            "#7201a8"
                          ],
                          [
                            0.3333333333333333,
                            "#9c179e"
                          ],
                          [
                            0.4444444444444444,
                            "#bd3786"
                          ],
                          [
                            0.5555555555555556,
                            "#d8576b"
                          ],
                          [
                            0.6666666666666666,
                            "#ed7953"
                          ],
                          [
                            0.7777777777777778,
                            "#fb9f3a"
                          ],
                          [
                            0.8888888888888888,
                            "#fdca26"
                          ],
                          [
                            1,
                            "#f0f921"
                          ]
                        ],
                        "type": "heatmap"
                      }
                    ],
                    "heatmapgl": [
                      {
                        "colorbar": {
                          "outlinewidth": 0,
                          "ticks": ""
                        },
                        "colorscale": [
                          [
                            0,
                            "#0d0887"
                          ],
                          [
                            0.1111111111111111,
                            "#46039f"
                          ],
                          [
                            0.2222222222222222,
                            "#7201a8"
                          ],
                          [
                            0.3333333333333333,
                            "#9c179e"
                          ],
                          [
                            0.4444444444444444,
                            "#bd3786"
                          ],
                          [
                            0.5555555555555556,
                            "#d8576b"
                          ],
                          [
                            0.6666666666666666,
                            "#ed7953"
                          ],
                          [
                            0.7777777777777778,
                            "#fb9f3a"
                          ],
                          [
                            0.8888888888888888,
                            "#fdca26"
                          ],
                          [
                            1,
                            "#f0f921"
                          ]
                        ],
                        "type": "heatmapgl"
                      }
                    ],
                    "histogram": [
                      {
                        "marker": {
                          "pattern": {
                            "fillmode": "overlay",
                            "size": 10,
                            "solidity": 0.2
                          }
                        },
                        "type": "histogram"
                      }
                    ],
                    "histogram2d": [
                      {
                        "colorbar": {
                          "outlinewidth": 0,
                          "ticks": ""
                        },
                        "colorscale": [
                          [
                            0,
                            "#0d0887"
                          ],
                          [
                            0.1111111111111111,
                            "#46039f"
                          ],
                          [
                            0.2222222222222222,
                            "#7201a8"
                          ],
                          [
                            0.3333333333333333,
                            "#9c179e"
                          ],
                          [
                            0.4444444444444444,
                            "#bd3786"
                          ],
                          [
                            0.5555555555555556,
                            "#d8576b"
                          ],
                          [
                            0.6666666666666666,
                            "#ed7953"
                          ],
                          [
                            0.7777777777777778,
                            "#fb9f3a"
                          ],
                          [
                            0.8888888888888888,
                            "#fdca26"
                          ],
                          [
                            1,
                            "#f0f921"
                          ]
                        ],
                        "type": "histogram2d"
                      }
                    ],
                    "histogram2dcontour": [
                      {
                        "colorbar": {
                          "outlinewidth": 0,
                          "ticks": ""
                        },
                        "colorscale": [
                          [
                            0,
                            "#0d0887"
                          ],
                          [
                            0.1111111111111111,
                            "#46039f"
                          ],
                          [
                            0.2222222222222222,
                            "#7201a8"
                          ],
                          [
                            0.3333333333333333,
                            "#9c179e"
                          ],
                          [
                            0.4444444444444444,
                            "#bd3786"
                          ],
                          [
                            0.5555555555555556,
                            "#d8576b"
                          ],
                          [
                            0.6666666666666666,
                            "#ed7953"
                          ],
                          [
                            0.7777777777777778,
                            "#fb9f3a"
                          ],
                          [
                            0.8888888888888888,
                            "#fdca26"
                          ],
                          [
                            1,
                            "#f0f921"
                          ]
                        ],
                        "type": "histogram2dcontour"
                      }
                    ],
                    "mesh3d": [
                      {
                        "colorbar": {
                          "outlinewidth": 0,
                          "ticks": ""
                        },
                        "type": "mesh3d"
                      }
                    ],
                    "parcoords": [
                      {
                        "line": {
                          "colorbar": {
                            "outlinewidth": 0,
                            "ticks": ""
                          }
                        },
                        "type": "parcoords"
                      }
                    ],
                    "pie": [
                      {
                        "automargin": true,
                        "type": "pie"
                      }
                    ],
                    "scatter": [
                      {
                        "fillpattern": {
                          "fillmode": "overlay",
                          "size": 10,
                          "solidity": 0.2
                        },
                        "type": "scatter"
                      }
                    ],
                    "scatter3d": [
                      {
                        "line": {
                          "colorbar": {
                            "outlinewidth": 0,
                            "ticks": ""
                          }
                        },
                        "marker": {
                          "colorbar": {
                            "outlinewidth": 0,
                            "ticks": ""
                          }
                        },
                        "type": "scatter3d"
                      }
                    ],
                    "scattercarpet": [
                      {
                        "marker": {
                          "colorbar": {
                            "outlinewidth": 0,
                            "ticks": ""
                          }
                        },
                        "type": "scattercarpet"
                      }
                    ],
                    "scattergeo": [
                      {
                        "marker": {
                          "colorbar": {
                            "outlinewidth": 0,
                            "ticks": ""
                          }
                        },
                        "type": "scattergeo"
                      }
                    ],
                    "scattergl": [
                      {
                        "marker": {
                          "colorbar": {
                            "outlinewidth": 0,
                            "ticks": ""
                          }
                        },
                        "type": "scattergl"
                      }
                    ],
                    "scattermapbox": [
                      {
                        "marker": {
                          "colorbar": {
                            "outlinewidth": 0,
                            "ticks": ""
                          }
                        },
                        "type": "scattermapbox"
                      }
                    ],
                    "scatterpolar": [
                      {
                        "marker": {
                          "colorbar": {
                            "outlinewidth": 0,
                            "ticks": ""
                          }
                        },
                        "type": "scatterpolar"
                      }
                    ],
                    "scatterpolargl": [
                      {
                        "marker": {
                          "colorbar": {
                            "outlinewidth": 0,
                            "ticks": ""
                          }
                        },
                        "type": "scatterpolargl"
                      }
                    ],
                    "scatterternary": [
                      {
                        "marker": {
                          "colorbar": {
                            "outlinewidth": 0,
                            "ticks": ""
                          }
                        },
                        "type": "scatterternary"
                      }
                    ],
                    "surface": [
                      {
                        "colorbar": {
                          "outlinewidth": 0,
                          "ticks": ""
                        },
                        "colorscale": [
                          [
                            0,
                            "#0d0887"
                          ],
                          [
                            0.1111111111111111,
                            "#46039f"
                          ],
                          [
                            0.2222222222222222,
                            "#7201a8"
                          ],
                          [
                            0.3333333333333333,
                            "#9c179e"
                          ],
                          [
                            0.4444444444444444,
                            "#bd3786"
                          ],
                          [
                            0.5555555555555556,
                            "#d8576b"
                          ],
                          [
                            0.6666666666666666,
                            "#ed7953"
                          ],
                          [
                            0.7777777777777778,
                            "#fb9f3a"
                          ],
                          [
                            0.8888888888888888,
                            "#fdca26"
                          ],
                          [
                            1,
                            "#f0f921"
                          ]
                        ],
                        "type": "surface"
                      }
                    ],
                    "table": [
                      {
                        "cells": {
                          "fill": {
                            "color": "#EBF0F8"
                          },
                          "line": {
                            "color": "white"
                          }
                        },
                        "header": {
                          "fill": {
                            "color": "#C8D4E3"
                          },
                          "line": {
                            "color": "white"
                          }
                        },
                        "type": "table"
                      }
                    ]
                  },
                  "layout": {
                    "annotationdefaults": {
                      "arrowcolor": "#2a3f5f",
                      "arrowhead": 0,
                      "arrowwidth": 1
                    },
                    "autotypenumbers": "strict",
                    "coloraxis": {
                      "colorbar": {
                        "outlinewidth": 0,
                        "ticks": ""
                      }
                    },
                    "colorscale": {
                      "diverging": [
                        [
                          0,
                          "#8e0152"
                        ],
                        [
                          0.1,
                          "#c51b7d"
                        ],
                        [
                          0.2,
                          "#de77ae"
                        ],
                        [
                          0.3,
                          "#f1b6da"
                        ],
                        [
                          0.4,
                          "#fde0ef"
                        ],
                        [
                          0.5,
                          "#f7f7f7"
                        ],
                        [
                          0.6,
                          "#e6f5d0"
                        ],
                        [
                          0.7,
                          "#b8e186"
                        ],
                        [
                          0.8,
                          "#7fbc41"
                        ],
                        [
                          0.9,
                          "#4d9221"
                        ],
                        [
                          1,
                          "#276419"
                        ]
                      ],
                      "sequential": [
                        [
                          0,
                          "#0d0887"
                        ],
                        [
                          0.1111111111111111,
                          "#46039f"
                        ],
                        [
                          0.2222222222222222,
                          "#7201a8"
                        ],
                        [
                          0.3333333333333333,
                          "#9c179e"
                        ],
                        [
                          0.4444444444444444,
                          "#bd3786"
                        ],
                        [
                          0.5555555555555556,
                          "#d8576b"
                        ],
                        [
                          0.6666666666666666,
                          "#ed7953"
                        ],
                        [
                          0.7777777777777778,
                          "#fb9f3a"
                        ],
                        [
                          0.8888888888888888,
                          "#fdca26"
                        ],
                        [
                          1,
                          "#f0f921"
                        ]
                      ],
                      "sequentialminus": [
                        [
                          0,
                          "#0d0887"
                        ],
                        [
                          0.1111111111111111,
                          "#46039f"
                        ],
                        [
                          0.2222222222222222,
                          "#7201a8"
                        ],
                        [
                          0.3333333333333333,
                          "#9c179e"
                        ],
                        [
                          0.4444444444444444,
                          "#bd3786"
                        ],
                        [
                          0.5555555555555556,
                          "#d8576b"
                        ],
                        [
                          0.6666666666666666,
                          "#ed7953"
                        ],
                        [
                          0.7777777777777778,
                          "#fb9f3a"
                        ],
                        [
                          0.8888888888888888,
                          "#fdca26"
                        ],
                        [
                          1,
                          "#f0f921"
                        ]
                      ]
                    },
                    "colorway": [
                      "#636efa",
                      "#EF553B",
                      "#00cc96",
                      "#ab63fa",
                      "#FFA15A",
                      "#19d3f3",
                      "#FF6692",
                      "#B6E880",
                      "#FF97FF",
                      "#FECB52"
                    ],
                    "font": {
                      "color": "#2a3f5f"
                    },
                    "geo": {
                      "bgcolor": "white",
                      "lakecolor": "white",
                      "landcolor": "#E5ECF6",
                      "showlakes": true,
                      "showland": true,
                      "subunitcolor": "white"
                    },
                    "hoverlabel": {
                      "align": "left"
                    },
                    "hovermode": "closest",
                    "mapbox": {
                      "style": "light"
                    },
                    "paper_bgcolor": "white",
                    "plot_bgcolor": "#E5ECF6",
                    "polar": {
                      "angularaxis": {
                        "gridcolor": "white",
                        "linecolor": "white",
                        "ticks": ""
                      },
                      "bgcolor": "#E5ECF6",
                      "radialaxis": {
                        "gridcolor": "white",
                        "linecolor": "white",
                        "ticks": ""
                      }
                    },
                    "scene": {
                      "xaxis": {
                        "backgroundcolor": "#E5ECF6",
                        "gridcolor": "white",
                        "gridwidth": 2,
                        "linecolor": "white",
                        "showbackground": true,
                        "ticks": "",
                        "zerolinecolor": "white"
                      },
                      "yaxis": {
                        "backgroundcolor": "#E5ECF6",
                        "gridcolor": "white",
                        "gridwidth": 2,
                        "linecolor": "white",
                        "showbackground": true,
                        "ticks": "",
                        "zerolinecolor": "white"
                      },
                      "zaxis": {
                        "backgroundcolor": "#E5ECF6",
                        "gridcolor": "white",
                        "gridwidth": 2,
                        "linecolor": "white",
                        "showbackground": true,
                        "ticks": "",
                        "zerolinecolor": "white"
                      }
                    },
                    "shapedefaults": {
                      "line": {
                        "color": "#2a3f5f"
                      }
                    },
                    "ternary": {
                      "aaxis": {
                        "gridcolor": "white",
                        "linecolor": "white",
                        "ticks": ""
                      },
                      "baxis": {
                        "gridcolor": "white",
                        "linecolor": "white",
                        "ticks": ""
                      },
                      "bgcolor": "#E5ECF6",
                      "caxis": {
                        "gridcolor": "white",
                        "linecolor": "white",
                        "ticks": ""
                      }
                    },
                    "title": {
                      "x": 0.05
                    },
                    "xaxis": {
                      "automargin": true,
                      "gridcolor": "white",
                      "linecolor": "white",
                      "ticks": "",
                      "title": {
                        "standoff": 15
                      },
                      "zerolinecolor": "white",
                      "zerolinewidth": 2
                    },
                    "yaxis": {
                      "automargin": true,
                      "gridcolor": "white",
                      "linecolor": "white",
                      "ticks": "",
                      "title": {
                        "standoff": 15
                      },
                      "zerolinecolor": "white",
                      "zerolinewidth": 2
                    }
                  }
                },
                "title": {
                  "text": "Boxplot of Productivity by Quarter"
                },
                "xaxis": {
                  "anchor": "y",
                  "categoryarray": [
                    "Quarter1",
                    "Quarter2",
                    "Quarter3",
                    "Quarter4",
                    "Quarter5"
                  ],
                  "categoryorder": "array",
                  "domain": [
                    0,
                    1
                  ],
                  "title": {
                    "text": "quarter"
                  }
                },
                "yaxis": {
                  "anchor": "x",
                  "domain": [
                    0,
                    1
                  ],
                  "title": {
                    "text": "actual_productivity"
                  }
                }
              }
            }
          },
          "metadata": {},
          "output_type": "display_data"
        }
      ],
      "source": [
        "\n",
        "# ===========================================================\n",
        "# 7. Interactive plots for productivity variations\n",
        "# ===========================================================\n",
        "# Histogram by working day\n",
        "fig = px.histogram(df, x='actual_productivity', color='day', barmode='overlay',\n",
        "                   title=\"Productivity Distribution by Day\")\n",
        "fig.show()\n",
        "\n",
        "# Boxplot by team size\n",
        "fig = px.box(df, x='no_of_workers', y='actual_productivity',\n",
        "             title=\"Boxplot of Productivity vs Team Size\")\n",
        "fig.show()\n",
        "\n",
        "# Boxplot by quarter\n",
        "fig = px.box(df, x='quarter', y='actual_productivity', color='quarter',\n",
        "             title=\"Boxplot of Productivity by Quarter\")\n",
        "fig.show()\n"
      ]
    },
    {
      "cell_type": "code",
      "execution_count": 12,
      "id": "440f95bc",
      "metadata": {},
      "outputs": [
        {
          "data": {
            "image/png": "[encoded data removed]",
            "text/plain": [
              "<Figure size 1000x600 with 2 Axes>"
            ]
          },
          "metadata": {},
          "output_type": "display_data"
        },
        {
          "data": {
            "application/vnd.plotly.v1+json": {
              "config": {
                "plotlyServerURL": "https://plot.ly"
              },
              "data": [
                {
                  "coloraxis": "coloraxis",
                  "hovertemplate": "x: %{x}<br>y: %{y}<br>color: %{z}<extra></extra>",
                  "name": "0",
                  "texttemplate": "%{z}",
                  "type": "heatmap",
                  "x": [
                    "team",
                    "targeted_productivity",
                    "smv",
                    "wip",
                    "over_time",
                    "incentive",
                    "idle_time",
                    "idle_men",
                    "no_of_style_change",
                    "no_of_workers",
                    "actual_productivity"
                  ],
                  "xaxis": "x",
                  "y": [
                    "team",
                    "targeted_productivity",
                    "smv",
                    "wip",
                    "over_time",
                    "incentive",
                    "idle_time",
                    "idle_men",
                    "no_of_style_change",
                    "no_of_workers",
                    "actual_productivity"
                  ],
                  "yaxis": "y",
                  "z": [
                    [
                      1,
                      0.03027434635793722,
                      -0.1100107401855783,
                      -0.03347417612327269,
                      -0.09673688634778395,
                      -0.007673930397195819,
                      0.0037961814545830782,
                      0.02697390320958673,
                      -0.011194222345385781,
                      -0.0751133889735822,
                      -0.14875331064277716
                    ],
                    [
                      0.03027434635793722,
                      1,
                      -0.06948887331582076,
                      0.06205373214056933,
                      -0.08855669326220127,
                      0.03276790269620296,
                      -0.05618089689264434,
                      -0.05381806337373794,
                      -0.20929411545488896,
                      -0.08428786528503608,
                      0.4215938837001512
                    ],
                    [
                      -0.1100107401855783,
                      -0.06948887331582076,
                      1,
                      -0.03783743222052029,
                      0.6748874395933928,
                      0.03262885583622,
                      0.05686278365439405,
                      0.10590069006477823,
                      0.31538751215075284,
                      0.9121763124916753,
                      -0.122088840725582
                    ],
                    [
                      -0.03347417612327269,
                      0.06205373214056933,
                      -0.03783743222052029,
                      1,
                      0.022302168311881726,
                      0.16721023818875513,
                      -0.026299321883695662,
                      -0.04871789297224308,
                      -0.07235695326055815,
                      0.030383462627428772,
                      0.13114681991684482
                    ],
                    [
                      -0.09673688634778395,
                      -0.08855669326220127,
                      0.6748874395933928,
                      0.022302168311881726,
                      1,
                      -0.004793251624663234,
                      0.031037596029320394,
                      -0.017913297354771648,
                      0.059790121218498804,
                      0.7341641744474344,
                      -0.054205837140021924
                    ],
                    [
                      -0.007673930397195819,
                      0.03276790269620296,
                      0.03262885583622,
                      0.16721023818875513,
                      -0.004793251624663234,
                      1,
                      -0.012023621339270915,
                      -0.021139613260618584,
                      -0.026607171538861007,
                      0.04922221798732539,
                      0.07653762727386527
                    ],
                    [
                      0.0037961814545830782,
                      -0.05618089689264434,
                      0.05686278365439405,
                      -0.026299321883695662,
                      0.031037596029320394,
                      -0.012023621339270915,
                      1,
                      0.5591459152184026,
                      -0.011597866663012948,
                      0.058049299980028904,
                      -0.08085080966234447
                    ],
                    [
                      0.02697390320958673,
                      -0.05381806337373794,
                      0.10590069006477823,
                      -0.04871789297224308,
                      -0.017913297354771648,
                      -0.021139613260618584,
                      0.5591459152184026,
                      1,
                      0.13363169943000308,
                      0.10694570752330487,
                      -0.18173432643347628
                    ],
                    [
                      -0.011194222345385781,
                      -0.20929411545488896,
                      0.31538751215075284,
                      -0.07235695326055815,
                      0.059790121218498804,
                      -0.026607171538861007,
                      -0.011597866663012948,
                      0.13363169943000308,
                      1,
                      0.3277865207811511,
                      -0.20736560728146416
                    ],
                    [
                      -0.0751133889735822,
                      -0.08428786528503608,
                      0.9121763124916753,
                      0.030383462627428772,
                      0.7341641744474344,
                      0.04922221798732539,
                      0.058049299980028904,
                      0.10694570752330487,
                      0.3277865207811511,
                      1,
                      -0.05799059224354564
                    ],
                    [
                      -0.14875331064277716,
                      0.4215938837001512,
                      -0.122088840725582,
                      0.13114681991684482,
                      -0.054205837140021924,
                      0.07653762727386527,
                      -0.08085080966234447,
                      -0.18173432643347628,
                      -0.20736560728146416,
                      -0.05799059224354564,
                      1
                    ]
                  ]
                }
              ],
              "layout": {
                "coloraxis": {
                  "colorscale": [
                    [
                      0,
                      "#0d0887"
                    ],
                    [
                      0.1111111111111111,
                      "#46039f"
                    ],
                    [
                      0.2222222222222222,
                      "#7201a8"
                    ],
                    [
                      0.3333333333333333,
                      "#9c179e"
                    ],
                    [
                      0.4444444444444444,
                      "#bd3786"
                    ],
                    [
                      0.5555555555555556,
                      "#d8576b"
                    ],
                    [
                      0.6666666666666666,
                      "#ed7953"
                    ],
                    [
                      0.7777777777777778,
                      "#fb9f3a"
                    ],
                    [
                      0.8888888888888888,
                      "#fdca26"
                    ],
                    [
                      1,
                      "#f0f921"
                    ]
                  ]
                },
                "template": {
                  "data": {
                    "bar": [
                      {
                        "error_x": {
                          "color": "#2a3f5f"
                        },
                        "error_y": {
                          "color": "#2a3f5f"
                        },
                        "marker": {
                          "line": {
                            "color": "#E5ECF6",
                            "width": 0.5
                          },
                          "pattern": {
                            "fillmode": "overlay",
                            "size": 10,
                            "solidity": 0.2
                          }
                        },
                        "type": "bar"
                      }
                    ],
                    "barpolar": [
                      {
                        "marker": {
                          "line": {
                            "color": "#E5ECF6",
                            "width": 0.5
                          },
                          "pattern": {
                            "fillmode": "overlay",
                            "size": 10,
                            "solidity": 0.2
                          }
                        },
                        "type": "barpolar"
                      }
                    ],
                    "carpet": [
                      {
                        "aaxis": {
                          "endlinecolor": "#2a3f5f",
                          "gridcolor": "white",
                          "linecolor": "white",
                          "minorgridcolor": "white",
                          "startlinecolor": "#2a3f5f"
                        },
                        "baxis": {
                          "endlinecolor": "#2a3f5f",
                          "gridcolor": "white",
                          "linecolor": "white",
                          "minorgridcolor": "white",
                          "startlinecolor": "#2a3f5f"
                        },
                        "type": "carpet"
                      }
                    ],
                    "choropleth": [
                      {
                        "colorbar": {
                          "outlinewidth": 0,
                          "ticks": ""
                        },
                        "type": "choropleth"
                      }
                    ],
                    "contour": [
                      {
                        "colorbar": {
                          "outlinewidth": 0,
                          "ticks": ""
                        },
                        "colorscale": [
                          [
                            0,
                            "#0d0887"
                          ],
                          [
                            0.1111111111111111,
                            "#46039f"
                          ],
                          [
                            0.2222222222222222,
                            "#7201a8"
                          ],
                          [
                            0.3333333333333333,
                            "#9c179e"
                          ],
                          [
                            0.4444444444444444,
                            "#bd3786"
                          ],
                          [
                            0.5555555555555556,
                            "#d8576b"
                          ],
                          [
                            0.6666666666666666,
                            "#ed7953"
                          ],
                          [
                            0.7777777777777778,
                            "#fb9f3a"
                          ],
                          [
                            0.8888888888888888,
                            "#fdca26"
                          ],
                          [
                            1,
                            "#f0f921"
                          ]
                        ],
                        "type": "contour"
                      }
                    ],
                    "contourcarpet": [
                      {
                        "colorbar": {
                          "outlinewidth": 0,
                          "ticks": ""
                        },
                        "type": "contourcarpet"
                      }
                    ],
                    "heatmap": [
                      {
                        "colorbar": {
                          "outlinewidth": 0,
                          "ticks": ""
                        },
                        "colorscale": [
                          [
                            0,
                            "#0d0887"
                          ],
                          [
                            0.1111111111111111,
                            "#46039f"
                          ],
                          [
                            0.2222222222222222,
                            "#7201a8"
                          ],
                          [
                            0.3333333333333333,
                            "#9c179e"
                          ],
                          [
                            0.4444444444444444,
                            "#bd3786"
                          ],
                          [
                            0.5555555555555556,
                            "#d8576b"
                          ],
                          [
                            0.6666666666666666,
                            "#ed7953"
                          ],
                          [
                            0.7777777777777778,
                            "#fb9f3a"
                          ],
                          [
                            0.8888888888888888,
                            "#fdca26"
                          ],
                          [
                            1,
                            "#f0f921"
                          ]
                        ],
                        "type": "heatmap"
                      }
                    ],
                    "heatmapgl": [
                      {
                        "colorbar": {
                          "outlinewidth": 0,
                          "ticks": ""
                        },
                        "colorscale": [
                          [
                            0,
                            "#0d0887"
                          ],
                          [
                            0.1111111111111111,
                            "#46039f"
                          ],
                          [
                            0.2222222222222222,
                            "#7201a8"
                          ],
                          [
                            0.3333333333333333,
                            "#9c179e"
                          ],
                          [
                            0.4444444444444444,
                            "#bd3786"
                          ],
                          [
                            0.5555555555555556,
                            "#d8576b"
                          ],
                          [
                            0.6666666666666666,
                            "#ed7953"
                          ],
                          [
                            0.7777777777777778,
                            "#fb9f3a"
                          ],
                          [
                            0.8888888888888888,
                            "#fdca26"
                          ],
                          [
                            1,
                            "#f0f921"
                          ]
                        ],
                        "type": "heatmapgl"
                      }
                    ],
                    "histogram": [
                      {
                        "marker": {
                          "pattern": {
                            "fillmode": "overlay",
                            "size": 10,
                            "solidity": 0.2
                          }
                        },
                        "type": "histogram"
                      }
                    ],
                    "histogram2d": [
                      {
                        "colorbar": {
                          "outlinewidth": 0,
                          "ticks": ""
                        },
                        "colorscale": [
                          [
                            0,
                            "#0d0887"
                          ],
                          [
                            0.1111111111111111,
                            "#46039f"
                          ],
                          [
                            0.2222222222222222,
                            "#7201a8"
                          ],
                          [
                            0.3333333333333333,
                            "#9c179e"
                          ],
                          [
                            0.4444444444444444,
                            "#bd3786"
                          ],
                          [
                            0.5555555555555556,
                            "#d8576b"
                          ],
                          [
                            0.6666666666666666,
                            "#ed7953"
                          ],
                          [
                            0.7777777777777778,
                            "#fb9f3a"
                          ],
                          [
                            0.8888888888888888,
                            "#fdca26"
                          ],
                          [
                            1,
                            "#f0f921"
                          ]
                        ],
                        "type": "histogram2d"
                      }
                    ],
                    "histogram2dcontour": [
                      {
                        "colorbar": {
                          "outlinewidth": 0,
                          "ticks": ""
                        },
                        "colorscale": [
                          [
                            0,
                            "#0d0887"
                          ],
                          [
                            0.1111111111111111,
                            "#46039f"
                          ],
                          [
                            0.2222222222222222,
                            "#7201a8"
                          ],
                          [
                            0.3333333333333333,
                            "#9c179e"
                          ],
                          [
                            0.4444444444444444,
                            "#bd3786"
                          ],
                          [
                            0.5555555555555556,
                            "#d8576b"
                          ],
                          [
                            0.6666666666666666,
                            "#ed7953"
                          ],
                          [
                            0.7777777777777778,
                            "#fb9f3a"
                          ],
                          [
                            0.8888888888888888,
                            "#fdca26"
                          ],
                          [
                            1,
                            "#f0f921"
                          ]
                        ],
                        "type": "histogram2dcontour"
                      }
                    ],
                    "mesh3d": [
                      {
                        "colorbar": {
                          "outlinewidth": 0,
                          "ticks": ""
                        },
                        "type": "mesh3d"
                      }
                    ],
                    "parcoords": [
                      {
                        "line": {
                          "colorbar": {
                            "outlinewidth": 0,
                            "ticks": ""
                          }
                        },
                        "type": "parcoords"
                      }
                    ],
                    "pie": [
                      {
                        "automargin": true,
                        "type": "pie"
                      }
                    ],
                    "scatter": [
                      {
                        "fillpattern": {
                          "fillmode": "overlay",
                          "size": 10,
                          "solidity": 0.2
                        },
                        "type": "scatter"
                      }
                    ],
                    "scatter3d": [
                      {
                        "line": {
                          "colorbar": {
                            "outlinewidth": 0,
                            "ticks": ""
                          }
                        },
                        "marker": {
                          "colorbar": {
                            "outlinewidth": 0,
                            "ticks": ""
                          }
                        },
                        "type": "scatter3d"
                      }
                    ],
                    "scattercarpet": [
                      {
                        "marker": {
                          "colorbar": {
                            "outlinewidth": 0,
                            "ticks": ""
                          }
                        },
                        "type": "scattercarpet"
                      }
                    ],
                    "scattergeo": [
                      {
                        "marker": {
                          "colorbar": {
                            "outlinewidth": 0,
                            "ticks": ""
                          }
                        },
                        "type": "scattergeo"
                      }
                    ],
                    "scattergl": [
                      {
                        "marker": {
                          "colorbar": {
                            "outlinewidth": 0,
                            "ticks": ""
                          }
                        },
                        "type": "scattergl"
                      }
                    ],
                    "scattermapbox": [
                      {
                        "marker": {
                          "colorbar": {
                            "outlinewidth": 0,
                            "ticks": ""
                          }
                        },
                        "type": "scattermapbox"
                      }
                    ],
                    "scatterpolar": [
                      {
                        "marker": {
                          "colorbar": {
                            "outlinewidth": 0,
                            "ticks": ""
                          }
                        },
                        "type": "scatterpolar"
                      }
                    ],
                    "scatterpolargl": [
                      {
                        "marker": {
                          "colorbar": {
                            "outlinewidth": 0,
                            "ticks": ""
                          }
                        },
                        "type": "scatterpolargl"
                      }
                    ],
                    "scatterternary": [
                      {
                        "marker": {
                          "colorbar": {
                            "outlinewidth": 0,
                            "ticks": ""
                          }
                        },
                        "type": "scatterternary"
                      }
                    ],
                    "surface": [
                      {
                        "colorbar": {
                          "outlinewidth": 0,
                          "ticks": ""
                        },
                        "colorscale": [
                          [
                            0,
                            "#0d0887"
                          ],
                          [
                            0.1111111111111111,
                            "#46039f"
                          ],
                          [
                            0.2222222222222222,
                            "#7201a8"
                          ],
                          [
                            0.3333333333333333,
                            "#9c179e"
                          ],
                          [
                            0.4444444444444444,
                            "#bd3786"
                          ],
                          [
                            0.5555555555555556,
                            "#d8576b"
                          ],
                          [
                            0.6666666666666666,
                            "#ed7953"
                          ],
                          [
                            0.7777777777777778,
                            "#fb9f3a"
                          ],
                          [
                            0.8888888888888888,
                            "#fdca26"
                          ],
                          [
                            1,
                            "#f0f921"
                          ]
                        ],
                        "type": "surface"
                      }
                    ],
                    "table": [
                      {
                        "cells": {
                          "fill": {
                            "color": "#EBF0F8"
                          },
                          "line": {
                            "color": "white"
                          }
                        },
                        "header": {
                          "fill": {
                            "color": "#C8D4E3"
                          },
                          "line": {
                            "color": "white"
                          }
                        },
                        "type": "table"
                      }
                    ]
                  },
                  "layout": {
                    "annotationdefaults": {
                      "arrowcolor": "#2a3f5f",
                      "arrowhead": 0,
                      "arrowwidth": 1
                    },
                    "autotypenumbers": "strict",
                    "coloraxis": {
                      "colorbar": {
                        "outlinewidth": 0,
                        "ticks": ""
                      }
                    },
                    "colorscale": {
                      "diverging": [
                        [
                          0,
                          "#8e0152"
                        ],
                        [
                          0.1,
                          "#c51b7d"
                        ],
                        [
                          0.2,
                          "#de77ae"
                        ],
                        [
                          0.3,
                          "#f1b6da"
                        ],
                        [
                          0.4,
                          "#fde0ef"
                        ],
                        [
                          0.5,
                          "#f7f7f7"
                        ],
                        [
                          0.6,
                          "#e6f5d0"
                        ],
                        [
                          0.7,
                          "#b8e186"
                        ],
                        [
                          0.8,
                          "#7fbc41"
                        ],
                        [
                          0.9,
                          "#4d9221"
                        ],
                        [
                          1,
                          "#276419"
                        ]
                      ],
                      "sequential": [
                        [
                          0,
                          "#0d0887"
                        ],
                        [
                          0.1111111111111111,
                          "#46039f"
                        ],
                        [
                          0.2222222222222222,
                          "#7201a8"
                        ],
                        [
                          0.3333333333333333,
                          "#9c179e"
                        ],
                        [
                          0.4444444444444444,
                          "#bd3786"
                        ],
                        [
                          0.5555555555555556,
                          "#d8576b"
                        ],
                        [
                          0.6666666666666666,
                          "#ed7953"
                        ],
                        [
                          0.7777777777777778,
                          "#fb9f3a"
                        ],
                        [
                          0.8888888888888888,
                          "#fdca26"
                        ],
                        [
                          1,
                          "#f0f921"
                        ]
                      ],
                      "sequentialminus": [
                        [
                          0,
                          "#0d0887"
                        ],
                        [
                          0.1111111111111111,
                          "#46039f"
                        ],
                        [
                          0.2222222222222222,
                          "#7201a8"
                        ],
                        [
                          0.3333333333333333,
                          "#9c179e"
                        ],
                        [
                          0.4444444444444444,
                          "#bd3786"
                        ],
                        [
                          0.5555555555555556,
                          "#d8576b"
                        ],
                        [
                          0.6666666666666666,
                          "#ed7953"
                        ],
                        [
                          0.7777777777777778,
                          "#fb9f3a"
                        ],
                        [
                          0.8888888888888888,
                          "#fdca26"
                        ],
                        [
                          1,
                          "#f0f921"
                        ]
                      ]
                    },
                    "colorway": [
                      "#636efa",
                      "#EF553B",
                      "#00cc96",
                      "#ab63fa",
                      "#FFA15A",
                      "#19d3f3",
                      "#FF6692",
                      "#B6E880",
                      "#FF97FF",
                      "#FECB52"
                    ],
                    "font": {
                      "color": "#2a3f5f"
                    },
                    "geo": {
                      "bgcolor": "white",
                      "lakecolor": "white",
                      "landcolor": "#E5ECF6",
                      "showlakes": true,
                      "showland": true,
                      "subunitcolor": "white"
                    },
                    "hoverlabel": {
                      "align": "left"
                    },
                    "hovermode": "closest",
                    "mapbox": {
                      "style": "light"
                    },
                    "paper_bgcolor": "white",
                    "plot_bgcolor": "#E5ECF6",
                    "polar": {
                      "angularaxis": {
                        "gridcolor": "white",
                        "linecolor": "white",
                        "ticks": ""
                      },
                      "bgcolor": "#E5ECF6",
                      "radialaxis": {
                        "gridcolor": "white",
                        "linecolor": "white",
                        "ticks": ""
                      }
                    },
                    "scene": {
                      "xaxis": {
                        "backgroundcolor": "#E5ECF6",
                        "gridcolor": "white",
                        "gridwidth": 2,
                        "linecolor": "white",
                        "showbackground": true,
                        "ticks": "",
                        "zerolinecolor": "white"
                      },
                      "yaxis": {
                        "backgroundcolor": "#E5ECF6",
                        "gridcolor": "white",
                        "gridwidth": 2,
                        "linecolor": "white",
                        "showbackground": true,
                        "ticks": "",
                        "zerolinecolor": "white"
                      },
                      "zaxis": {
                        "backgroundcolor": "#E5ECF6",
                        "gridcolor": "white",
                        "gridwidth": 2,
                        "linecolor": "white",
                        "showbackground": true,
                        "ticks": "",
                        "zerolinecolor": "white"
                      }
                    },
                    "shapedefaults": {
                      "line": {
                        "color": "#2a3f5f"
                      }
                    },
                    "ternary": {
                      "aaxis": {
                        "gridcolor": "white",
                        "linecolor": "white",
                        "ticks": ""
                      },
                      "baxis": {
                        "gridcolor": "white",
                        "linecolor": "white",
                        "ticks": ""
                      },
                      "bgcolor": "#E5ECF6",
                      "caxis": {
                        "gridcolor": "white",
                        "linecolor": "white",
                        "ticks": ""
                      }
                    },
                    "title": {
                      "x": 0.05
                    },
                    "xaxis": {
                      "automargin": true,
                      "gridcolor": "white",
                      "linecolor": "white",
                      "ticks": "",
                      "title": {
                        "standoff": 15
                      },
                      "zerolinecolor": "white",
                      "zerolinewidth": 2
                    },
                    "yaxis": {
                      "automargin": true,
                      "gridcolor": "white",
                      "linecolor": "white",
                      "ticks": "",
                      "title": {
                        "standoff": 15
                      },
                      "zerolinecolor": "white",
                      "zerolinewidth": 2
                    }
                  }
                },
                "title": {
                  "text": "Interactive Correlation Heatmap"
                },
                "xaxis": {
                  "anchor": "y",
                  "domain": [
                    0,
                    1
                  ]
                },
                "yaxis": {
                  "anchor": "x",
                  "autorange": "reversed",
                  "domain": [
                    0,
                    1
                  ]
                }
              }
            }
          },
          "metadata": {},
          "output_type": "display_data"
        }
      ],
      "source": [
        "\n",
        "# ===========================================================\n",
        "# 8. Correlation Matrix & Heatmap (Seaborn for static, Plotly for interactive)\n",
        "# ===========================================================\n",
        "numeric_df = df.select_dtypes(include=[np.number])  # avoid errors with non-numeric columns\n",
        "plt.figure(figsize=(10,6))\n",
        "sns.heatmap(numeric_df.corr(), annot=True, cmap=\"coolwarm\", fmt=\".2f\")\n",
        "plt.title(\"Correlation Heatmap of Numerical Variables\")\n",
        "plt.show()\n",
        "\n",
        "# Interactive Correlation Heatmap\n",
        "fig = px.imshow(numeric_df.corr(), text_auto=True, aspect=\"auto\",\n",
        "                title=\"Interactive Correlation Heatmap\")\n",
        "fig.show()\n",
        "\n",
        "# Interpretation:\n",
        "#     Boxplots reveal several outliers across teams and days.\n",
        "#     Some teams (with fewer workers) show very low productivity.\n",
        "#     Certain days (like weekends, depending on your day-wise plot) might have lower averages.\n",
        "#     Quarters 3 and 4 show more spread and lower median productivity.\n"
      ]
    },
    {
      "cell_type": "code",
      "execution_count": 13,
      "id": "5bfdafd8",
      "metadata": {},
      "outputs": [
        {
          "name": "stdout",
          "output_type": "stream",
          "text": [
            "\n",
            "Average Actual Productivity: 0.735\n",
            "Average Target Productivity: 0.730\n",
            "Correlation between Productivity and Incentives: 0.077\n",
            "Correlation between Productivity and Overtime: -0.054\n"
          ]
        }
      ],
      "source": [
        "\n",
        "# ===========================================================\n",
        "# 9. Check if targets are met & correlations with incentive and overtime\n",
        "# ===========================================================\n",
        "mean_actual = df['actual_productivity'].mean()\n",
        "mean_target = df['targeted_productivity'].mean()\n",
        "print(f\"\\nAverage Actual Productivity: {mean_actual:.3f}\")\n",
        "print(f\"Average Target Productivity: {mean_target:.3f}\")\n",
        "\n",
        "corr_incentive = df[['actual_productivity','incentive']].corr().iloc[0,1]\n",
        "corr_overtime = df[['actual_productivity','over_time']].corr().iloc[0,1]\n",
        "print(f\"Correlation between Productivity and Incentives: {corr_incentive:.3f}\")\n",
        "print(f\"Correlation between Productivity and Overtime: {corr_overtime:.3f}\")\n",
        "\n",
        "# From the summary & plots:\n",
        "#     Target vs. Actual: The mean actual productivity (0.735) is slightly below the mean target (0.73-0.8), indicating targets are nearly met but not consistently.\n",
        "#     Incentives: Many incentive values are zero; high incentives are rare and not strongly correlated with productivity.\n",
        "#     Overtime: High overtime values exist, but without strong positive effect on productivity (correlation is weak).\n",
        "\n",
        "# Conclusion: The company is close to meeting targets, but incentives and overtime do not appear to effectively boost productivity."
      ]
    },
    {
      "cell_type": "code",
      "execution_count": 14,
      "id": "ec9a90d8",
      "metadata": {},
      "outputs": [
        {
          "name": "stdout",
          "output_type": "stream",
          "text": [
            "\n",
            "Correlation (Actual vs Target) by Quarter:\n",
            "Quarter1    0.492779\n",
            "Quarter2    0.427164\n",
            "Quarter3    0.392637\n",
            "Quarter4    0.347594\n",
            "Quarter5    0.479972\n",
            "dtype: float64\n",
            "\n",
            "Correlation (Actual vs Target) by Department:\n",
            "finishing    0.09751\n",
            "sewing       0.69797\n",
            "dtype: float64\n"
          ]
        }
      ],
      "source": [
        "\n",
        "# ===========================================================\n",
        "# 10. Correlation between actual and target productivity by quarter & department\n",
        "# ===========================================================\n",
        "# Using dictionary comprehension to avoid warnings\n",
        "quarter_corr = pd.Series({\n",
        "    q: g['actual_productivity'].corr(g['targeted_productivity'])\n",
        "    for q, g in df.groupby('quarter')\n",
        "})\n",
        "\n",
        "dept_corr = pd.Series({\n",
        "    d: g['actual_productivity'].corr(g['targeted_productivity'])\n",
        "    for d, g in df.groupby('department')\n",
        "})\n",
        "\n",
        "print(\"\\nCorrelation (Actual vs Target) by Quarter:\")\n",
        "print(quarter_corr)\n",
        "print(\"\\nCorrelation (Actual vs Target) by Department:\")\n",
        "print(dept_corr)\n",
        "\n",
        "# Quarter-wise & Department-wise correlations:\n",
        "#     Expectation: Positive correlation, but likely varies by quarter.\n",
        "#     Your output likely showed moderate positive correlations.\n",
        "\n",
        "\n",
        "# Conclusion: Actual productivity tracks target productivity but not perfectly; in some quarters/departments, targets are not a strong predictor of performance."
      ]
    },
    {
      "cell_type": "code",
      "execution_count": 15,
      "id": "ccabfe69",
      "metadata": {},
      "outputs": [
        {
          "name": "stdout",
          "output_type": "stream",
          "text": [
            "\n",
            "Variables correlated with Actual Productivity:\n",
            "actual_productivity      1.000000\n",
            "targeted_productivity    0.421594\n",
            "wip                      0.131147\n",
            "incentive                0.076538\n",
            "over_time               -0.054206\n",
            "no_of_workers           -0.057991\n",
            "idle_time               -0.080851\n",
            "smv                     -0.122089\n",
            "team                    -0.148753\n",
            "idle_men                -0.181734\n",
            "no_of_style_change      -0.207366\n",
            "Name: actual_productivity, dtype: float64\n",
            "\n",
            "Observation: Variables with higher correlations (positive or negative) appear to influence productivity the most.\n"
          ]
        }
      ],
      "source": [
        "\n",
        "# ===========================================================\n",
        "# 11. Factors likely affecting productivity (only numeric columns)\n",
        "# ===========================================================\n",
        "factor_corr = numeric_df.corr()['actual_productivity'].sort_values(ascending=False)\n",
        "print(\"\\nVariables correlated with Actual Productivity:\")\n",
        "print(factor_corr)\n",
        "print(\"\\nObservation: Variables with higher correlations (positive or negative) appear to influence productivity the most.\")\n",
        "\n",
        "# From correlation heatmap:\n",
        "\n",
        "#     Factors positively influencing productivity: targeted_productivity, number_of_workers (to a point).\n",
        "\n",
        "#     Weak/negative factors: overtime (high values do not imply higher productivity), idle_time, idle_men.\n",
        "\n",
        "#     Department and quarter also matter.\n",
        "\n",
        "# Conclusion: Productivity is mainly driven by targets, workforce size, department type, and partially by scheduling factors like the quarter."
      ]
    },
    {
      "cell_type": "markdown",
      "id": "f2dea8fc",
      "metadata": {
        "id": "f2dea8fc"
      },
      "source": [
        "Hypothesis Testing\n",
        "\n",
        "12. Test using Z test (take a random sample of more than 30 and assume sigma =.1) whether the finishing department has achieved more acheived producitivity than .75 for a standard deviation of .1. State your null and alternative hypothesis. alpha value is .05\n",
        "\n",
        "13. Test using Z test(take a random sample of more than 30 and assume sigma =.1) whether the sewing department has achieved more producitivit than .75 for a standard deviation of .1. State your null and alternative hypothesis. alpha value is .05.\n",
        "\n",
        "14. Conduct a two sample t test (take a random sample more than 30) to check whether the finishing department has achieved more actual productivtiy than sewing     department. State your null and alternative hypothesis\n",
        "\n",
        "15. Conduct a two sample t (take a random sample less than 30) test to check whether the finishing department has achieved obtained higher incentive than sewing department, state your null and alternative hypothesis. In case test fails for normality check, then take a sample more than 30.\n",
        "\n",
        "16. The manager has asked you to classifiy low productivity as less than .5, medium between .5 and less than .75 and higher\n",
        "    as greater than or equal to .75. He believes that the percentage of  actual producvity  in  sewing departemnt for   \n",
        "    person classified as low is 30%, for medium is 40% and for high is 30%. USing chi square test can you prove whether his\n",
        "    hypothesis is right or not\n",
        "\n",
        "17. Based on the EDA analysis the manager has decided to find out whether different quarters are having an impact on actual productivity. Assuming normality of data conduct an analysis accordingly Conduct an ANOVA for comparing productivity for Quarter1, Quarter2, Quarter3, Quarter 4 and accordingly conclude (Assume data is normally distributed)\n",
        "\n",
        "18. In case the manager is interested whether day and quarters have an impact on actual producitivity, provide an analysis and identify which factors play a role in affecting productivty\n",
        "\n",
        "19. Based on 17 eliminate one of the variabes which is not significant and reconduct analysis using deparment as another variable, what do you conclude.\n",
        "\n",
        "20. Based on EDA and Hypothesis would you aggree or disaggree with the finding, also in addition summarize the findings based on both analysis and provide a recommendation on what you can thinking on improving the producitivity.\n"
      ]
    },
    {
      "cell_type": "code",
      "execution_count": 16,
      "id": "64e80ea3",
      "metadata": {},
      "outputs": [],
      "source": [
        "# ===========================================================\n",
        "# Hypothesis Testing\n",
        "# ===========================================================\n",
        "\n",
        "alpha = 0.05  # significance level\n",
        "sigma = 0.1   # population standard deviation assumed for Z-tests\n"
      ]
    },
    {
      "cell_type": "code",
      "execution_count": 17,
      "id": "a647f8c1",
      "metadata": {},
      "outputs": [
        {
          "name": "stdout",
          "output_type": "stream",
          "text": [
            "\n",
            "[Q12] Z-Test for Finishing Department > 0.75\n",
            "Sample Mean = 0.764, Z-statistic = 0.867, p-value = 0.1929\n",
            "Fail to Reject H0: No evidence that productivity is > 0.75\n"
          ]
        }
      ],
      "source": [
        "\n",
        "# ===========================================================\n",
        "# 12. Z-Test: Finishing department mean productivity > 0.75\n",
        "# ===========================================================\n",
        "finishing_sample = df[df['department'] == 'finishing']['actual_productivity'].dropna().sample(40, random_state=42)\n",
        "sample_mean = finishing_sample.mean()\n",
        "n = len(finishing_sample)\n",
        "z_stat = (sample_mean - 0.75) / (sigma / np.sqrt(n))\n",
        "p_value = 1 - stats.norm.cdf(z_stat)\n",
        "\n",
        "print(\"\\n[Q12] Z-Test for Finishing Department > 0.75\")\n",
        "print(f\"Sample Mean = {sample_mean:.3f}, Z-statistic = {z_stat:.3f}, p-value = {p_value:.4f}\")\n",
        "if p_value < alpha:\n",
        "    print(\"Reject H0: Finishing department productivity is significantly > 0.75\")\n",
        "else:\n",
        "    print(\"Fail to Reject H0: No evidence that productivity is > 0.75\")\n",
        "\n",
        "# Based on your test (mean ~0.753), likely fail to reject H0 — no strong evidence finishing exceeds 0.75 significantly."
      ]
    },
    {
      "cell_type": "code",
      "execution_count": 18,
      "id": "72a43518",
      "metadata": {},
      "outputs": [
        {
          "name": "stdout",
          "output_type": "stream",
          "text": [
            "\n",
            "[Q13] Z-Test for Sewing Department > 0.75\n",
            "Sample Mean = 0.717, Z-statistic = -2.065, p-value = 0.9805\n",
            "Fail to Reject H0: No evidence that productivity is > 0.75\n"
          ]
        }
      ],
      "source": [
        "\n",
        "# ===========================================================\n",
        "# 13. Z-Test: Sewing department mean productivity > 0.75\n",
        "# ===========================================================\n",
        "sewing_sample = df[df['department'] == 'sewing']['actual_productivity'].dropna().sample(40, random_state=42)\n",
        "sample_mean = sewing_sample.mean()\n",
        "n = len(sewing_sample)\n",
        "z_stat = (sample_mean - 0.75) / (sigma / np.sqrt(n))\n",
        "p_value = 1 - stats.norm.cdf(z_stat)\n",
        "\n",
        "print(\"\\n[Q13] Z-Test for Sewing Department > 0.75\")\n",
        "print(f\"Sample Mean = {sample_mean:.3f}, Z-statistic = {z_stat:.3f}, p-value = {p_value:.4f}\")\n",
        "if p_value < alpha:\n",
        "    print(\"Reject H0: Sewing department productivity is significantly > 0.75\")\n",
        "else:\n",
        "    print(\"Fail to Reject H0: No evidence that productivity is > 0.75\")\n",
        "\n"
      ]
    },
    {
      "cell_type": "code",
      "execution_count": 19,
      "id": "19b3ffde",
      "metadata": {},
      "outputs": [
        {
          "name": "stdout",
          "output_type": "stream",
          "text": [
            "\n",
            "[Q14] Two-Sample T-Test (Finishing > Sewing)\n",
            "T-statistic = 0.243, p-value = 0.4042\n",
            "Fail to Reject H0: No evidence Finishing > Sewing\n"
          ]
        }
      ],
      "source": [
        "\n",
        "# ===========================================================\n",
        "# 14. Two-Sample T-Test: Finishing vs Sewing productivity\n",
        "# ===========================================================\n",
        "finishing_prod = df[df['department'] == 'finishing']['actual_productivity'].dropna().sample(40, random_state=1)\n",
        "sewing_prod = df[df['department'] == 'sewing']['actual_productivity'].dropna().sample(40, random_state=1)\n",
        "\n",
        "t_stat, p_value = stats.ttest_ind(finishing_prod, sewing_prod, equal_var=False)\n",
        "\n",
        "print(\"\\n[Q14] Two-Sample T-Test (Finishing > Sewing)\")\n",
        "print(f\"T-statistic = {t_stat:.3f}, p-value = {p_value/2:.4f}\")\n",
        "if (p_value/2 < alpha) and (t_stat > 0):\n",
        "    print(\"Reject H0: Finishing has significantly higher productivity than Sewing\")\n",
        "else:\n",
        "    print(\"Fail to Reject H0: No evidence Finishing > Sewing\")\n"
      ]
    },
    {
      "cell_type": "code",
      "execution_count": 20,
      "id": "c39acfdd",
      "metadata": {},
      "outputs": [
        {
          "name": "stdout",
          "output_type": "stream",
          "text": [
            "\n",
            "[Q15] Two-Sample T-Test (Incentives, n<30)\n",
            "T-statistic = -8.296, p-value = 0.0000\n",
            "Fail to Reject H0: No evidence Finishing > Sewing in incentives\n"
          ]
        }
      ],
      "source": [
        "# ===========================================================\n",
        "# 15. Two-Sample T-Test (Incentives): Small sample (<30) with variance check\n",
        "# ===========================================================\n",
        "finishing_incentive = df[df['department'] == 'finishing']['incentive'].dropna().sample(25, random_state=2)\n",
        "sewing_incentive = df[df['department'] == 'sewing']['incentive'].dropna().sample(25, random_state=2)\n",
        "\n",
        "# Check variance before running Shapiro to avoid warnings\n",
        "def safe_shapiro(data):\n",
        "    if np.var(data) == 0:\n",
        "        return 1.0  # treat as normal (no evidence to reject)\n",
        "    return stats.shapiro(data)[1]\n",
        "\n",
        "shapiro_f = safe_shapiro(finishing_incentive)\n",
        "shapiro_s = safe_shapiro(sewing_incentive)\n",
        "\n",
        "if shapiro_f > alpha and shapiro_s > alpha:\n",
        "    # Both samples normal -> proceed with small sample t-test\n",
        "    t_stat, p_value = stats.ttest_ind(finishing_incentive, sewing_incentive, equal_var=False)\n",
        "    print(\"\\n[Q15] Two-Sample T-Test (Incentives, n<30)\")\n",
        "else:\n",
        "    # Normality failed OR variance was zero -> use larger sample\n",
        "    finishing_incentive = df[df['department'] == 'finishing']['incentive'].dropna().sample(40, random_state=3)\n",
        "    sewing_incentive = df[df['department'] == 'sewing']['incentive'].dropna().sample(40, random_state=3)\n",
        "    t_stat, p_value = stats.ttest_ind(finishing_incentive, sewing_incentive, equal_var=False)\n",
        "    print(\"\\n[Q15] Normality failed or low variance detected. Using larger sample (n>30) for T-Test (Incentives)\")\n",
        "\n",
        "print(f\"T-statistic = {t_stat:.3f}, p-value = {p_value/2:.4f}\")\n",
        "if (p_value/2 < alpha) and (t_stat > 0):\n",
        "    print(\"Reject H0: Finishing has significantly higher incentives than Sewing\")\n",
        "else:\n",
        "    print(\"Fail to Reject H0: No evidence Finishing > Sewing in incentives\")\n",
        "\n",
        "# No evidence finishing gives higher incentives than sewing."
      ]
    },
    {
      "cell_type": "code",
      "execution_count": 21,
      "id": "8f70b0f0",
      "metadata": {},
      "outputs": [
        {
          "name": "stdout",
          "output_type": "stream",
          "text": [
            "\n",
            "[Q16] Chi-Square Test for Sewing Department Productivity Distribution\n",
            "Chi-Square Statistic = 277.594, p-value = 0.0000\n",
            "Reject H0: The observed distribution does not match manager's expectation\n"
          ]
        }
      ],
      "source": [
        "\n",
        "# ===========================================================\n",
        "# 16. Chi-Square Test for productivity distribution in Sewing\n",
        "# ===========================================================\n",
        "# Classify productivity\n",
        "df['prod_category'] = pd.cut(df['actual_productivity'], bins=[0,0.5,0.75,1], labels=['Low','Medium','High'])\n",
        "\n",
        "observed = df[df['department'] == 'sewing']['prod_category'].value_counts().reindex(['Low','Medium','High'], fill_value=0)\n",
        "expected_ratio = np.array([0.3,0.4,0.3]) * observed.sum()\n",
        "chi_stat, p_value = stats.chisquare(f_obs=observed, f_exp=expected_ratio)\n",
        "\n",
        "print(\"\\n[Q16] Chi-Square Test for Sewing Department Productivity Distribution\")\n",
        "print(f\"Chi-Square Statistic = {chi_stat:.3f}, p-value = {p_value:.4f}\")\n",
        "if p_value < alpha:\n",
        "    print(\"Reject H0: The observed distribution does not match manager's expectation\")\n",
        "else:\n",
        "    print(\"Fail to Reject H0: Observed distribution aligns with manager's belief\")\n",
        "\n",
        "# Hypotheses:\n",
        "#     H0: Observed distribution = Expected distribution (30%-40%-30%)\n",
        "#     H1: Observed ≠ Expected\n",
        "\n",
        "# Conclusion: If p < 0.05, reject H0 -> Manager's assumption is incorrect. "
      ]
    },
    {
      "cell_type": "code",
      "execution_count": 22,
      "id": "aeef4318",
      "metadata": {},
      "outputs": [
        {
          "name": "stdout",
          "output_type": "stream",
          "text": [
            "\n",
            "[Q17] ANOVA: Effect of Quarters on Productivity\n",
            "F-statistic = 7.112, p-value = 0.0000\n",
            "Reject H0: Productivity differs significantly across quarters\n"
          ]
        }
      ],
      "source": [
        "\n",
        "# ===========================================================\n",
        "# 17. ANOVA: Comparing productivity across Quarters\n",
        "# ===========================================================\n",
        "groups = [g['actual_productivity'].dropna() for _, g in df.groupby('quarter')]\n",
        "f_stat, p_value = f_oneway(*groups)\n",
        "\n",
        "print(\"\\n[Q17] ANOVA: Effect of Quarters on Productivity\")\n",
        "print(f\"F-statistic = {f_stat:.3f}, p-value = {p_value:.4f}\")\n",
        "if p_value < alpha:\n",
        "    print(\"Reject H0: Productivity differs significantly across quarters\")\n",
        "else:\n",
        "    print(\"Fail to Reject H0: No significant difference between quarters\")\n",
        "\n",
        "# p > 0.05 for some tests -> Quarters have some effect, but not very strong. Q1 > Q3/Q4."
      ]
    },
    {
      "cell_type": "code",
      "execution_count": 23,
      "id": "280b46f8",
      "metadata": {},
      "outputs": [
        {
          "name": "stdout",
          "output_type": "stream",
          "text": [
            "\n",
            "[Q18] Two-Way ANOVA (separate tests using SciPy f_oneway):\n",
            "Day Effect: F-statistic = 0.712, p-value = 0.6144\n",
            "Quarter Effect: F-statistic = 7.112, p-value = 0.0000\n",
            "Conclusion: Day has no significant effect on productivity.\n",
            "Conclusion: Quarter has a significant effect on productivity.\n"
          ]
        }
      ],
      "source": [
        "# ===========================================================\n",
        "# 18. Two-Way ANOVA: Effect of Day and Quarter on Productivity\n",
        "# (using SciPy f_oneway with clear variable names)\n",
        "# ===========================================================\n",
        "\n",
        "# Test effect of Day\n",
        "day_groups = [group['actual_productivity'].dropna() for day_name, group in df.groupby('day')]\n",
        "f_day, p_day = f_oneway(*day_groups)\n",
        "\n",
        "# Test effect of Quarter\n",
        "quarter_groups = [group['actual_productivity'].dropna() for quarter_id, group in df.groupby('quarter')]\n",
        "f_quarter, p_quarter = f_oneway(*quarter_groups)\n",
        "\n",
        "print(\"\\n[Q18] Two-Way ANOVA (separate tests using SciPy f_oneway):\")\n",
        "print(f\"Day Effect: F-statistic = {f_day:.3f}, p-value = {p_day:.4f}\")\n",
        "print(f\"Quarter Effect: F-statistic = {f_quarter:.3f}, p-value = {p_quarter:.4f}\")\n",
        "\n",
        "if p_day < alpha:\n",
        "    print(\"Conclusion: Day has a significant effect on productivity.\")\n",
        "else:\n",
        "    print(\"Conclusion: Day has no significant effect on productivity.\")\n",
        "\n",
        "if p_quarter < alpha:\n",
        "    print(\"Conclusion: Quarter has a significant effect on productivity.\")\n",
        "else:\n",
        "    print(\"Conclusion: Quarter has no significant effect on productivity.\")\n",
        "\n",
        "# Neither day nor quarter strongly influence productivity."
      ]
    },
    {
      "cell_type": "code",
      "execution_count": 24,
      "id": "50c6b7ff",
      "metadata": {},
      "outputs": [
        {
          "name": "stdout",
          "output_type": "stream",
          "text": [
            "\n",
            "[Q19] ANOVA-like Test (Quarter & Department separately using SciPy):\n",
            "Quarter Effect: F = 7.112, p = 0.0000\n",
            "Department Effect: F = 9.246, p = 0.0024\n",
            "Quarter significantly affects productivity.\n",
            "Department significantly affects productivity (Finishing > Sewing).\n"
          ]
        }
      ],
      "source": [
        "# ===========================================================\n",
        "# 19. Two-Way ANOVA (Quarter and Department) without using ols\n",
        "# ===========================================================\n",
        "\n",
        "# Test effect of Quarter\n",
        "quarter_groups = [group['actual_productivity'].dropna() for _, group in df.groupby('quarter')]\n",
        "f_quarter, p_quarter = f_oneway(*quarter_groups)\n",
        "\n",
        "# Test effect of Department\n",
        "dept_groups = [group['actual_productivity'].dropna() for _, group in df.groupby('department')]\n",
        "f_dept, p_dept = f_oneway(*dept_groups)\n",
        "\n",
        "print(\"\\n[Q19] ANOVA-like Test (Quarter & Department separately using SciPy):\")\n",
        "print(f\"Quarter Effect: F = {f_quarter:.3f}, p = {p_quarter:.4f}\")\n",
        "print(f\"Department Effect: F = {f_dept:.3f}, p = {p_dept:.4f}\")\n",
        "\n",
        "if p_quarter < 0.05:\n",
        "    print(\"Quarter significantly affects productivity.\")\n",
        "else:\n",
        "    print(\"Quarter does not significantly affect productivity.\")\n",
        "\n",
        "if p_dept < 0.05:\n",
        "    print(\"Department significantly affects productivity (Finishing > Sewing).\")\n",
        "else:\n",
        "    print(\"Department does not significantly affect productivity.\")\n"
      ]
    },
    {
      "cell_type": "code",
      "execution_count": 25,
      "id": "f403a7a4",
      "metadata": {},
      "outputs": [],
      "source": [
        "\n",
        "# ===========================================================\n",
        "# 20. Summary & Recommendations\n",
        "# ===========================================================\n",
        "\n",
        "# Findings:\n",
        "#     Sewing underperforms compared to finishing.\n",
        "#     Incentives do not align well with productivity.\n",
        "#     Overtime is not improving output.\n",
        "#     Productivity is slightly below targets and varies across quarters.\n",
        "\n",
        "# Recommendations:\n",
        "#     Revise incentive structures to actually reward high productivity.\n",
        "#     Optimize overtime policies, as excess hours do not boost efficiency.\n",
        "#     Provide targeted support to sewing teams, where productivity lags.\n",
        "#     Improve planning in lower-performing quarters with better resource allocation.\n",
        "#     Focus on worker training and process improvements instead of just increasing hours."
      ]
    }
  ],
  "metadata": {
    "colab": {
      "provenance": []
    },
    "kernelspec": {
      "display_name": "base",
      "language": "python",
      "name": "python3"
    },
    "language_info": {
      "codemirror_mode": {
        "name": "ipython",
        "version": 3
      },
      "file_extension": ".py",
      "mimetype": "text/x-python",
      "name": "python",
      "nbconvert_exporter": "python",
      "pygments_lexer": "ipython3",
      "version": "3.12.7"
    }
  },
  "nbformat": 4,
  "nbformat_minor": 5
}
